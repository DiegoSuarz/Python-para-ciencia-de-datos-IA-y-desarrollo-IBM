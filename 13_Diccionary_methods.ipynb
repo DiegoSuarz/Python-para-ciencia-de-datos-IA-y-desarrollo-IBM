{
  "metadata": {
    "kernelspec": {
      "name": "python",
      "display_name": "Python (Pyodide)",
      "language": "python"
    },
    "language_info": {
      "codemirror_mode": {
        "name": "python",
        "version": 3
      },
      "file_extension": ".py",
      "mimetype": "text/x-python",
      "name": "python",
      "nbconvert_exporter": "python",
      "pygments_lexer": "ipython3",
      "version": "3.8"
    }
  },
  "nbformat_minor": 4,
  "nbformat": 4,
  "cells": [
    {
      "cell_type": "markdown",
      "source": "# Diccionarios",
      "metadata": {}
    },
    {
      "cell_type": "markdown",
      "source": "## Crear un Dictionario\t\nUn diccionario es un tipo de dato incorporado que representa una colección de pares clave-valor. Los diccionarios están encerrados en llaves {}.",
      "metadata": {}
    },
    {
      "cell_type": "code",
      "source": "dict_name = {} #Crea un diccionario vacío\nperson = { \"name\": \"John\",  \"age\": 30, \"city\": \"New York\"}\nperson",
      "metadata": {
        "trusted": true
      },
      "outputs": [
        {
          "execution_count": 3,
          "output_type": "execute_result",
          "data": {
            "text/plain": "{'name': 'John', 'age': 30, 'city': 'New York'}"
          },
          "metadata": {}
        }
      ],
      "execution_count": 3
    },
    {
      "cell_type": "markdown",
      "source": "## Accessing Values\t\nPuedes acceder a los valores en un diccionario usando sus correspondientes keys.\n\nSintaxis:\n\n<code>Value = dict_name[\"key_name\"]<code>",
      "metadata": {}
    },
    {
      "cell_type": "code",
      "source": "name = person[\"name\"]\nage = person[\"age\"]\n\nname,age",
      "metadata": {
        "trusted": true
      },
      "outputs": [
        {
          "execution_count": 7,
          "output_type": "execute_result",
          "data": {
            "text/plain": "('John', 30)"
          },
          "metadata": {}
        }
      ],
      "execution_count": 7
    },
    {
      "cell_type": "markdown",
      "source": "## Add or modify\n\nInserta un nuevo par clave-valor en el diccionario. Si la clave ya existe, el valor se actualizará; de lo contrario, se crea una nueva entrada.\n\nSintaxis:\n\n<code>dict_name[key] = value<code>",
      "metadata": {}
    },
    {
      "cell_type": "code",
      "source": "person[\"Country\"] = \"USA\" # Se creará una nueva entrada.\nperson[\"city\"] = \"Chicago\"  # Actualiza el valor existente para la misma clave\nperson",
      "metadata": {
        "trusted": true
      },
      "outputs": [
        {
          "execution_count": 8,
          "output_type": "execute_result",
          "data": {
            "text/plain": "{'name': 'John', 'age': 30, 'city': 'Chicago', 'Country': 'USA'}"
          },
          "metadata": {}
        }
      ],
      "execution_count": 8
    },
    {
      "cell_type": "markdown",
      "source": "## del\t\nElimina el par clave-valor especificado del diccionario. Lanza un KeyError si la clave no existe.\n\nSintaxis:\n\n<code>del dict_name[key]<code>",
      "metadata": {}
    },
    {
      "cell_type": "code",
      "source": "print(person)\ndel person[\"Country\"]\nprint(person)",
      "metadata": {
        "trusted": true
      },
      "outputs": [
        {
          "name": "stdout",
          "text": "{'name': 'John', 'age': 30, 'city': 'Chicago', 'Country': 'USA'}\n{'name': 'John', 'age': 30, 'city': 'Chicago'}\n",
          "output_type": "stream"
        }
      ],
      "execution_count": 9
    },
    {
      "cell_type": "markdown",
      "source": "## update()\t\nEl método update() fusiona el diccionario proporcionado en el diccionario existente, añadiendo o actualizando pares clave-valor.\n\nSintaxis:\n\n<code>dict_name.update({key: value})<code>",
      "metadata": {}
    },
    {
      "cell_type": "code",
      "source": "print(person)\nperson.update({\"city\": \"Alabama\"})\nprint(person)",
      "metadata": {
        "trusted": true
      },
      "outputs": [
        {
          "name": "stdout",
          "text": "{'name': 'John', 'age': 30, 'city': 'Chicago', 'Profession': 'Doctor'}\n{'name': 'John', 'age': 30, 'city': 'Alabama', 'Profession': 'Doctor'}\n",
          "output_type": "stream"
        }
      ],
      "execution_count": 11
    },
    {
      "cell_type": "markdown",
      "source": "## clear()\t\nEl método clear() vacía el diccionario, eliminando todos los pares clave-valor dentro de él. Después de esta operación, el diccionario sigue siendo accesible y puede ser utilizado más adelante.\n\nSintaxis:\n\n<code>dict_name.clear()<code>",
      "metadata": {}
    },
    {
      "cell_type": "code",
      "source": "grades = {'primero':1, 'segundo':2, 'tercero':3}\nprint(grades)\ngrades.clear()\nprint(grades)",
      "metadata": {
        "trusted": true
      },
      "outputs": [
        {
          "name": "stdout",
          "text": "{'primero': 1, 'segundo': 2, 'tercero': 3}\n{}\n",
          "output_type": "stream"
        }
      ],
      "execution_count": 12
    },
    {
      "cell_type": "markdown",
      "source": "## key existence\t\nPuedes verificar la existencia de una clave en un diccionario usando la palabra clave in.",
      "metadata": {}
    },
    {
      "cell_type": "code",
      "source": "if \"name\" in person:\n    print(\"El nombre existe en el diccionario.\")",
      "metadata": {
        "trusted": true
      },
      "outputs": [
        {
          "name": "stdout",
          "text": "El nombre existe en el diccionario.\n",
          "output_type": "stream"
        }
      ],
      "execution_count": 13
    },
    {
      "cell_type": "markdown",
      "source": "## copy()\t\nCrea una copia superficial del diccionario. El nuevo diccionario contiene los mismos pares clave-valor que el original, pero permanecen como objetos distintos en memoria.\n\nSintaxis:\n\n<code>new_dict = dict_name.copy()<code>",
      "metadata": {}
    },
    {
      "cell_type": "code",
      "source": "new_person1 = person.copy()\nnew_person2 = dict(person) # otra forma de crear una copia del diccionario\nprint(new_person1)\nprint(new_person2)",
      "metadata": {
        "trusted": true
      },
      "outputs": [
        {
          "name": "stdout",
          "text": "{'name': 'John', 'age': 30, 'city': 'Alabama', 'Profession': 'Doctor'}\n{'name': 'John', 'age': 30, 'city': 'Alabama', 'Profession': 'Doctor'}\n",
          "output_type": "stream"
        }
      ],
      "execution_count": 15
    },
    {
      "cell_type": "markdown",
      "source": "## keys()\t\nRecupera todas las claves del diccionario y las convierte en una lista. Útil para iterar o procesar claves usando métodos de lista.\n\nSintaxis:\n\n<code>keys_list = list(dict_name.keys())<code>",
      "metadata": {}
    },
    {
      "cell_type": "code",
      "source": "person_keys = list(person.keys())\nperson_keys",
      "metadata": {
        "trusted": true
      },
      "outputs": [
        {
          "execution_count": 17,
          "output_type": "execute_result",
          "data": {
            "text/plain": "['name', 'age', 'city', 'Profession']"
          },
          "metadata": {}
        }
      ],
      "execution_count": 17
    },
    {
      "cell_type": "markdown",
      "source": "## values()\t\nExtrae todos los valores del diccionario y los convierte en una lista. Esta lista puede ser utilizada para un procesamiento o análisis adicional.\n\nSintaxis:\n\n<code>values_list = list(dict_name.values())<code>",
      "metadata": {}
    },
    {
      "cell_type": "code",
      "source": "person_values = list(person.values())\nperson_values",
      "metadata": {
        "trusted": true
      },
      "outputs": [
        {
          "execution_count": 19,
          "output_type": "execute_result",
          "data": {
            "text/plain": "['John', 30, 'Alabama', 'Doctor']"
          },
          "metadata": {}
        }
      ],
      "execution_count": 19
    },
    {
      "cell_type": "markdown",
      "source": "## items()\t\nRecupera todos los pares clave-valor como tuplas y las convierte en una lista de tuplas. Cada tupla consiste en una clave y su correspondiente valor.\n\nSintaxis:\n\n<code>items_list = list(dict_name.items())<code>",
      "metadata": {}
    },
    {
      "cell_type": "code",
      "source": "info = list(person.items())\ninfo",
      "metadata": {
        "trusted": true
      },
      "outputs": [
        {
          "execution_count": 20,
          "output_type": "execute_result",
          "data": {
            "text/plain": "[('name', 'John'), ('age', 30), ('city', 'Alabama'), ('Profession', 'Doctor')]"
          },
          "metadata": {}
        }
      ],
      "execution_count": 20
    },
    {
      "cell_type": "code",
      "source": "",
      "metadata": {
        "trusted": true
      },
      "outputs": [],
      "execution_count": null
    }
  ]
}