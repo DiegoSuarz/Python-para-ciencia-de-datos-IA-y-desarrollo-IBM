{
  "metadata": {
    "kernelspec": {
      "name": "python",
      "display_name": "Python (Pyodide)",
      "language": "python"
    },
    "language_info": {
      "codemirror_mode": {
        "name": "python",
        "version": 3
      },
      "file_extension": ".py",
      "mimetype": "text/x-python",
      "name": "python",
      "nbconvert_exporter": "python",
      "pygments_lexer": "ipython3",
      "version": "3.8"
    }
  },
  "nbformat_minor": 4,
  "nbformat": 4,
  "cells": [
    {
      "cell_type": "markdown",
      "source": "<p style=\"text-align:center\">\n    <a href=\"https://skills.network\" target=\"_blank\">\n    <img src=\"https://cf-courses-data.s3.us.cloud-object-storage.appdomain.cloud/assets/logos/SN_web_lightmode.png\" width=\"300\" alt=\"Skills Network Logo\">\n    </a>\n</p>\n\n# 1D Numpy in Python\n\nEstimated time needed: **40** minutes\n\n## Objectives\n\nAfter completing this lab you will be able to:\n\n*   Import and use the `numpy` library\n*   Perform operations with `numpy`\n",
      "metadata": {}
    },
    {
      "cell_type": "markdown",
      "source": "<h2>Table of Contents</h2>\n<div class=\"alert alert-block alert-info\" style=\"margin-thttps://op/?utm_medium=Exinfluencer&utm_source=Exinfluencer&utm_content=000026UJ&utm_term=10006555&utm_id=NA-SkillsNetwork-Channel-SkillsNetworkCoursesIBMDeveloperSkillsNetworkPY0101ENSkillsNetwork19487395-2021-01-01: 20px\">\n    <ul>\n        <li>\n            <a href=\"#What-is-Numpy?\">What is Numpy?</a>\n            <ul>\n                <li><a href=\"#Type\">Type</a></li>\n                <li><a href=\"#Assign-Value\">Assign Value</a></li>\n                <li><a href=\"#Slicing\">Slicing</a></li>\n                <li><a href=\"#Assign-Value-with-List\">Assign Value with List</a></li>\n                <li><a href=\"#Other-Attributes\">Other Attributes</a></li>\n            </ul>\n        </li>\n        <li>\n            <a href=\"#Numpy-Array-Operations\">Numpy Array Operations</a>\n            <ul>\n                <li><a href=\"#Array-Addition\">Array Addition</a></li>\n                <li><a href=\"#Array-Multiplication\">Array Multiplication</a></li>\n                <li><a href=\"#Product-of-Two-Numpy-Arrays\">Product of Two Numpy Arrays</a></li>\n                <li><a href=\"#Dot-Product\">Dot Product</a></li>\n                <li><a href=\"#Adding-Constant-to-a-Numpy-Array\">Adding Constant to a Numpy Array</a></li>\n            </ul>\n        </li>\n        <li><a href=\"#Mathematical-Functions\">Mathematical Functions</a></li>\n        <li><a href=\"#Linspace\">Linspace</a></li>\n    </ul>\n\n</div>\n\n<hr>\n",
      "metadata": {}
    },
    {
      "cell_type": "markdown",
      "source": "## What is Numpy?\n",
      "metadata": {}
    },
    {
      "cell_type": "markdown",
      "source": "NumPy is a Python library used for working with arrays, linear algebra, fourier transform, and matrices. NumPy stands for Numerical Python and it is an open source project. The array object in NumPy is called **ndarray**, it provides a lot of supporting functions that make working with ndarray very easy.\n\nArrays are very frequently used in data science, where speed and resources are very important.\n\nNumPy is usually imported under the np alias.\n\nIt's usually fixed in size and each element is of the same type. We can cast a list to a numpy array by first importing `numpy`:\n",
      "metadata": {}
    },
    {
      "cell_type": "code",
      "source": "# import numpy library\n\nimport numpy as np ",
      "metadata": {
        "trusted": true
      },
      "outputs": [],
      "execution_count": 1
    },
    {
      "cell_type": "markdown",
      "source": "We then cast the list as follows:\n",
      "metadata": {}
    },
    {
      "cell_type": "code",
      "source": "# Create a numpy array\n\na = np.array([0, 1, 2, 3, 4])\na",
      "metadata": {
        "trusted": true
      },
      "outputs": [
        {
          "execution_count": 2,
          "output_type": "execute_result",
          "data": {
            "text/plain": "array([0, 1, 2, 3, 4])"
          },
          "metadata": {}
        }
      ],
      "execution_count": 2
    },
    {
      "cell_type": "markdown",
      "source": "Each element is of the same type, in this case integers:\n",
      "metadata": {}
    },
    {
      "cell_type": "markdown",
      "source": "<img src=\"https://cf-courses-data.s3.us.cloud-object-storage.appdomain.cloud/IBMDeveloperSkillsNetwork-PY0101EN-SkillsNetwork/labs/Module%205/images/NumOneNp.png\" width=\"500\">\n",
      "metadata": {}
    },
    {
      "cell_type": "markdown",
      "source": "As with lists, we can access each element via a square bracket:\n",
      "metadata": {}
    },
    {
      "cell_type": "code",
      "source": "# Print each element\n\nprint(\"a[0]:\", a[0])\nprint(\"a[1]:\", a[1])\nprint(\"a[2]:\", a[2])\nprint(\"a[3]:\", a[3])\nprint(\"a[4]:\", a[4])",
      "metadata": {
        "trusted": true
      },
      "outputs": [
        {
          "name": "stdout",
          "text": "a[0]: 0\na[1]: 1\na[2]: 2\na[3]: 3\na[4]: 4\n",
          "output_type": "stream"
        }
      ],
      "execution_count": 3
    },
    {
      "cell_type": "markdown",
      "source": "#### Checking NumPy Version\n\nThe version string is stored under __version__ attribute.\n",
      "metadata": {}
    },
    {
      "cell_type": "code",
      "source": "print(np.__version__)",
      "metadata": {
        "trusted": true
      },
      "outputs": [
        {
          "name": "stdout",
          "text": "1.26.4\n",
          "output_type": "stream"
        }
      ],
      "execution_count": 4
    },
    {
      "cell_type": "markdown",
      "source": "### Type\n",
      "metadata": {}
    },
    {
      "cell_type": "markdown",
      "source": "If we check the type of the array we get <b>numpy.ndarray</b>:\n",
      "metadata": {}
    },
    {
      "cell_type": "code",
      "source": "# Check the type of the array\n\ntype(a)",
      "metadata": {
        "trusted": true
      },
      "outputs": [
        {
          "execution_count": 7,
          "output_type": "execute_result",
          "data": {
            "text/plain": "numpy.ndarray"
          },
          "metadata": {}
        }
      ],
      "execution_count": 7
    },
    {
      "cell_type": "markdown",
      "source": "As numpy arrays contain data of the same type, we can use the attribute \"dtype\" to obtain the data type of the array’s elements. In this case, it's a 64-bit integer:\n",
      "metadata": {}
    },
    {
      "cell_type": "code",
      "source": "# Check the type of the values stored in numpy array\n\na.dtype",
      "metadata": {
        "trusted": true
      },
      "outputs": [
        {
          "execution_count": 8,
          "output_type": "execute_result",
          "data": {
            "text/plain": "dtype('int32')"
          },
          "metadata": {}
        }
      ],
      "execution_count": 8
    },
    {
      "cell_type": "markdown",
      "source": "### Try it yourself\n\nCheck the type of the array and Value type for the given array **c**\n",
      "metadata": {}
    },
    {
      "cell_type": "code",
      "source": "b = np.array([3.1, 11.02, 6.2, 213.2, 5.2])\n\n# Enter your code here\ntype(b)",
      "metadata": {
        "trusted": true
      },
      "outputs": [
        {
          "execution_count": 12,
          "output_type": "execute_result",
          "data": {
            "text/plain": "numpy.ndarray"
          },
          "metadata": {}
        }
      ],
      "execution_count": 12
    },
    {
      "cell_type": "markdown",
      "source": "<details><summary>Click here for the solution</summary>\n\n```python\ntype(b)\n    \nb.dtype \n    \nIf we examine the attribute dtype we see float 64, as the elements are not integers:\n```\n\n</details>\n\n",
      "metadata": {}
    },
    {
      "cell_type": "markdown",
      "source": "### Assign value\n",
      "metadata": {}
    },
    {
      "cell_type": "markdown",
      "source": "We can change the value of the array. Consider the array <code>c</code>:\n",
      "metadata": {}
    },
    {
      "cell_type": "code",
      "source": "# Create numpy array\n\nc = np.array([20, 1, 2, 3, 4])\nc",
      "metadata": {
        "trusted": true
      },
      "outputs": [
        {
          "execution_count": 13,
          "output_type": "execute_result",
          "data": {
            "text/plain": "array([20,  1,  2,  3,  4])"
          },
          "metadata": {}
        }
      ],
      "execution_count": 13
    },
    {
      "cell_type": "markdown",
      "source": "We can change the first element of the array to 100 as follows:\n",
      "metadata": {}
    },
    {
      "cell_type": "code",
      "source": "# Assign the first element to 100\n\nc[0] = 100\nc",
      "metadata": {
        "trusted": true
      },
      "outputs": [
        {
          "execution_count": 14,
          "output_type": "execute_result",
          "data": {
            "text/plain": "array([100,   1,   2,   3,   4])"
          },
          "metadata": {}
        }
      ],
      "execution_count": 14
    },
    {
      "cell_type": "markdown",
      "source": "We can change the 5th element of the array to 0 as follows:\n",
      "metadata": {}
    },
    {
      "cell_type": "code",
      "source": "# Assign the 5th element to 0\n\nc[4] = 0\nc",
      "metadata": {
        "trusted": true
      },
      "outputs": [
        {
          "execution_count": 15,
          "output_type": "execute_result",
          "data": {
            "text/plain": "array([100,   1,   2,   3,   0])"
          },
          "metadata": {}
        }
      ],
      "execution_count": 15
    },
    {
      "cell_type": "markdown",
      "source": "### Try it yourself\n\nAssign the value 20 for the second element in the given array.\n",
      "metadata": {}
    },
    {
      "cell_type": "code",
      "source": "a = np.array([10, 2, 30, 40,50])\n\n# Enter your code here\na[1] = 20\na",
      "metadata": {
        "trusted": true
      },
      "outputs": [
        {
          "execution_count": 17,
          "output_type": "execute_result",
          "data": {
            "text/plain": "array([10, 20, 30, 40, 50])"
          },
          "metadata": {}
        }
      ],
      "execution_count": 17
    },
    {
      "cell_type": "markdown",
      "source": "<details><summary>Click here for the solution</summary>\n\n```python\na[1]=20\na\n   \n```\n\n</details>\n",
      "metadata": {}
    },
    {
      "cell_type": "markdown",
      "source": "### Slicing\n",
      "metadata": {}
    },
    {
      "cell_type": "markdown",
      "source": "Like lists, we can slice the numpy array. Slicing in python means taking the elements from the given index to another given index.\n\nWe pass slice like this: [start:end].The element at end index is not being included in the output.\n\nWe can select the elements from 1 to 3 and assign it to a new numpy array <code>d</code> as follows:\n",
      "metadata": {}
    },
    {
      "cell_type": "code",
      "source": "# Slicing the numpy array\n\nd = c[1:4]\nd",
      "metadata": {
        "trusted": true
      },
      "outputs": [
        {
          "execution_count": 18,
          "output_type": "execute_result",
          "data": {
            "text/plain": "array([1, 2, 3])"
          },
          "metadata": {}
        }
      ],
      "execution_count": 18
    },
    {
      "cell_type": "markdown",
      "source": "We can assign the corresponding indexes to new values as follows:\n",
      "metadata": {}
    },
    {
      "cell_type": "code",
      "source": "# Set the fourth element and fifth element to 300 and 400\n\nc[3:5] = 300, 400\nc",
      "metadata": {
        "trusted": true
      },
      "outputs": [
        {
          "execution_count": 19,
          "output_type": "execute_result",
          "data": {
            "text/plain": "array([100,   1,   2, 300, 400])"
          },
          "metadata": {}
        }
      ],
      "execution_count": 19
    },
    {
      "cell_type": "markdown",
      "source": "We can also define the steps in slicing, like this: [start:end:step].\n",
      "metadata": {}
    },
    {
      "cell_type": "code",
      "source": "arr = np.array([1, 2, 3, 4, 5, 6, 7])\n\nprint(arr[1:5:2])",
      "metadata": {
        "trusted": true
      },
      "outputs": [
        {
          "name": "stdout",
          "text": "[2 4]\n",
          "output_type": "stream"
        }
      ],
      "execution_count": 20
    },
    {
      "cell_type": "markdown",
      "source": "If we don't pass start its considered 0\n",
      "metadata": {}
    },
    {
      "cell_type": "code",
      "source": "print(arr[:4])",
      "metadata": {
        "trusted": true
      },
      "outputs": [
        {
          "name": "stdout",
          "text": "[1 2 3 4]\n",
          "output_type": "stream"
        }
      ],
      "execution_count": 21
    },
    {
      "cell_type": "markdown",
      "source": "If we don't pass end it considers till the length of array.\n",
      "metadata": {}
    },
    {
      "cell_type": "code",
      "source": "print(arr[4:])",
      "metadata": {
        "trusted": true
      },
      "outputs": [
        {
          "name": "stdout",
          "text": "[5 6 7]\n",
          "output_type": "stream"
        }
      ],
      "execution_count": 22
    },
    {
      "cell_type": "markdown",
      "source": "If we don't pass step its considered 1\n",
      "metadata": {}
    },
    {
      "cell_type": "code",
      "source": "print(arr[1:5:])",
      "metadata": {
        "trusted": true
      },
      "outputs": [
        {
          "name": "stdout",
          "text": "[2 3 4 5]\n",
          "output_type": "stream"
        }
      ],
      "execution_count": 23
    },
    {
      "cell_type": "markdown",
      "source": "### Try it yourself\n\nPrint the even elements in the given array.\n",
      "metadata": {}
    },
    {
      "cell_type": "code",
      "source": "arr = np.array([1, 2, 3, 4, 5, 6, 7, 8])\n\n# Enter your code here\nprint(arr[1:8:2])\nprint(arr[1::2])",
      "metadata": {
        "trusted": true
      },
      "outputs": [
        {
          "name": "stdout",
          "text": "[2 4 6 8]\n[2 4 6 8]\n",
          "output_type": "stream"
        }
      ],
      "execution_count": 28
    },
    {
      "cell_type": "markdown",
      "source": "<details><summary>Click here for the solution</summary>\n\n```python\nprint(arr[1:8:2])\n\n    \n```\n\n</details>\n",
      "metadata": {}
    },
    {
      "cell_type": "markdown",
      "source": "### Assign Value with List\n",
      "metadata": {}
    },
    {
      "cell_type": "markdown",
      "source": "Similarly, we can use a list to select more than one specific index.\nThe list `select` contains several values:\n",
      "metadata": {}
    },
    {
      "cell_type": "code",
      "source": "# Create the index list\n\nselect = [0, 2, 3, 4]\nselect",
      "metadata": {
        "trusted": true
      },
      "outputs": [
        {
          "execution_count": 29,
          "output_type": "execute_result",
          "data": {
            "text/plain": "[0, 2, 3, 4]"
          },
          "metadata": {}
        }
      ],
      "execution_count": 29
    },
    {
      "cell_type": "markdown",
      "source": "We can use the list as an argument in the brackets. The output is the elements corresponding to the particular indexes:\n",
      "metadata": {}
    },
    {
      "cell_type": "code",
      "source": "# Use List to select elements\nprint(c)\nd = c[select]\nd",
      "metadata": {
        "trusted": true
      },
      "outputs": [
        {
          "name": "stdout",
          "text": "[100   1   2 300 400]\n",
          "output_type": "stream"
        },
        {
          "execution_count": 31,
          "output_type": "execute_result",
          "data": {
            "text/plain": "array([100,   2, 300, 400])"
          },
          "metadata": {}
        }
      ],
      "execution_count": 31
    },
    {
      "cell_type": "markdown",
      "source": "We can assign the specified elements to a new value. For example, we can assign the values to 100 000 as follows:\n",
      "metadata": {}
    },
    {
      "cell_type": "code",
      "source": "# Assign the specified elements to new value\n\nc[select] = 100000\nc",
      "metadata": {
        "trusted": true
      },
      "outputs": [
        {
          "execution_count": 32,
          "output_type": "execute_result",
          "data": {
            "text/plain": "array([100000,      1, 100000, 100000, 100000])"
          },
          "metadata": {}
        }
      ],
      "execution_count": 32
    },
    {
      "cell_type": "markdown",
      "source": "### Other Attributes\n",
      "metadata": {}
    },
    {
      "cell_type": "markdown",
      "source": "Let's review some basic array attributes using the array <code>a</code>:\n",
      "metadata": {}
    },
    {
      "cell_type": "code",
      "source": "# Create a numpy array\n\na = np.array([0, 1, 2, 3, 4])\na",
      "metadata": {
        "trusted": true
      },
      "outputs": [
        {
          "execution_count": 33,
          "output_type": "execute_result",
          "data": {
            "text/plain": "array([0, 1, 2, 3, 4])"
          },
          "metadata": {}
        }
      ],
      "execution_count": 33
    },
    {
      "cell_type": "code",
      "source": "dir(a)",
      "metadata": {
        "trusted": true,
        "scrolled": true
      },
      "outputs": [
        {
          "execution_count": 36,
          "output_type": "execute_result",
          "data": {
            "text/plain": "['T',\n '__abs__',\n '__add__',\n '__and__',\n '__array__',\n '__array_finalize__',\n '__array_function__',\n '__array_interface__',\n '__array_prepare__',\n '__array_priority__',\n '__array_struct__',\n '__array_ufunc__',\n '__array_wrap__',\n '__bool__',\n '__buffer__',\n '__class__',\n '__class_getitem__',\n '__complex__',\n '__contains__',\n '__copy__',\n '__deepcopy__',\n '__delattr__',\n '__delitem__',\n '__dir__',\n '__divmod__',\n '__dlpack__',\n '__dlpack_device__',\n '__doc__',\n '__eq__',\n '__float__',\n '__floordiv__',\n '__format__',\n '__ge__',\n '__getattribute__',\n '__getitem__',\n '__getstate__',\n '__gt__',\n '__hash__',\n '__iadd__',\n '__iand__',\n '__ifloordiv__',\n '__ilshift__',\n '__imatmul__',\n '__imod__',\n '__imul__',\n '__index__',\n '__init__',\n '__init_subclass__',\n '__int__',\n '__invert__',\n '__ior__',\n '__ipow__',\n '__irshift__',\n '__isub__',\n '__iter__',\n '__itruediv__',\n '__ixor__',\n '__le__',\n '__len__',\n '__lshift__',\n '__lt__',\n '__matmul__',\n '__mod__',\n '__mul__',\n '__ne__',\n '__neg__',\n '__new__',\n '__or__',\n '__pos__',\n '__pow__',\n '__radd__',\n '__rand__',\n '__rdivmod__',\n '__reduce__',\n '__reduce_ex__',\n '__repr__',\n '__rfloordiv__',\n '__rlshift__',\n '__rmatmul__',\n '__rmod__',\n '__rmul__',\n '__ror__',\n '__rpow__',\n '__rrshift__',\n '__rshift__',\n '__rsub__',\n '__rtruediv__',\n '__rxor__',\n '__setattr__',\n '__setitem__',\n '__setstate__',\n '__sizeof__',\n '__str__',\n '__sub__',\n '__subclasshook__',\n '__truediv__',\n '__xor__',\n 'all',\n 'any',\n 'argmax',\n 'argmin',\n 'argpartition',\n 'argsort',\n 'astype',\n 'base',\n 'byteswap',\n 'choose',\n 'clip',\n 'compress',\n 'conj',\n 'conjugate',\n 'copy',\n 'ctypes',\n 'cumprod',\n 'cumsum',\n 'data',\n 'diagonal',\n 'dot',\n 'dtype',\n 'dump',\n 'dumps',\n 'fill',\n 'flags',\n 'flat',\n 'flatten',\n 'getfield',\n 'imag',\n 'item',\n 'itemset',\n 'itemsize',\n 'max',\n 'mean',\n 'min',\n 'nbytes',\n 'ndim',\n 'newbyteorder',\n 'nonzero',\n 'partition',\n 'prod',\n 'ptp',\n 'put',\n 'ravel',\n 'real',\n 'repeat',\n 'reshape',\n 'resize',\n 'round',\n 'searchsorted',\n 'setfield',\n 'setflags',\n 'shape',\n 'size',\n 'sort',\n 'squeeze',\n 'std',\n 'strides',\n 'sum',\n 'swapaxes',\n 'take',\n 'tobytes',\n 'tofile',\n 'tolist',\n 'tostring',\n 'trace',\n 'transpose',\n 'var',\n 'view']"
          },
          "metadata": {}
        }
      ],
      "execution_count": 36
    },
    {
      "cell_type": "code",
      "source": "help(a)",
      "metadata": {
        "trusted": true,
        "scrolled": true
      },
      "outputs": [
        {
          "name": "stdout",
          "text": "Help on ndarray object:\n\nclass ndarray(builtins.object)\n |  ndarray(shape, dtype=float, buffer=None, offset=0,\n |          strides=None, order=None)\n |\n |  An array object represents a multidimensional, homogeneous array\n |  of fixed-size items.  An associated data-type object describes the\n |  format of each element in the array (its byte-order, how many bytes it\n |  occupies in memory, whether it is an integer, a floating point number,\n |  or something else, etc.)\n |\n |  Arrays should be constructed using `array`, `zeros` or `empty` (refer\n |  to the See Also section below).  The parameters given here refer to\n |  a low-level method (`ndarray(...)`) for instantiating an array.\n |\n |  For more information, refer to the `numpy` module and examine the\n |  methods and attributes of an array.\n |\n |  Parameters\n |  ----------\n |  (for the __new__ method; see Notes below)\n |\n |  shape : tuple of ints\n |      Shape of created array.\n |  dtype : data-type, optional\n |      Any object that can be interpreted as a numpy data type.\n |  buffer : object exposing buffer interface, optional\n |      Used to fill the array with data.\n |  offset : int, optional\n |      Offset of array data in buffer.\n |  strides : tuple of ints, optional\n |      Strides of data in memory.\n |  order : {'C', 'F'}, optional\n |      Row-major (C-style) or column-major (Fortran-style) order.\n |\n |  Attributes\n |  ----------\n |  T : ndarray\n |      Transpose of the array.\n |  data : buffer\n |      The array's elements, in memory.\n |  dtype : dtype object\n |      Describes the format of the elements in the array.\n |  flags : dict\n |      Dictionary containing information related to memory use, e.g.,\n |      'C_CONTIGUOUS', 'OWNDATA', 'WRITEABLE', etc.\n |  flat : numpy.flatiter object\n |      Flattened version of the array as an iterator.  The iterator\n |      allows assignments, e.g., ``x.flat = 3`` (See `ndarray.flat` for\n |      assignment examples; TODO).\n |  imag : ndarray\n |      Imaginary part of the array.\n |  real : ndarray\n |      Real part of the array.\n |  size : int\n |      Number of elements in the array.\n |  itemsize : int\n |      The memory use of each array element in bytes.\n |  nbytes : int\n |      The total number of bytes required to store the array data,\n |      i.e., ``itemsize * size``.\n |  ndim : int\n |      The array's number of dimensions.\n |  shape : tuple of ints\n |      Shape of the array.\n |  strides : tuple of ints\n |      The step-size required to move from one element to the next in\n |      memory. For example, a contiguous ``(3, 4)`` array of type\n |      ``int16`` in C-order has strides ``(8, 2)``.  This implies that\n |      to move from element to element in memory requires jumps of 2 bytes.\n |      To move from row-to-row, one needs to jump 8 bytes at a time\n |      (``2 * 4``).\n |  ctypes : ctypes object\n |      Class containing properties of the array needed for interaction\n |      with ctypes.\n |  base : ndarray\n |      If the array is a view into another array, that array is its `base`\n |      (unless that array is also a view).  The `base` array is where the\n |      array data is actually stored.\n |\n |  See Also\n |  --------\n |  array : Construct an array.\n |  zeros : Create an array, each element of which is zero.\n |  empty : Create an array, but leave its allocated memory unchanged (i.e.,\n |          it contains \"garbage\").\n |  dtype : Create a data-type.\n |  numpy.typing.NDArray : An ndarray alias :term:`generic <generic type>`\n |                         w.r.t. its `dtype.type <numpy.dtype.type>`.\n |\n |  Notes\n |  -----\n |  There are two modes of creating an array using ``__new__``:\n |\n |  1. If `buffer` is None, then only `shape`, `dtype`, and `order`\n |     are used.\n |  2. If `buffer` is an object exposing the buffer interface, then\n |     all keywords are interpreted.\n |\n |  No ``__init__`` method is needed because the array is fully initialized\n |  after the ``__new__`` method.\n |\n |  Examples\n |  --------\n |  These examples illustrate the low-level `ndarray` constructor.  Refer\n |  to the `See Also` section above for easier ways of constructing an\n |  ndarray.\n |\n |  First mode, `buffer` is None:\n |\n |  >>> np.ndarray(shape=(2,2), dtype=float, order='F')\n |  array([[0.0e+000, 0.0e+000], # random\n |         [     nan, 2.5e-323]])\n |\n |  Second mode:\n |\n |  >>> np.ndarray((2,), buffer=np.array([1,2,3]),\n |  ...            offset=np.int_().itemsize,\n |  ...            dtype=int) # offset = 1*itemsize, i.e. skip first element\n |  array([2, 3])\n |\n |  Methods defined here:\n |\n |  __abs__(self, /)\n |      abs(self)\n |\n |  __add__(self, value, /)\n |      Return self+value.\n |\n |  __and__(self, value, /)\n |      Return self&value.\n |\n |  __array__(...)\n |      a.__array__([dtype], /)\n |\n |      Returns either a new reference to self if dtype is not given or a new array\n |      of provided data type if dtype is different from the current dtype of the\n |      array.\n |\n |  __array_finalize__(...)\n |      a.__array_finalize__(obj, /)\n |\n |      Present so subclasses can call super. Does nothing.\n |\n |  __array_function__(...)\n |\n |  __array_prepare__(...)\n |      a.__array_prepare__(array[, context], /)\n |\n |      Returns a view of `array` with the same type as self.\n |\n |  __array_ufunc__(...)\n |\n |  __array_wrap__(...)\n |      a.__array_wrap__(array[, context], /)\n |\n |      Returns a view of `array` with the same type as self.\n |\n |  __bool__(self, /)\n |      True if self else False\n |\n |  __buffer__(self, flags, /)\n |      Return a buffer object that exposes the underlying memory of the object.\n |\n |  __complex__(...)\n |\n |  __contains__(self, key, /)\n |      Return bool(key in self).\n |\n |  __copy__(...)\n |      a.__copy__()\n |\n |      Used if :func:`copy.copy` is called on an array. Returns a copy of the array.\n |\n |      Equivalent to ``a.copy(order='K')``.\n |\n |  __deepcopy__(...)\n |      a.__deepcopy__(memo, /)\n |\n |      Used if :func:`copy.deepcopy` is called on an array.\n |\n |  __delitem__(self, key, /)\n |      Delete self[key].\n |\n |  __divmod__(self, value, /)\n |      Return divmod(self, value).\n |\n |  __dlpack__(...)\n |      a.__dlpack__(*, stream=None)\n |\n |      DLPack Protocol: Part of the Array API.\n |\n |  __dlpack_device__(...)\n |      a.__dlpack_device__()\n |\n |      DLPack Protocol: Part of the Array API.\n |\n |  __eq__(self, value, /)\n |      Return self==value.\n |\n |  __float__(self, /)\n |      float(self)\n |\n |  __floordiv__(self, value, /)\n |      Return self//value.\n |\n |  __format__(...)\n |      Default object formatter.\n |\n |      Return str(self) if format_spec is empty. Raise TypeError otherwise.\n |\n |  __ge__(self, value, /)\n |      Return self>=value.\n |\n |  __getitem__(self, key, /)\n |      Return self[key].\n |\n |  __gt__(self, value, /)\n |      Return self>value.\n |\n |  __iadd__(self, value, /)\n |      Return self+=value.\n |\n |  __iand__(self, value, /)\n |      Return self&=value.\n |\n |  __ifloordiv__(self, value, /)\n |      Return self//=value.\n |\n |  __ilshift__(self, value, /)\n |      Return self<<=value.\n |\n |  __imatmul__(self, value, /)\n |      Return self@=value.\n |\n |  __imod__(self, value, /)\n |      Return self%=value.\n |\n |  __imul__(self, value, /)\n |      Return self*=value.\n |\n |  __index__(self, /)\n |      Return self converted to an integer, if self is suitable for use as an index into a list.\n |\n |  __int__(self, /)\n |      int(self)\n |\n |  __invert__(self, /)\n |      ~self\n |\n |  __ior__(self, value, /)\n |      Return self|=value.\n |\n |  __ipow__(self, value, /)\n |      Return self**=value.\n |\n |  __irshift__(self, value, /)\n |      Return self>>=value.\n |\n |  __isub__(self, value, /)\n |      Return self-=value.\n |\n |  __iter__(self, /)\n |      Implement iter(self).\n |\n |  __itruediv__(self, value, /)\n |      Return self/=value.\n |\n |  __ixor__(self, value, /)\n |      Return self^=value.\n |\n |  __le__(self, value, /)\n |      Return self<=value.\n |\n |  __len__(self, /)\n |      Return len(self).\n |\n |  __lshift__(self, value, /)\n |      Return self<<value.\n |\n |  __lt__(self, value, /)\n |      Return self<value.\n |\n |  __matmul__(self, value, /)\n |      Return self@value.\n |\n |  __mod__(self, value, /)\n |      Return self%value.\n |\n |  __mul__(self, value, /)\n |      Return self*value.\n |\n |  __ne__(self, value, /)\n |      Return self!=value.\n |\n |  __neg__(self, /)\n |      -self\n |\n |  __or__(self, value, /)\n |      Return self|value.\n |\n |  __pos__(self, /)\n |      +self\n |\n |  __pow__(self, value, mod=None, /)\n |      Return pow(self, value, mod).\n |\n |  __radd__(self, value, /)\n |      Return value+self.\n |\n |  __rand__(self, value, /)\n |      Return value&self.\n |\n |  __rdivmod__(self, value, /)\n |      Return divmod(value, self).\n |\n |  __reduce__(...)\n |      a.__reduce__()\n |\n |      For pickling.\n |\n |  __reduce_ex__(...)\n |      Helper for pickle.\n |\n |  __repr__(self, /)\n |      Return repr(self).\n |\n |  __rfloordiv__(self, value, /)\n |      Return value//self.\n |\n |  __rlshift__(self, value, /)\n |      Return value<<self.\n |\n |  __rmatmul__(self, value, /)\n |      Return value@self.\n |\n |  __rmod__(self, value, /)\n |      Return value%self.\n |\n |  __rmul__(self, value, /)\n |      Return value*self.\n |\n |  __ror__(self, value, /)\n |      Return value|self.\n |\n |  __rpow__(self, value, mod=None, /)\n |      Return pow(value, self, mod).\n |\n |  __rrshift__(self, value, /)\n |      Return value>>self.\n |\n |  __rshift__(self, value, /)\n |      Return self>>value.\n |\n |  __rsub__(self, value, /)\n |      Return value-self.\n |\n |  __rtruediv__(self, value, /)\n |      Return value/self.\n |\n |  __rxor__(self, value, /)\n |      Return value^self.\n |\n |  __setitem__(self, key, value, /)\n |      Set self[key] to value.\n |\n |  __setstate__(...)\n |      a.__setstate__(state, /)\n |\n |      For unpickling.\n |\n |      The `state` argument must be a sequence that contains the following\n |      elements:\n |\n |      Parameters\n |      ----------\n |      version : int\n |          optional pickle version. If omitted defaults to 0.\n |      shape : tuple\n |      dtype : data-type\n |      isFortran : bool\n |      rawdata : string or list\n |          a binary string with the data (or a list if 'a' is an object array)\n |\n |  __sizeof__(...)\n |      Size of object in memory, in bytes.\n |\n |  __str__(self, /)\n |      Return str(self).\n |\n |  __sub__(self, value, /)\n |      Return self-value.\n |\n |  __truediv__(self, value, /)\n |      Return self/value.\n |\n |  __xor__(self, value, /)\n |      Return self^value.\n |\n |  all(...)\n |      a.all(axis=None, out=None, keepdims=False, *, where=True)\n |\n |      Returns True if all elements evaluate to True.\n |\n |      Refer to `numpy.all` for full documentation.\n |\n |      See Also\n |      --------\n |      numpy.all : equivalent function\n |\n |  any(...)\n |      a.any(axis=None, out=None, keepdims=False, *, where=True)\n |\n |      Returns True if any of the elements of `a` evaluate to True.\n |\n |      Refer to `numpy.any` for full documentation.\n |\n |      See Also\n |      --------\n |      numpy.any : equivalent function\n |\n |  argmax(...)\n |      a.argmax(axis=None, out=None, *, keepdims=False)\n |\n |      Return indices of the maximum values along the given axis.\n |\n |      Refer to `numpy.argmax` for full documentation.\n |\n |      See Also\n |      --------\n |      numpy.argmax : equivalent function\n |\n |  argmin(...)\n |      a.argmin(axis=None, out=None, *, keepdims=False)\n |\n |      Return indices of the minimum values along the given axis.\n |\n |      Refer to `numpy.argmin` for detailed documentation.\n |\n |      See Also\n |      --------\n |      numpy.argmin : equivalent function\n |\n |  argpartition(...)\n |      a.argpartition(kth, axis=-1, kind='introselect', order=None)\n |\n |      Returns the indices that would partition this array.\n |\n |      Refer to `numpy.argpartition` for full documentation.\n |\n |      .. versionadded:: 1.8.0\n |\n |      See Also\n |      --------\n |      numpy.argpartition : equivalent function\n |\n |  argsort(...)\n |      a.argsort(axis=-1, kind=None, order=None)\n |\n |      Returns the indices that would sort this array.\n |\n |      Refer to `numpy.argsort` for full documentation.\n |\n |      See Also\n |      --------\n |      numpy.argsort : equivalent function\n |\n |  astype(...)\n |      a.astype(dtype, order='K', casting='unsafe', subok=True, copy=True)\n |\n |      Copy of the array, cast to a specified type.\n |\n |      Parameters\n |      ----------\n |      dtype : str or dtype\n |          Typecode or data-type to which the array is cast.\n |      order : {'C', 'F', 'A', 'K'}, optional\n |          Controls the memory layout order of the result.\n |          'C' means C order, 'F' means Fortran order, 'A'\n |          means 'F' order if all the arrays are Fortran contiguous,\n |          'C' order otherwise, and 'K' means as close to the\n |          order the array elements appear in memory as possible.\n |          Default is 'K'.\n |      casting : {'no', 'equiv', 'safe', 'same_kind', 'unsafe'}, optional\n |          Controls what kind of data casting may occur. Defaults to 'unsafe'\n |          for backwards compatibility.\n |\n |            * 'no' means the data types should not be cast at all.\n |            * 'equiv' means only byte-order changes are allowed.\n |            * 'safe' means only casts which can preserve values are allowed.\n |            * 'same_kind' means only safe casts or casts within a kind,\n |              like float64 to float32, are allowed.\n |            * 'unsafe' means any data conversions may be done.\n |      subok : bool, optional\n |          If True, then sub-classes will be passed-through (default), otherwise\n |          the returned array will be forced to be a base-class array.\n |      copy : bool, optional\n |          By default, astype always returns a newly allocated array. If this\n |          is set to false, and the `dtype`, `order`, and `subok`\n |          requirements are satisfied, the input array is returned instead\n |          of a copy.\n |\n |      Returns\n |      -------\n |      arr_t : ndarray\n |          Unless `copy` is False and the other conditions for returning the input\n |          array are satisfied (see description for `copy` input parameter), `arr_t`\n |          is a new array of the same shape as the input array, with dtype, order\n |          given by `dtype`, `order`.\n |\n |      Notes\n |      -----\n |      .. versionchanged:: 1.17.0\n |         Casting between a simple data type and a structured one is possible only\n |         for \"unsafe\" casting.  Casting to multiple fields is allowed, but\n |         casting from multiple fields is not.\n |\n |      .. versionchanged:: 1.9.0\n |         Casting from numeric to string types in 'safe' casting mode requires\n |         that the string dtype length is long enough to store the max\n |         integer/float value converted.\n |\n |      Raises\n |      ------\n |      ComplexWarning\n |          When casting from complex to float or int. To avoid this,\n |          one should use ``a.real.astype(t)``.\n |\n |      Examples\n |      --------\n |      >>> x = np.array([1, 2, 2.5])\n |      >>> x\n |      array([1. ,  2. ,  2.5])\n |\n |      >>> x.astype(int)\n |      array([1, 2, 2])\n |\n |  byteswap(...)\n |      a.byteswap(inplace=False)\n |\n |      Swap the bytes of the array elements\n |\n |      Toggle between low-endian and big-endian data representation by\n |      returning a byteswapped array, optionally swapped in-place.\n |      Arrays of byte-strings are not swapped. The real and imaginary\n |      parts of a complex number are swapped individually.\n |\n |      Parameters\n |      ----------\n |      inplace : bool, optional\n |          If ``True``, swap bytes in-place, default is ``False``.\n |\n |      Returns\n |      -------\n |      out : ndarray\n |          The byteswapped array. If `inplace` is ``True``, this is\n |          a view to self.\n |\n |      Examples\n |      --------\n |      >>> A = np.array([1, 256, 8755], dtype=np.int16)\n |      >>> list(map(hex, A))\n |      ['0x1', '0x100', '0x2233']\n |      >>> A.byteswap(inplace=True)\n |      array([  256,     1, 13090], dtype=int16)\n |      >>> list(map(hex, A))\n |      ['0x100', '0x1', '0x3322']\n |\n |      Arrays of byte-strings are not swapped\n |\n |      >>> A = np.array([b'ceg', b'fac'])\n |      >>> A.byteswap()\n |      array([b'ceg', b'fac'], dtype='|S3')\n |\n |      ``A.newbyteorder().byteswap()`` produces an array with the same values\n |        but different representation in memory\n |\n |      >>> A = np.array([1, 2, 3])\n |      >>> A.view(np.uint8)\n |      array([1, 0, 0, 0, 0, 0, 0, 0, 2, 0, 0, 0, 0, 0, 0, 0, 3, 0, 0, 0, 0, 0,\n |             0, 0], dtype=uint8)\n |      >>> A.newbyteorder().byteswap(inplace=True)\n |      array([1, 2, 3])\n |      >>> A.view(np.uint8)\n |      array([0, 0, 0, 0, 0, 0, 0, 1, 0, 0, 0, 0, 0, 0, 0, 2, 0, 0, 0, 0, 0, 0,\n |             0, 3], dtype=uint8)\n |\n |  choose(...)\n |      a.choose(choices, out=None, mode='raise')\n |\n |      Use an index array to construct a new array from a set of choices.\n |\n |      Refer to `numpy.choose` for full documentation.\n |\n |      See Also\n |      --------\n |      numpy.choose : equivalent function\n |\n |  clip(...)\n |      a.clip(min=None, max=None, out=None, **kwargs)\n |\n |      Return an array whose values are limited to ``[min, max]``.\n |      One of max or min must be given.\n |\n |      Refer to `numpy.clip` for full documentation.\n |\n |      See Also\n |      --------\n |      numpy.clip : equivalent function\n |\n |  compress(...)\n |      a.compress(condition, axis=None, out=None)\n |\n |      Return selected slices of this array along given axis.\n |\n |      Refer to `numpy.compress` for full documentation.\n |\n |      See Also\n |      --------\n |      numpy.compress : equivalent function\n |\n |  conj(...)\n |      a.conj()\n |\n |      Complex-conjugate all elements.\n |\n |      Refer to `numpy.conjugate` for full documentation.\n |\n |      See Also\n |      --------\n |      numpy.conjugate : equivalent function\n |\n |  conjugate(...)\n |      a.conjugate()\n |\n |      Return the complex conjugate, element-wise.\n |\n |      Refer to `numpy.conjugate` for full documentation.\n |\n |      See Also\n |      --------\n |      numpy.conjugate : equivalent function\n |\n |  copy(...)\n |      a.copy(order='C')\n |\n |      Return a copy of the array.\n |\n |      Parameters\n |      ----------\n |      order : {'C', 'F', 'A', 'K'}, optional\n |          Controls the memory layout of the copy. 'C' means C-order,\n |          'F' means F-order, 'A' means 'F' if `a` is Fortran contiguous,\n |          'C' otherwise. 'K' means match the layout of `a` as closely\n |          as possible. (Note that this function and :func:`numpy.copy` are very\n |          similar but have different default values for their order=\n |          arguments, and this function always passes sub-classes through.)\n |\n |      See also\n |      --------\n |      numpy.copy : Similar function with different default behavior\n |      numpy.copyto\n |\n |      Notes\n |      -----\n |      This function is the preferred method for creating an array copy.  The\n |      function :func:`numpy.copy` is similar, but it defaults to using order 'K',\n |      and will not pass sub-classes through by default.\n |\n |      Examples\n |      --------\n |      >>> x = np.array([[1,2,3],[4,5,6]], order='F')\n |\n |      >>> y = x.copy()\n |\n |      >>> x.fill(0)\n |\n |      >>> x\n |      array([[0, 0, 0],\n |             [0, 0, 0]])\n |\n |      >>> y\n |      array([[1, 2, 3],\n |             [4, 5, 6]])\n |\n |      >>> y.flags['C_CONTIGUOUS']\n |      True\n |\n |  cumprod(...)\n |      a.cumprod(axis=None, dtype=None, out=None)\n |\n |      Return the cumulative product of the elements along the given axis.\n |\n |      Refer to `numpy.cumprod` for full documentation.\n |\n |      See Also\n |      --------\n |      numpy.cumprod : equivalent function\n |\n |  cumsum(...)\n |      a.cumsum(axis=None, dtype=None, out=None)\n |\n |      Return the cumulative sum of the elements along the given axis.\n |\n |      Refer to `numpy.cumsum` for full documentation.\n |\n |      See Also\n |      --------\n |      numpy.cumsum : equivalent function\n |\n |  diagonal(...)\n |      a.diagonal(offset=0, axis1=0, axis2=1)\n |\n |      Return specified diagonals. In NumPy 1.9 the returned array is a\n |      read-only view instead of a copy as in previous NumPy versions.  In\n |      a future version the read-only restriction will be removed.\n |\n |      Refer to :func:`numpy.diagonal` for full documentation.\n |\n |      See Also\n |      --------\n |      numpy.diagonal : equivalent function\n |\n |  dot(...)\n |\n |  dump(...)\n |      a.dump(file)\n |\n |      Dump a pickle of the array to the specified file.\n |      The array can be read back with pickle.load or numpy.load.\n |\n |      Parameters\n |      ----------\n |      file : str or Path\n |          A string naming the dump file.\n |\n |          .. versionchanged:: 1.17.0\n |              `pathlib.Path` objects are now accepted.\n |\n |  dumps(...)\n |      a.dumps()\n |\n |      Returns the pickle of the array as a string.\n |      pickle.loads will convert the string back to an array.\n |\n |      Parameters\n |      ----------\n |      None\n |\n |  fill(...)\n |      a.fill(value)\n |\n |      Fill the array with a scalar value.\n |\n |      Parameters\n |      ----------\n |      value : scalar\n |          All elements of `a` will be assigned this value.\n |\n |      Examples\n |      --------\n |      >>> a = np.array([1, 2])\n |      >>> a.fill(0)\n |      >>> a\n |      array([0, 0])\n |      >>> a = np.empty(2)\n |      >>> a.fill(1)\n |      >>> a\n |      array([1.,  1.])\n |\n |      Fill expects a scalar value and always behaves the same as assigning\n |      to a single array element.  The following is a rare example where this\n |      distinction is important:\n |\n |      >>> a = np.array([None, None], dtype=object)\n |      >>> a[0] = np.array(3)\n |      >>> a\n |      array([array(3), None], dtype=object)\n |      >>> a.fill(np.array(3))\n |      >>> a\n |      array([array(3), array(3)], dtype=object)\n |\n |      Where other forms of assignments will unpack the array being assigned:\n |\n |      >>> a[...] = np.array(3)\n |      >>> a\n |      array([3, 3], dtype=object)\n |\n |  flatten(...)\n |      a.flatten(order='C')\n |\n |      Return a copy of the array collapsed into one dimension.\n |\n |      Parameters\n |      ----------\n |      order : {'C', 'F', 'A', 'K'}, optional\n |          'C' means to flatten in row-major (C-style) order.\n |          'F' means to flatten in column-major (Fortran-\n |          style) order. 'A' means to flatten in column-major\n |          order if `a` is Fortran *contiguous* in memory,\n |          row-major order otherwise. 'K' means to flatten\n |          `a` in the order the elements occur in memory.\n |          The default is 'C'.\n |\n |      Returns\n |      -------\n |      y : ndarray\n |          A copy of the input array, flattened to one dimension.\n |\n |      See Also\n |      --------\n |      ravel : Return a flattened array.\n |      flat : A 1-D flat iterator over the array.\n |\n |      Examples\n |      --------\n |      >>> a = np.array([[1,2], [3,4]])\n |      >>> a.flatten()\n |      array([1, 2, 3, 4])\n |      >>> a.flatten('F')\n |      array([1, 3, 2, 4])\n |\n |  getfield(...)\n |      a.getfield(dtype, offset=0)\n |\n |      Returns a field of the given array as a certain type.\n |\n |      A field is a view of the array data with a given data-type. The values in\n |      the view are determined by the given type and the offset into the current\n |      array in bytes. The offset needs to be such that the view dtype fits in the\n |      array dtype; for example an array of dtype complex128 has 16-byte elements.\n |      If taking a view with a 32-bit integer (4 bytes), the offset needs to be\n |      between 0 and 12 bytes.\n |\n |      Parameters\n |      ----------\n |      dtype : str or dtype\n |          The data type of the view. The dtype size of the view can not be larger\n |          than that of the array itself.\n |      offset : int\n |          Number of bytes to skip before beginning the element view.\n |\n |      Examples\n |      --------\n |      >>> x = np.diag([1.+1.j]*2)\n |      >>> x[1, 1] = 2 + 4.j\n |      >>> x\n |      array([[1.+1.j,  0.+0.j],\n |             [0.+0.j,  2.+4.j]])\n |      >>> x.getfield(np.float64)\n |      array([[1.,  0.],\n |             [0.,  2.]])\n |\n |      By choosing an offset of 8 bytes we can select the complex part of the\n |      array for our view:\n |\n |      >>> x.getfield(np.float64, offset=8)\n |      array([[1.,  0.],\n |             [0.,  4.]])\n |\n |  item(...)\n |      a.item(*args)\n |\n |      Copy an element of an array to a standard Python scalar and return it.\n |\n |      Parameters\n |      ----------\n |      \\*args : Arguments (variable number and type)\n |\n |          * none: in this case, the method only works for arrays\n |            with one element (`a.size == 1`), which element is\n |            copied into a standard Python scalar object and returned.\n |\n |          * int_type: this argument is interpreted as a flat index into\n |            the array, specifying which element to copy and return.\n |\n |          * tuple of int_types: functions as does a single int_type argument,\n |            except that the argument is interpreted as an nd-index into the\n |            array.\n |\n |      Returns\n |      -------\n |      z : Standard Python scalar object\n |          A copy of the specified element of the array as a suitable\n |          Python scalar\n |\n |      Notes\n |      -----\n |      When the data type of `a` is longdouble or clongdouble, item() returns\n |      a scalar array object because there is no available Python scalar that\n |      would not lose information. Void arrays return a buffer object for item(),\n |      unless fields are defined, in which case a tuple is returned.\n |\n |      `item` is very similar to a[args], except, instead of an array scalar,\n |      a standard Python scalar is returned. This can be useful for speeding up\n |      access to elements of the array and doing arithmetic on elements of the\n |      array using Python's optimized math.\n |\n |      Examples\n |      --------\n |      >>> np.random.seed(123)\n |      >>> x = np.random.randint(9, size=(3, 3))\n |      >>> x\n |      array([[2, 2, 6],\n |             [1, 3, 6],\n |             [1, 0, 1]])\n |      >>> x.item(3)\n |      1\n |      >>> x.item(7)\n |      0\n |      >>> x.item((0, 1))\n |      2\n |      >>> x.item((2, 2))\n |      1\n |\n |  itemset(...)\n |      a.itemset(*args)\n |\n |      Insert scalar into an array (scalar is cast to array's dtype, if possible)\n |\n |      There must be at least 1 argument, and define the last argument\n |      as *item*.  Then, ``a.itemset(*args)`` is equivalent to but faster\n |      than ``a[args] = item``.  The item should be a scalar value and `args`\n |      must select a single item in the array `a`.\n |\n |      Parameters\n |      ----------\n |      \\*args : Arguments\n |          If one argument: a scalar, only used in case `a` is of size 1.\n |          If two arguments: the last argument is the value to be set\n |          and must be a scalar, the first argument specifies a single array\n |          element location. It is either an int or a tuple.\n |\n |      Notes\n |      -----\n |      Compared to indexing syntax, `itemset` provides some speed increase\n |      for placing a scalar into a particular location in an `ndarray`,\n |      if you must do this.  However, generally this is discouraged:\n |      among other problems, it complicates the appearance of the code.\n |      Also, when using `itemset` (and `item`) inside a loop, be sure\n |      to assign the methods to a local variable to avoid the attribute\n |      look-up at each loop iteration.\n |\n |      Examples\n |      --------\n |      >>> np.random.seed(123)\n |      >>> x = np.random.randint(9, size=(3, 3))\n |      >>> x\n |      array([[2, 2, 6],\n |             [1, 3, 6],\n |             [1, 0, 1]])\n |      >>> x.itemset(4, 0)\n |      >>> x.itemset((2, 2), 9)\n |      >>> x\n |      array([[2, 2, 6],\n |             [1, 0, 6],\n |             [1, 0, 9]])\n |\n |  max(...)\n |      a.max(axis=None, out=None, keepdims=False, initial=<no value>, where=True)\n |\n |      Return the maximum along a given axis.\n |\n |      Refer to `numpy.amax` for full documentation.\n |\n |      See Also\n |      --------\n |      numpy.amax : equivalent function\n |\n |  mean(...)\n |      a.mean(axis=None, dtype=None, out=None, keepdims=False, *, where=True)\n |\n |      Returns the average of the array elements along given axis.\n |\n |      Refer to `numpy.mean` for full documentation.\n |\n |      See Also\n |      --------\n |      numpy.mean : equivalent function\n |\n |  min(...)\n |      a.min(axis=None, out=None, keepdims=False, initial=<no value>, where=True)\n |\n |      Return the minimum along a given axis.\n |\n |      Refer to `numpy.amin` for full documentation.\n |\n |      See Also\n |      --------\n |      numpy.amin : equivalent function\n |\n |  newbyteorder(...)\n |      arr.newbyteorder(new_order='S', /)\n |\n |      Return the array with the same data viewed with a different byte order.\n |\n |      Equivalent to::\n |\n |          arr.view(arr.dtype.newbytorder(new_order))\n |\n |      Changes are also made in all fields and sub-arrays of the array data\n |      type.\n |\n |\n |\n |      Parameters\n |      ----------\n |      new_order : string, optional\n |          Byte order to force; a value from the byte order specifications\n |          below. `new_order` codes can be any of:\n |\n |          * 'S' - swap dtype from current to opposite endian\n |          * {'<', 'little'} - little endian\n |          * {'>', 'big'} - big endian\n |          * {'=', 'native'} - native order, equivalent to `sys.byteorder`\n |          * {'|', 'I'} - ignore (no change to byte order)\n |\n |          The default value ('S') results in swapping the current\n |          byte order.\n |\n |\n |      Returns\n |      -------\n |      new_arr : array\n |          New array object with the dtype reflecting given change to the\n |          byte order.\n |\n |  nonzero(...)\n |      a.nonzero()\n |\n |      Return the indices of the elements that are non-zero.\n |\n |      Refer to `numpy.nonzero` for full documentation.\n |\n |      See Also\n |      --------\n |      numpy.nonzero : equivalent function\n |\n |  partition(...)\n |      a.partition(kth, axis=-1, kind='introselect', order=None)\n |\n |      Rearranges the elements in the array in such a way that the value of the\n |      element in kth position is in the position it would be in a sorted array.\n |      All elements smaller than the kth element are moved before this element and\n |      all equal or greater are moved behind it. The ordering of the elements in\n |      the two partitions is undefined.\n |\n |      .. versionadded:: 1.8.0\n |\n |      Parameters\n |      ----------\n |      kth : int or sequence of ints\n |          Element index to partition by. The kth element value will be in its\n |          final sorted position and all smaller elements will be moved before it\n |          and all equal or greater elements behind it.\n |          The order of all elements in the partitions is undefined.\n |          If provided with a sequence of kth it will partition all elements\n |          indexed by kth of them into their sorted position at once.\n |\n |          .. deprecated:: 1.22.0\n |              Passing booleans as index is deprecated.\n |      axis : int, optional\n |          Axis along which to sort. Default is -1, which means sort along the\n |          last axis.\n |      kind : {'introselect'}, optional\n |          Selection algorithm. Default is 'introselect'.\n |      order : str or list of str, optional\n |          When `a` is an array with fields defined, this argument specifies\n |          which fields to compare first, second, etc. A single field can\n |          be specified as a string, and not all fields need to be specified,\n |          but unspecified fields will still be used, in the order in which\n |          they come up in the dtype, to break ties.\n |\n |      See Also\n |      --------\n |      numpy.partition : Return a partitioned copy of an array.\n |      argpartition : Indirect partition.\n |      sort : Full sort.\n |\n |      Notes\n |      -----\n |      See ``np.partition`` for notes on the different algorithms.\n |\n |      Examples\n |      --------\n |      >>> a = np.array([3, 4, 2, 1])\n |      >>> a.partition(3)\n |      >>> a\n |      array([2, 1, 3, 4])\n |\n |      >>> a.partition((1, 3))\n |      >>> a\n |      array([1, 2, 3, 4])\n |\n |  prod(...)\n |      a.prod(axis=None, dtype=None, out=None, keepdims=False, initial=1, where=True)\n |\n |      Return the product of the array elements over the given axis\n |\n |      Refer to `numpy.prod` for full documentation.\n |\n |      See Also\n |      --------\n |      numpy.prod : equivalent function\n |\n |  ptp(...)\n |      a.ptp(axis=None, out=None, keepdims=False)\n |\n |      Peak to peak (maximum - minimum) value along a given axis.\n |\n |      Refer to `numpy.ptp` for full documentation.\n |\n |      See Also\n |      --------\n |      numpy.ptp : equivalent function\n |\n |  put(...)\n |      a.put(indices, values, mode='raise')\n |\n |      Set ``a.flat[n] = values[n]`` for all `n` in indices.\n |\n |      Refer to `numpy.put` for full documentation.\n |\n |      See Also\n |      --------\n |      numpy.put : equivalent function\n |\n |  ravel(...)\n |      a.ravel([order])\n |\n |      Return a flattened array.\n |\n |      Refer to `numpy.ravel` for full documentation.\n |\n |      See Also\n |      --------\n |      numpy.ravel : equivalent function\n |\n |      ndarray.flat : a flat iterator on the array.\n |\n |  repeat(...)\n |      a.repeat(repeats, axis=None)\n |\n |      Repeat elements of an array.\n |\n |      Refer to `numpy.repeat` for full documentation.\n |\n |      See Also\n |      --------\n |      numpy.repeat : equivalent function\n |\n |  reshape(...)\n |      a.reshape(shape, order='C')\n |\n |      Returns an array containing the same data with a new shape.\n |\n |      Refer to `numpy.reshape` for full documentation.\n |\n |      See Also\n |      --------\n |      numpy.reshape : equivalent function\n |\n |      Notes\n |      -----\n |      Unlike the free function `numpy.reshape`, this method on `ndarray` allows\n |      the elements of the shape parameter to be passed in as separate arguments.\n |      For example, ``a.reshape(10, 11)`` is equivalent to\n |      ``a.reshape((10, 11))``.\n |\n |  resize(...)\n |      a.resize(new_shape, refcheck=True)\n |\n |      Change shape and size of array in-place.\n |\n |      Parameters\n |      ----------\n |      new_shape : tuple of ints, or `n` ints\n |          Shape of resized array.\n |      refcheck : bool, optional\n |          If False, reference count will not be checked. Default is True.\n |\n |      Returns\n |      -------\n |      None\n |\n |      Raises\n |      ------\n |      ValueError\n |          If `a` does not own its own data or references or views to it exist,\n |          and the data memory must be changed.\n |          PyPy only: will always raise if the data memory must be changed, since\n |          there is no reliable way to determine if references or views to it\n |          exist.\n |\n |      SystemError\n |          If the `order` keyword argument is specified. This behaviour is a\n |          bug in NumPy.\n |\n |      See Also\n |      --------\n |      resize : Return a new array with the specified shape.\n |\n |      Notes\n |      -----\n |      This reallocates space for the data area if necessary.\n |\n |      Only contiguous arrays (data elements consecutive in memory) can be\n |      resized.\n |\n |      The purpose of the reference count check is to make sure you\n |      do not use this array as a buffer for another Python object and then\n |      reallocate the memory. However, reference counts can increase in\n |      other ways so if you are sure that you have not shared the memory\n |      for this array with another Python object, then you may safely set\n |      `refcheck` to False.\n |\n |      Examples\n |      --------\n |      Shrinking an array: array is flattened (in the order that the data are\n |      stored in memory), resized, and reshaped:\n |\n |      >>> a = np.array([[0, 1], [2, 3]], order='C')\n |      >>> a.resize((2, 1))\n |      >>> a\n |      array([[0],\n |             [1]])\n |\n |      >>> a = np.array([[0, 1], [2, 3]], order='F')\n |      >>> a.resize((2, 1))\n |      >>> a\n |      array([[0],\n |             [2]])\n |\n |      Enlarging an array: as above, but missing entries are filled with zeros:\n |\n |      >>> b = np.array([[0, 1], [2, 3]])\n |      >>> b.resize(2, 3) # new_shape parameter doesn't have to be a tuple\n |      >>> b\n |      array([[0, 1, 2],\n |             [3, 0, 0]])\n |\n |      Referencing an array prevents resizing...\n |\n |      >>> c = a\n |      >>> a.resize((1, 1))\n |      Traceback (most recent call last):\n |      ...\n |      ValueError: cannot resize an array that references or is referenced ...\n |\n |      Unless `refcheck` is False:\n |\n |      >>> a.resize((1, 1), refcheck=False)\n |      >>> a\n |      array([[0]])\n |      >>> c\n |      array([[0]])\n |\n |  round(...)\n |      a.round(decimals=0, out=None)\n |\n |      Return `a` with each element rounded to the given number of decimals.\n |\n |      Refer to `numpy.around` for full documentation.\n |\n |      See Also\n |      --------\n |      numpy.around : equivalent function\n |\n |  searchsorted(...)\n |      a.searchsorted(v, side='left', sorter=None)\n |\n |      Find indices where elements of v should be inserted in a to maintain order.\n |\n |      For full documentation, see `numpy.searchsorted`\n |\n |      See Also\n |      --------\n |      numpy.searchsorted : equivalent function\n |\n |  setfield(...)\n |      a.setfield(val, dtype, offset=0)\n |\n |      Put a value into a specified place in a field defined by a data-type.\n |\n |      Place `val` into `a`'s field defined by `dtype` and beginning `offset`\n |      bytes into the field.\n |\n |      Parameters\n |      ----------\n |      val : object\n |          Value to be placed in field.\n |      dtype : dtype object\n |          Data-type of the field in which to place `val`.\n |      offset : int, optional\n |          The number of bytes into the field at which to place `val`.\n |\n |      Returns\n |      -------\n |      None\n |\n |      See Also\n |      --------\n |      getfield\n |\n |      Examples\n |      --------\n |      >>> x = np.eye(3)\n |      >>> x.getfield(np.float64)\n |      array([[1.,  0.,  0.],\n |             [0.,  1.,  0.],\n |             [0.,  0.,  1.]])\n |      >>> x.setfield(3, np.int32)\n |      >>> x.getfield(np.int32)\n |      array([[3, 3, 3],\n |             [3, 3, 3],\n |             [3, 3, 3]], dtype=int32)\n |      >>> x\n |      array([[1.0e+000, 1.5e-323, 1.5e-323],\n |             [1.5e-323, 1.0e+000, 1.5e-323],\n |             [1.5e-323, 1.5e-323, 1.0e+000]])\n |      >>> x.setfield(np.eye(3), np.int32)\n |      >>> x\n |      array([[1.,  0.,  0.],\n |             [0.,  1.,  0.],\n |             [0.,  0.,  1.]])\n |\n |  setflags(...)\n |      a.setflags(write=None, align=None, uic=None)\n |\n |      Set array flags WRITEABLE, ALIGNED, WRITEBACKIFCOPY,\n |      respectively.\n |\n |      These Boolean-valued flags affect how numpy interprets the memory\n |      area used by `a` (see Notes below). The ALIGNED flag can only\n |      be set to True if the data is actually aligned according to the type.\n |      The WRITEBACKIFCOPY and flag can never be set\n |      to True. The flag WRITEABLE can only be set to True if the array owns its\n |      own memory, or the ultimate owner of the memory exposes a writeable buffer\n |      interface, or is a string. (The exception for string is made so that\n |      unpickling can be done without copying memory.)\n |\n |      Parameters\n |      ----------\n |      write : bool, optional\n |          Describes whether or not `a` can be written to.\n |      align : bool, optional\n |          Describes whether or not `a` is aligned properly for its type.\n |      uic : bool, optional\n |          Describes whether or not `a` is a copy of another \"base\" array.\n |\n |      Notes\n |      -----\n |      Array flags provide information about how the memory area used\n |      for the array is to be interpreted. There are 7 Boolean flags\n |      in use, only four of which can be changed by the user:\n |      WRITEBACKIFCOPY, WRITEABLE, and ALIGNED.\n |\n |      WRITEABLE (W) the data area can be written to;\n |\n |      ALIGNED (A) the data and strides are aligned appropriately for the hardware\n |      (as determined by the compiler);\n |\n |      WRITEBACKIFCOPY (X) this array is a copy of some other array (referenced\n |      by .base). When the C-API function PyArray_ResolveWritebackIfCopy is\n |      called, the base array will be updated with the contents of this array.\n |\n |      All flags can be accessed using the single (upper case) letter as well\n |      as the full name.\n |\n |      Examples\n |      --------\n |      >>> y = np.array([[3, 1, 7],\n |      ...               [2, 0, 0],\n |      ...               [8, 5, 9]])\n |      >>> y\n |      array([[3, 1, 7],\n |             [2, 0, 0],\n |             [8, 5, 9]])\n |      >>> y.flags\n |        C_CONTIGUOUS : True\n |        F_CONTIGUOUS : False\n |        OWNDATA : True\n |        WRITEABLE : True\n |        ALIGNED : True\n |        WRITEBACKIFCOPY : False\n |      >>> y.setflags(write=0, align=0)\n |      >>> y.flags\n |        C_CONTIGUOUS : True\n |        F_CONTIGUOUS : False\n |        OWNDATA : True\n |        WRITEABLE : False\n |        ALIGNED : False\n |        WRITEBACKIFCOPY : False\n |      >>> y.setflags(uic=1)\n |      Traceback (most recent call last):\n |        File \"<stdin>\", line 1, in <module>\n |      ValueError: cannot set WRITEBACKIFCOPY flag to True\n |\n |  sort(...)\n |      a.sort(axis=-1, kind=None, order=None)\n |\n |      Sort an array in-place. Refer to `numpy.sort` for full documentation.\n |\n |      Parameters\n |      ----------\n |      axis : int, optional\n |          Axis along which to sort. Default is -1, which means sort along the\n |          last axis.\n |      kind : {'quicksort', 'mergesort', 'heapsort', 'stable'}, optional\n |          Sorting algorithm. The default is 'quicksort'. Note that both 'stable'\n |          and 'mergesort' use timsort under the covers and, in general, the\n |          actual implementation will vary with datatype. The 'mergesort' option\n |          is retained for backwards compatibility.\n |\n |          .. versionchanged:: 1.15.0\n |             The 'stable' option was added.\n |\n |      order : str or list of str, optional\n |          When `a` is an array with fields defined, this argument specifies\n |          which fields to compare first, second, etc.  A single field can\n |          be specified as a string, and not all fields need be specified,\n |          but unspecified fields will still be used, in the order in which\n |          they come up in the dtype, to break ties.\n |\n |      See Also\n |      --------\n |      numpy.sort : Return a sorted copy of an array.\n |      numpy.argsort : Indirect sort.\n |      numpy.lexsort : Indirect stable sort on multiple keys.\n |      numpy.searchsorted : Find elements in sorted array.\n |      numpy.partition: Partial sort.\n |\n |      Notes\n |      -----\n |      See `numpy.sort` for notes on the different sorting algorithms.\n |\n |      Examples\n |      --------\n |      >>> a = np.array([[1,4], [3,1]])\n |      >>> a.sort(axis=1)\n |      >>> a\n |      array([[1, 4],\n |             [1, 3]])\n |      >>> a.sort(axis=0)\n |      >>> a\n |      array([[1, 3],\n |             [1, 4]])\n |\n |      Use the `order` keyword to specify a field to use when sorting a\n |      structured array:\n |\n |      >>> a = np.array([('a', 2), ('c', 1)], dtype=[('x', 'S1'), ('y', int)])\n |      >>> a.sort(order='y')\n |      >>> a\n |      array([(b'c', 1), (b'a', 2)],\n |            dtype=[('x', 'S1'), ('y', '<i8')])\n |\n |  squeeze(...)\n |      a.squeeze(axis=None)\n |\n |      Remove axes of length one from `a`.\n |\n |      Refer to `numpy.squeeze` for full documentation.\n |\n |      See Also\n |      --------\n |      numpy.squeeze : equivalent function\n |\n |  std(...)\n |      a.std(axis=None, dtype=None, out=None, ddof=0, keepdims=False, *, where=True)\n |\n |      Returns the standard deviation of the array elements along given axis.\n |\n |      Refer to `numpy.std` for full documentation.\n |\n |      See Also\n |      --------\n |      numpy.std : equivalent function\n |\n |  sum(...)\n |      a.sum(axis=None, dtype=None, out=None, keepdims=False, initial=0, where=True)\n |\n |      Return the sum of the array elements over the given axis.\n |\n |      Refer to `numpy.sum` for full documentation.\n |\n |      See Also\n |      --------\n |      numpy.sum : equivalent function\n |\n |  swapaxes(...)\n |      a.swapaxes(axis1, axis2)\n |\n |      Return a view of the array with `axis1` and `axis2` interchanged.\n |\n |      Refer to `numpy.swapaxes` for full documentation.\n |\n |      See Also\n |      --------\n |      numpy.swapaxes : equivalent function\n |\n |  take(...)\n |      a.take(indices, axis=None, out=None, mode='raise')\n |\n |      Return an array formed from the elements of `a` at the given indices.\n |\n |      Refer to `numpy.take` for full documentation.\n |\n |      See Also\n |      --------\n |      numpy.take : equivalent function\n |\n |  tobytes(...)\n |      a.tobytes(order='C')\n |\n |      Construct Python bytes containing the raw data bytes in the array.\n |\n |      Constructs Python bytes showing a copy of the raw contents of\n |      data memory. The bytes object is produced in C-order by default.\n |      This behavior is controlled by the ``order`` parameter.\n |\n |      .. versionadded:: 1.9.0\n |\n |      Parameters\n |      ----------\n |      order : {'C', 'F', 'A'}, optional\n |          Controls the memory layout of the bytes object. 'C' means C-order,\n |          'F' means F-order, 'A' (short for *Any*) means 'F' if `a` is\n |          Fortran contiguous, 'C' otherwise. Default is 'C'.\n |\n |      Returns\n |      -------\n |      s : bytes\n |          Python bytes exhibiting a copy of `a`'s raw data.\n |\n |      See also\n |      --------\n |      frombuffer\n |          Inverse of this operation, construct a 1-dimensional array from Python\n |          bytes.\n |\n |      Examples\n |      --------\n |      >>> x = np.array([[0, 1], [2, 3]], dtype='<u2')\n |      >>> x.tobytes()\n |      b'\\x00\\x00\\x01\\x00\\x02\\x00\\x03\\x00'\n |      >>> x.tobytes('C') == x.tobytes()\n |      True\n |      >>> x.tobytes('F')\n |      b'\\x00\\x00\\x02\\x00\\x01\\x00\\x03\\x00'\n |\n |  tofile(...)\n |      a.tofile(fid, sep=\"\", format=\"%s\")\n |\n |      Write array to a file as text or binary (default).\n |\n |      Data is always written in 'C' order, independent of the order of `a`.\n |      The data produced by this method can be recovered using the function\n |      fromfile().\n |\n |      Parameters\n |      ----------\n |      fid : file or str or Path\n |          An open file object, or a string containing a filename.\n |\n |          .. versionchanged:: 1.17.0\n |              `pathlib.Path` objects are now accepted.\n |\n |      sep : str\n |          Separator between array items for text output.\n |          If \"\" (empty), a binary file is written, equivalent to\n |          ``file.write(a.tobytes())``.\n |      format : str\n |          Format string for text file output.\n |          Each entry in the array is formatted to text by first converting\n |          it to the closest Python type, and then using \"format\" % item.\n |\n |      Notes\n |      -----\n |      This is a convenience function for quick storage of array data.\n |      Information on endianness and precision is lost, so this method is not a\n |      good choice for files intended to archive data or transport data between\n |      machines with different endianness. Some of these problems can be overcome\n |      by outputting the data as text files, at the expense of speed and file\n |      size.\n |\n |      When fid is a file object, array contents are directly written to the\n |      file, bypassing the file object's ``write`` method. As a result, tofile\n |      cannot be used with files objects supporting compression (e.g., GzipFile)\n |      or file-like objects that do not support ``fileno()`` (e.g., BytesIO).\n |\n |  tolist(...)\n |      a.tolist()\n |\n |      Return the array as an ``a.ndim``-levels deep nested list of Python scalars.\n |\n |      Return a copy of the array data as a (nested) Python list.\n |      Data items are converted to the nearest compatible builtin Python type, via\n |      the `~numpy.ndarray.item` function.\n |\n |      If ``a.ndim`` is 0, then since the depth of the nested list is 0, it will\n |      not be a list at all, but a simple Python scalar.\n |\n |      Parameters\n |      ----------\n |      none\n |\n |      Returns\n |      -------\n |      y : object, or list of object, or list of list of object, or ...\n |          The possibly nested list of array elements.\n |\n |      Notes\n |      -----\n |      The array may be recreated via ``a = np.array(a.tolist())``, although this\n |      may sometimes lose precision.\n |\n |      Examples\n |      --------\n |      For a 1D array, ``a.tolist()`` is almost the same as ``list(a)``,\n |      except that ``tolist`` changes numpy scalars to Python scalars:\n |\n |      >>> a = np.uint32([1, 2])\n |      >>> a_list = list(a)\n |      >>> a_list\n |      [1, 2]\n |      >>> type(a_list[0])\n |      <class 'numpy.uint32'>\n |      >>> a_tolist = a.tolist()\n |      >>> a_tolist\n |      [1, 2]\n |      >>> type(a_tolist[0])\n |      <class 'int'>\n |\n |      Additionally, for a 2D array, ``tolist`` applies recursively:\n |\n |      >>> a = np.array([[1, 2], [3, 4]])\n |      >>> list(a)\n |      [array([1, 2]), array([3, 4])]\n |      >>> a.tolist()\n |      [[1, 2], [3, 4]]\n |\n |      The base case for this recursion is a 0D array:\n |\n |      >>> a = np.array(1)\n |      >>> list(a)\n |      Traceback (most recent call last):\n |        ...\n |      TypeError: iteration over a 0-d array\n |      >>> a.tolist()\n |      1\n |\n |  tostring(...)\n |      a.tostring(order='C')\n |\n |      A compatibility alias for `tobytes`, with exactly the same behavior.\n |\n |      Despite its name, it returns `bytes` not `str`\\ s.\n |\n |      .. deprecated:: 1.19.0\n |\n |  trace(...)\n |      a.trace(offset=0, axis1=0, axis2=1, dtype=None, out=None)\n |\n |      Return the sum along diagonals of the array.\n |\n |      Refer to `numpy.trace` for full documentation.\n |\n |      See Also\n |      --------\n |      numpy.trace : equivalent function\n |\n |  transpose(...)\n |      a.transpose(*axes)\n |\n |      Returns a view of the array with axes transposed.\n |\n |      Refer to `numpy.transpose` for full documentation.\n |\n |      Parameters\n |      ----------\n |      axes : None, tuple of ints, or `n` ints\n |\n |       * None or no argument: reverses the order of the axes.\n |\n |       * tuple of ints: `i` in the `j`-th place in the tuple means that the\n |         array's `i`-th axis becomes the transposed array's `j`-th axis.\n |\n |       * `n` ints: same as an n-tuple of the same ints (this form is\n |         intended simply as a \"convenience\" alternative to the tuple form).\n |\n |      Returns\n |      -------\n |      p : ndarray\n |          View of the array with its axes suitably permuted.\n |\n |      See Also\n |      --------\n |      transpose : Equivalent function.\n |      ndarray.T : Array property returning the array transposed.\n |      ndarray.reshape : Give a new shape to an array without changing its data.\n |\n |      Examples\n |      --------\n |      >>> a = np.array([[1, 2], [3, 4]])\n |      >>> a\n |      array([[1, 2],\n |             [3, 4]])\n |      >>> a.transpose()\n |      array([[1, 3],\n |             [2, 4]])\n |      >>> a.transpose((1, 0))\n |      array([[1, 3],\n |             [2, 4]])\n |      >>> a.transpose(1, 0)\n |      array([[1, 3],\n |             [2, 4]])\n |\n |      >>> a = np.array([1, 2, 3, 4])\n |      >>> a\n |      array([1, 2, 3, 4])\n |      >>> a.transpose()\n |      array([1, 2, 3, 4])\n |\n |  var(...)\n |      a.var(axis=None, dtype=None, out=None, ddof=0, keepdims=False, *, where=True)\n |\n |      Returns the variance of the array elements, along given axis.\n |\n |      Refer to `numpy.var` for full documentation.\n |\n |      See Also\n |      --------\n |      numpy.var : equivalent function\n |\n |  view(...)\n |      a.view([dtype][, type])\n |\n |      New view of array with the same data.\n |\n |      .. note::\n |          Passing None for ``dtype`` is different from omitting the parameter,\n |          since the former invokes ``dtype(None)`` which is an alias for\n |          ``dtype('float_')``.\n |\n |      Parameters\n |      ----------\n |      dtype : data-type or ndarray sub-class, optional\n |          Data-type descriptor of the returned view, e.g., float32 or int16.\n |          Omitting it results in the view having the same data-type as `a`.\n |          This argument can also be specified as an ndarray sub-class, which\n |          then specifies the type of the returned object (this is equivalent to\n |          setting the ``type`` parameter).\n |      type : Python type, optional\n |          Type of the returned view, e.g., ndarray or matrix.  Again, omission\n |          of the parameter results in type preservation.\n |\n |      Notes\n |      -----\n |      ``a.view()`` is used two different ways:\n |\n |      ``a.view(some_dtype)`` or ``a.view(dtype=some_dtype)`` constructs a view\n |      of the array's memory with a different data-type.  This can cause a\n |      reinterpretation of the bytes of memory.\n |\n |      ``a.view(ndarray_subclass)`` or ``a.view(type=ndarray_subclass)`` just\n |      returns an instance of `ndarray_subclass` that looks at the same array\n |      (same shape, dtype, etc.)  This does not cause a reinterpretation of the\n |      memory.\n |\n |      For ``a.view(some_dtype)``, if ``some_dtype`` has a different number of\n |      bytes per entry than the previous dtype (for example, converting a regular\n |      array to a structured array), then the last axis of ``a`` must be\n |      contiguous. This axis will be resized in the result.\n |\n |      .. versionchanged:: 1.23.0\n |         Only the last axis needs to be contiguous. Previously, the entire array\n |         had to be C-contiguous.\n |\n |      Examples\n |      --------\n |      >>> x = np.array([(1, 2)], dtype=[('a', np.int8), ('b', np.int8)])\n |\n |      Viewing array data using a different type and dtype:\n |\n |      >>> y = x.view(dtype=np.int16, type=np.matrix)\n |      >>> y\n |      matrix([[513]], dtype=int16)\n |      >>> print(type(y))\n |      <class 'numpy.matrix'>\n |\n |      Creating a view on a structured array so it can be used in calculations\n |\n |      >>> x = np.array([(1, 2),(3,4)], dtype=[('a', np.int8), ('b', np.int8)])\n |      >>> xv = x.view(dtype=np.int8).reshape(-1,2)\n |      >>> xv\n |      array([[1, 2],\n |             [3, 4]], dtype=int8)\n |      >>> xv.mean(0)\n |      array([2.,  3.])\n |\n |      Making changes to the view changes the underlying array\n |\n |      >>> xv[0,1] = 20\n |      >>> x\n |      array([(1, 20), (3,  4)], dtype=[('a', 'i1'), ('b', 'i1')])\n |\n |      Using a view to convert an array to a recarray:\n |\n |      >>> z = x.view(np.recarray)\n |      >>> z.a\n |      array([1, 3], dtype=int8)\n |\n |      Views share data:\n |\n |      >>> x[0] = (9, 10)\n |      >>> z[0]\n |      (9, 10)\n |\n |      Views that change the dtype size (bytes per entry) should normally be\n |      avoided on arrays defined by slices, transposes, fortran-ordering, etc.:\n |\n |      >>> x = np.array([[1, 2, 3], [4, 5, 6]], dtype=np.int16)\n |      >>> y = x[:, ::2]\n |      >>> y\n |      array([[1, 3],\n |             [4, 6]], dtype=int16)\n |      >>> y.view(dtype=[('width', np.int16), ('length', np.int16)])\n |      Traceback (most recent call last):\n |          ...\n |      ValueError: To change to a dtype of a different size, the last axis must be contiguous\n |      >>> z = y.copy()\n |      >>> z.view(dtype=[('width', np.int16), ('length', np.int16)])\n |      array([[(1, 3)],\n |             [(4, 6)]], dtype=[('width', '<i2'), ('length', '<i2')])\n |\n |      However, views that change dtype are totally fine for arrays with a\n |      contiguous last axis, even if the rest of the axes are not C-contiguous:\n |\n |      >>> x = np.arange(2 * 3 * 4, dtype=np.int8).reshape(2, 3, 4)\n |      >>> x.transpose(1, 0, 2).view(np.int16)\n |      array([[[ 256,  770],\n |              [3340, 3854]],\n |      <BLANKLINE>\n |             [[1284, 1798],\n |              [4368, 4882]],\n |      <BLANKLINE>\n |             [[2312, 2826],\n |              [5396, 5910]]], dtype=int16)\n |\n |  ----------------------------------------------------------------------\n |  Class methods defined here:\n |\n |  __class_getitem__(...) from builtins.type\n |      a.__class_getitem__(item, /)\n |\n |      Return a parametrized wrapper around the `~numpy.ndarray` type.\n |\n |      .. versionadded:: 1.22\n |\n |      Returns\n |      -------\n |      alias : types.GenericAlias\n |          A parametrized `~numpy.ndarray` type.\n |\n |      Examples\n |      --------\n |      >>> from typing import Any\n |      >>> import numpy as np\n |\n |      >>> np.ndarray[Any, np.dtype[Any]]\n |      numpy.ndarray[typing.Any, numpy.dtype[typing.Any]]\n |\n |      See Also\n |      --------\n |      :pep:`585` : Type hinting generics in standard collections.\n |      numpy.typing.NDArray : An ndarray alias :term:`generic <generic type>`\n |                          w.r.t. its `dtype.type <numpy.dtype.type>`.\n |\n |  ----------------------------------------------------------------------\n |  Static methods defined here:\n |\n |  __new__(*args, **kwargs) from builtins.type\n |      Create and return a new object.  See help(type) for accurate signature.\n |\n |  ----------------------------------------------------------------------\n |  Data descriptors defined here:\n |\n |  T\n |      View of the transposed array.\n |\n |      Same as ``self.transpose()``.\n |\n |      Examples\n |      --------\n |      >>> a = np.array([[1, 2], [3, 4]])\n |      >>> a\n |      array([[1, 2],\n |             [3, 4]])\n |      >>> a.T\n |      array([[1, 3],\n |             [2, 4]])\n |\n |      >>> a = np.array([1, 2, 3, 4])\n |      >>> a\n |      array([1, 2, 3, 4])\n |      >>> a.T\n |      array([1, 2, 3, 4])\n |\n |      See Also\n |      --------\n |      transpose\n |\n |  __array_interface__\n |      Array protocol: Python side.\n |\n |  __array_priority__\n |      Array priority.\n |\n |  __array_struct__\n |      Array protocol: C-struct side.\n |\n |  base\n |      Base object if memory is from some other object.\n |\n |      Examples\n |      --------\n |      The base of an array that owns its memory is None:\n |\n |      >>> x = np.array([1,2,3,4])\n |      >>> x.base is None\n |      True\n |\n |      Slicing creates a view, whose memory is shared with x:\n |\n |      >>> y = x[2:]\n |      >>> y.base is x\n |      True\n |\n |  ctypes\n |      An object to simplify the interaction of the array with the ctypes\n |      module.\n |\n |      This attribute creates an object that makes it easier to use arrays\n |      when calling shared libraries with the ctypes module. The returned\n |      object has, among others, data, shape, and strides attributes (see\n |      Notes below) which themselves return ctypes objects that can be used\n |      as arguments to a shared library.\n |\n |      Parameters\n |      ----------\n |      None\n |\n |      Returns\n |      -------\n |      c : Python object\n |          Possessing attributes data, shape, strides, etc.\n |\n |      See Also\n |      --------\n |      numpy.ctypeslib\n |\n |      Notes\n |      -----\n |      Below are the public attributes of this object which were documented\n |      in \"Guide to NumPy\" (we have omitted undocumented public attributes,\n |      as well as documented private attributes):\n |\n |      .. autoattribute:: numpy.core._internal._ctypes.data\n |          :noindex:\n |\n |      .. autoattribute:: numpy.core._internal._ctypes.shape\n |          :noindex:\n |\n |      .. autoattribute:: numpy.core._internal._ctypes.strides\n |          :noindex:\n |\n |      .. automethod:: numpy.core._internal._ctypes.data_as\n |          :noindex:\n |\n |      .. automethod:: numpy.core._internal._ctypes.shape_as\n |          :noindex:\n |\n |      .. automethod:: numpy.core._internal._ctypes.strides_as\n |          :noindex:\n |\n |      If the ctypes module is not available, then the ctypes attribute\n |      of array objects still returns something useful, but ctypes objects\n |      are not returned and errors may be raised instead. In particular,\n |      the object will still have the ``as_parameter`` attribute which will\n |      return an integer equal to the data attribute.\n |\n |      Examples\n |      --------\n |      >>> import ctypes\n |      >>> x = np.array([[0, 1], [2, 3]], dtype=np.int32)\n |      >>> x\n |      array([[0, 1],\n |             [2, 3]], dtype=int32)\n |      >>> x.ctypes.data\n |      31962608 # may vary\n |      >>> x.ctypes.data_as(ctypes.POINTER(ctypes.c_uint32))\n |      <__main__.LP_c_uint object at 0x7ff2fc1fc200> # may vary\n |      >>> x.ctypes.data_as(ctypes.POINTER(ctypes.c_uint32)).contents\n |      c_uint(0)\n |      >>> x.ctypes.data_as(ctypes.POINTER(ctypes.c_uint64)).contents\n |      c_ulong(4294967296)\n |      >>> x.ctypes.shape\n |      <numpy.core._internal.c_long_Array_2 object at 0x7ff2fc1fce60> # may vary\n |      >>> x.ctypes.strides\n |      <numpy.core._internal.c_long_Array_2 object at 0x7ff2fc1ff320> # may vary\n |\n |  data\n |      Python buffer object pointing to the start of the array's data.\n |\n |  dtype\n |      Data-type of the array's elements.\n |\n |      .. warning::\n |\n |          Setting ``arr.dtype`` is discouraged and may be deprecated in the\n |          future.  Setting will replace the ``dtype`` without modifying the\n |          memory (see also `ndarray.view` and `ndarray.astype`).\n |\n |      Parameters\n |      ----------\n |      None\n |\n |      Returns\n |      -------\n |      d : numpy dtype object\n |\n |      See Also\n |      --------\n |      ndarray.astype : Cast the values contained in the array to a new data-type.\n |      ndarray.view : Create a view of the same data but a different data-type.\n |      numpy.dtype\n |\n |      Examples\n |      --------\n |      >>> x\n |      array([[0, 1],\n |             [2, 3]])\n |      >>> x.dtype\n |      dtype('int32')\n |      >>> type(x.dtype)\n |      <type 'numpy.dtype'>\n |\n |  flags\n |      Information about the memory layout of the array.\n |\n |      Attributes\n |      ----------\n |      C_CONTIGUOUS (C)\n |          The data is in a single, C-style contiguous segment.\n |      F_CONTIGUOUS (F)\n |          The data is in a single, Fortran-style contiguous segment.\n |      OWNDATA (O)\n |          The array owns the memory it uses or borrows it from another object.\n |      WRITEABLE (W)\n |          The data area can be written to.  Setting this to False locks\n |          the data, making it read-only.  A view (slice, etc.) inherits WRITEABLE\n |          from its base array at creation time, but a view of a writeable\n |          array may be subsequently locked while the base array remains writeable.\n |          (The opposite is not true, in that a view of a locked array may not\n |          be made writeable.  However, currently, locking a base object does not\n |          lock any views that already reference it, so under that circumstance it\n |          is possible to alter the contents of a locked array via a previously\n |          created writeable view onto it.)  Attempting to change a non-writeable\n |          array raises a RuntimeError exception.\n |      ALIGNED (A)\n |          The data and all elements are aligned appropriately for the hardware.\n |      WRITEBACKIFCOPY (X)\n |          This array is a copy of some other array. The C-API function\n |          PyArray_ResolveWritebackIfCopy must be called before deallocating\n |          to the base array will be updated with the contents of this array.\n |      FNC\n |          F_CONTIGUOUS and not C_CONTIGUOUS.\n |      FORC\n |          F_CONTIGUOUS or C_CONTIGUOUS (one-segment test).\n |      BEHAVED (B)\n |          ALIGNED and WRITEABLE.\n |      CARRAY (CA)\n |          BEHAVED and C_CONTIGUOUS.\n |      FARRAY (FA)\n |          BEHAVED and F_CONTIGUOUS and not C_CONTIGUOUS.\n |\n |      Notes\n |      -----\n |      The `flags` object can be accessed dictionary-like (as in ``a.flags['WRITEABLE']``),\n |      or by using lowercased attribute names (as in ``a.flags.writeable``). Short flag\n |      names are only supported in dictionary access.\n |\n |      Only the WRITEBACKIFCOPY, WRITEABLE, and ALIGNED flags can be\n |      changed by the user, via direct assignment to the attribute or dictionary\n |      entry, or by calling `ndarray.setflags`.\n |\n |      The array flags cannot be set arbitrarily:\n |\n |      - WRITEBACKIFCOPY can only be set ``False``.\n |      - ALIGNED can only be set ``True`` if the data is truly aligned.\n |      - WRITEABLE can only be set ``True`` if the array owns its own memory\n |        or the ultimate owner of the memory exposes a writeable buffer\n |        interface or is a string.\n |\n |      Arrays can be both C-style and Fortran-style contiguous simultaneously.\n |      This is clear for 1-dimensional arrays, but can also be true for higher\n |      dimensional arrays.\n |\n |      Even for contiguous arrays a stride for a given dimension\n |      ``arr.strides[dim]`` may be *arbitrary* if ``arr.shape[dim] == 1``\n |      or the array has no elements.\n |      It does *not* generally hold that ``self.strides[-1] == self.itemsize``\n |      for C-style contiguous arrays or ``self.strides[0] == self.itemsize`` for\n |      Fortran-style contiguous arrays is true.\n |\n |  flat\n |      A 1-D iterator over the array.\n |\n |      This is a `numpy.flatiter` instance, which acts similarly to, but is not\n |      a subclass of, Python's built-in iterator object.\n |\n |      See Also\n |      --------\n |      flatten : Return a copy of the array collapsed into one dimension.\n |\n |      flatiter\n |\n |      Examples\n |      --------\n |      >>> x = np.arange(1, 7).reshape(2, 3)\n |      >>> x\n |      array([[1, 2, 3],\n |             [4, 5, 6]])\n |      >>> x.flat[3]\n |      4\n |      >>> x.T\n |      array([[1, 4],\n |             [2, 5],\n |             [3, 6]])\n |      >>> x.T.flat[3]\n |      5\n |      >>> type(x.flat)\n |      <class 'numpy.flatiter'>\n |\n |      An assignment example:\n |\n |      >>> x.flat = 3; x\n |      array([[3, 3, 3],\n |             [3, 3, 3]])\n |      >>> x.flat[[1,4]] = 1; x\n |      array([[3, 1, 3],\n |             [3, 1, 3]])\n |\n |  imag\n |      The imaginary part of the array.\n |\n |      Examples\n |      --------\n |      >>> x = np.sqrt([1+0j, 0+1j])\n |      >>> x.imag\n |      array([ 0.        ,  0.70710678])\n |      >>> x.imag.dtype\n |      dtype('float64')\n |\n |  itemsize\n |      Length of one array element in bytes.\n |\n |      Examples\n |      --------\n |      >>> x = np.array([1,2,3], dtype=np.float64)\n |      >>> x.itemsize\n |      8\n |      >>> x = np.array([1,2,3], dtype=np.complex128)\n |      >>> x.itemsize\n |      16\n |\n |  nbytes\n |      Total bytes consumed by the elements of the array.\n |\n |      Notes\n |      -----\n |      Does not include memory consumed by non-element attributes of the\n |      array object.\n |\n |      See Also\n |      --------\n |      sys.getsizeof\n |          Memory consumed by the object itself without parents in case view.\n |          This does include memory consumed by non-element attributes.\n |\n |      Examples\n |      --------\n |      >>> x = np.zeros((3,5,2), dtype=np.complex128)\n |      >>> x.nbytes\n |      480\n |      >>> np.prod(x.shape) * x.itemsize\n |      480\n |\n |  ndim\n |      Number of array dimensions.\n |\n |      Examples\n |      --------\n |      >>> x = np.array([1, 2, 3])\n |      >>> x.ndim\n |      1\n |      >>> y = np.zeros((2, 3, 4))\n |      >>> y.ndim\n |      3\n |\n |  real\n |      The real part of the array.\n |\n |      Examples\n |      --------\n |      >>> x = np.sqrt([1+0j, 0+1j])\n |      >>> x.real\n |      array([ 1.        ,  0.70710678])\n |      >>> x.real.dtype\n |      dtype('float64')\n |\n |      See Also\n |      --------\n |      numpy.real : equivalent function\n |\n |  shape\n |      Tuple of array dimensions.\n |\n |      The shape property is usually used to get the current shape of an array,\n |      but may also be used to reshape the array in-place by assigning a tuple of\n |      array dimensions to it.  As with `numpy.reshape`, one of the new shape\n |      dimensions can be -1, in which case its value is inferred from the size of\n |      the array and the remaining dimensions. Reshaping an array in-place will\n |      fail if a copy is required.\n |\n |      .. warning::\n |\n |          Setting ``arr.shape`` is discouraged and may be deprecated in the\n |          future.  Using `ndarray.reshape` is the preferred approach.\n |\n |      Examples\n |      --------\n |      >>> x = np.array([1, 2, 3, 4])\n |      >>> x.shape\n |      (4,)\n |      >>> y = np.zeros((2, 3, 4))\n |      >>> y.shape\n |      (2, 3, 4)\n |      >>> y.shape = (3, 8)\n |      >>> y\n |      array([[ 0.,  0.,  0.,  0.,  0.,  0.,  0.,  0.],\n |             [ 0.,  0.,  0.,  0.,  0.,  0.,  0.,  0.],\n |             [ 0.,  0.,  0.,  0.,  0.,  0.,  0.,  0.]])\n |      >>> y.shape = (3, 6)\n |      Traceback (most recent call last):\n |        File \"<stdin>\", line 1, in <module>\n |      ValueError: total size of new array must be unchanged\n |      >>> np.zeros((4,2))[::2].shape = (-1,)\n |      Traceback (most recent call last):\n |        File \"<stdin>\", line 1, in <module>\n |      AttributeError: Incompatible shape for in-place modification. Use\n |      `.reshape()` to make a copy with the desired shape.\n |\n |      See Also\n |      --------\n |      numpy.shape : Equivalent getter function.\n |      numpy.reshape : Function similar to setting ``shape``.\n |      ndarray.reshape : Method similar to setting ``shape``.\n |\n |  size\n |      Number of elements in the array.\n |\n |      Equal to ``np.prod(a.shape)``, i.e., the product of the array's\n |      dimensions.\n |\n |      Notes\n |      -----\n |      `a.size` returns a standard arbitrary precision Python integer. This\n |      may not be the case with other methods of obtaining the same value\n |      (like the suggested ``np.prod(a.shape)``, which returns an instance\n |      of ``np.int_``), and may be relevant if the value is used further in\n |      calculations that may overflow a fixed size integer type.\n |\n |      Examples\n |      --------\n |      >>> x = np.zeros((3, 5, 2), dtype=np.complex128)\n |      >>> x.size\n |      30\n |      >>> np.prod(x.shape)\n |      30\n |\n |  strides\n |      Tuple of bytes to step in each dimension when traversing an array.\n |\n |      The byte offset of element ``(i[0], i[1], ..., i[n])`` in an array `a`\n |      is::\n |\n |          offset = sum(np.array(i) * a.strides)\n |\n |      A more detailed explanation of strides can be found in the\n |      \"ndarray.rst\" file in the NumPy reference guide.\n |\n |      .. warning::\n |\n |          Setting ``arr.strides`` is discouraged and may be deprecated in the\n |          future.  `numpy.lib.stride_tricks.as_strided` should be preferred\n |          to create a new view of the same data in a safer way.\n |\n |      Notes\n |      -----\n |      Imagine an array of 32-bit integers (each 4 bytes)::\n |\n |        x = np.array([[0, 1, 2, 3, 4],\n |                      [5, 6, 7, 8, 9]], dtype=np.int32)\n |\n |      This array is stored in memory as 40 bytes, one after the other\n |      (known as a contiguous block of memory).  The strides of an array tell\n |      us how many bytes we have to skip in memory to move to the next position\n |      along a certain axis.  For example, we have to skip 4 bytes (1 value) to\n |      move to the next column, but 20 bytes (5 values) to get to the same\n |      position in the next row.  As such, the strides for the array `x` will be\n |      ``(20, 4)``.\n |\n |      See Also\n |      --------\n |      numpy.lib.stride_tricks.as_strided\n |\n |      Examples\n |      --------\n |      >>> y = np.reshape(np.arange(2*3*4), (2,3,4))\n |      >>> y\n |      array([[[ 0,  1,  2,  3],\n |              [ 4,  5,  6,  7],\n |              [ 8,  9, 10, 11]],\n |             [[12, 13, 14, 15],\n |              [16, 17, 18, 19],\n |              [20, 21, 22, 23]]])\n |      >>> y.strides\n |      (48, 16, 4)\n |      >>> y[1,1,1]\n |      17\n |      >>> offset=sum(y.strides * np.array((1,1,1)))\n |      >>> offset/y.itemsize\n |      17\n |\n |      >>> x = np.reshape(np.arange(5*6*7*8), (5,6,7,8)).transpose(2,3,1,0)\n |      >>> x.strides\n |      (32, 4, 224, 1344)\n |      >>> i = np.array([3,5,2,2])\n |      >>> offset = sum(i * x.strides)\n |      >>> x[3,5,2,2]\n |      813\n |      >>> offset / x.itemsize\n |      813\n |\n |  ----------------------------------------------------------------------\n |  Data and other attributes defined here:\n |\n |  __hash__ = None\n\n",
          "output_type": "stream"
        }
      ],
      "execution_count": 37
    },
    {
      "cell_type": "markdown",
      "source": "The attribute <code>size</code> is the number of elements in the array:\n",
      "metadata": {}
    },
    {
      "cell_type": "code",
      "source": "# Get the size of numpy array\n\n#help(a.size)\na.size",
      "metadata": {
        "trusted": true,
        "scrolled": true
      },
      "outputs": [
        {
          "execution_count": 42,
          "output_type": "execute_result",
          "data": {
            "text/plain": "5"
          },
          "metadata": {}
        }
      ],
      "execution_count": 42
    },
    {
      "cell_type": "markdown",
      "source": "The next two attributes will make more sense when we get to higher dimensions but let's review them. The attribute <code>ndim</code> represents the number of array dimensions, or the rank of the array. In this case, one:\n",
      "metadata": {}
    },
    {
      "cell_type": "code",
      "source": "# Get the number of dimensions of numpy array\n\na.ndim",
      "metadata": {
        "trusted": true
      },
      "outputs": [
        {
          "execution_count": 43,
          "output_type": "execute_result",
          "data": {
            "text/plain": "1"
          },
          "metadata": {}
        }
      ],
      "execution_count": 43
    },
    {
      "cell_type": "markdown",
      "source": "The attribute <code>shape</code> is a tuple of integers indicating the size of the array in each dimension:\n",
      "metadata": {}
    },
    {
      "cell_type": "code",
      "source": "# Get the shape/size of numpy array\n\na.shape",
      "metadata": {
        "trusted": true
      },
      "outputs": [
        {
          "execution_count": 44,
          "output_type": "execute_result",
          "data": {
            "text/plain": "(5,)"
          },
          "metadata": {}
        }
      ],
      "execution_count": 44
    },
    {
      "cell_type": "markdown",
      "source": "### Try it yourself\n\nFind the size ,dimension and shape for the given array **b**\n",
      "metadata": {}
    },
    {
      "cell_type": "code",
      "source": "b = np.array([10, 20, 30, 40, 50, 60, 70])\n\n# Enter your code here\nprint(b.size)\nprint(b.ndim)\nprint(b.shape)",
      "metadata": {
        "trusted": true
      },
      "outputs": [
        {
          "name": "stdout",
          "text": "7\n1\n(7,)\n",
          "output_type": "stream"
        }
      ],
      "execution_count": 45
    },
    {
      "cell_type": "markdown",
      "source": "<details><summary>Click here for the solution</summary>\n\n```python\nb.size\n\nb.ndim\n\nb.shape\n\n    \n```\n\n</details>\n",
      "metadata": {}
    },
    {
      "cell_type": "markdown",
      "source": "### Numpy Statistical Functions\n",
      "metadata": {}
    },
    {
      "cell_type": "code",
      "source": "# Create a numpy array\n\na = np.array([1, -1, 1, -1])",
      "metadata": {
        "trusted": true
      },
      "outputs": [],
      "execution_count": 46
    },
    {
      "cell_type": "code",
      "source": "# Get the mean of numpy array\n\nmean = a.mean()\nmean",
      "metadata": {
        "trusted": true
      },
      "outputs": [
        {
          "execution_count": 47,
          "output_type": "execute_result",
          "data": {
            "text/plain": "0.0"
          },
          "metadata": {}
        }
      ],
      "execution_count": 47
    },
    {
      "cell_type": "code",
      "source": "# Get the standard deviation of numpy array\n\nstandard_deviation=a.std()\nstandard_deviation",
      "metadata": {
        "trusted": true
      },
      "outputs": [
        {
          "execution_count": 48,
          "output_type": "execute_result",
          "data": {
            "text/plain": "1.0"
          },
          "metadata": {}
        }
      ],
      "execution_count": 48
    },
    {
      "cell_type": "code",
      "source": "# Create a numpy array\n\nb = np.array([-1, 2, 3, 4, 5])\nb",
      "metadata": {
        "trusted": true
      },
      "outputs": [
        {
          "execution_count": 49,
          "output_type": "execute_result",
          "data": {
            "text/plain": "array([-1,  2,  3,  4,  5])"
          },
          "metadata": {}
        }
      ],
      "execution_count": 49
    },
    {
      "cell_type": "code",
      "source": "# Get the biggest value in the numpy array\n\nmax_b = b.max()\nmax_b",
      "metadata": {
        "trusted": true
      },
      "outputs": [
        {
          "execution_count": 50,
          "output_type": "execute_result",
          "data": {
            "text/plain": "5"
          },
          "metadata": {}
        }
      ],
      "execution_count": 50
    },
    {
      "cell_type": "code",
      "source": "# Get the smallest value in the numpy array\n\nmin_b = b.min()\nmin_b",
      "metadata": {
        "trusted": true
      },
      "outputs": [
        {
          "execution_count": 51,
          "output_type": "execute_result",
          "data": {
            "text/plain": "-1"
          },
          "metadata": {}
        }
      ],
      "execution_count": 51
    },
    {
      "cell_type": "markdown",
      "source": "### Try it yourself\n\nFind the sum of maximum and minimum value in the given numpy array\n",
      "metadata": {}
    },
    {
      "cell_type": "markdown",
      "source": "<hr>\n",
      "metadata": {}
    },
    {
      "cell_type": "code",
      "source": "c = np.array([-10, 201, 43, 94, 502])\n\n# Enter your code here\nprint(c.max())\nprint(c.min())\nprint(c.max()+c.min())",
      "metadata": {
        "trusted": true
      },
      "outputs": [
        {
          "name": "stdout",
          "text": "502\n-10\n492\n",
          "output_type": "stream"
        }
      ],
      "execution_count": 54
    },
    {
      "cell_type": "markdown",
      "source": "<details><summary>Click here for the solution</summary>\n\n```python\nmax_c = c.max()\nmax_c\n    \nmin_c = c.min()\nmin_c\n    \n    \nSum = (max_c +min_c)\nSum\n\n    \n```\n\n</details>\n",
      "metadata": {}
    },
    {
      "cell_type": "markdown",
      "source": "## Numpy Array Operations\n\nYou could use arithmetic operators directly between NumPy arrays\n",
      "metadata": {}
    },
    {
      "cell_type": "markdown",
      "source": "### Array Addition\n\n",
      "metadata": {}
    },
    {
      "cell_type": "markdown",
      "source": "Consider the numpy array <code>u</code>:\n",
      "metadata": {}
    },
    {
      "cell_type": "code",
      "source": "u = np.array([1, 0])\nu",
      "metadata": {
        "trusted": true
      },
      "outputs": [
        {
          "execution_count": 55,
          "output_type": "execute_result",
          "data": {
            "text/plain": "array([1, 0])"
          },
          "metadata": {}
        }
      ],
      "execution_count": 55
    },
    {
      "cell_type": "markdown",
      "source": "Consider the numpy array <code>v</code>:\n",
      "metadata": {}
    },
    {
      "cell_type": "code",
      "source": "v = np.array([0, 1])\nv",
      "metadata": {
        "trusted": true
      },
      "outputs": [
        {
          "execution_count": 56,
          "output_type": "execute_result",
          "data": {
            "text/plain": "array([0, 1])"
          },
          "metadata": {}
        }
      ],
      "execution_count": 56
    },
    {
      "cell_type": "markdown",
      "source": "We can add the two arrays and assign it to z:\n",
      "metadata": {}
    },
    {
      "cell_type": "code",
      "source": "# Numpy Array Addition\n\nz = np.add(u, v)\nz",
      "metadata": {
        "trusted": true
      },
      "outputs": [
        {
          "execution_count": 57,
          "output_type": "execute_result",
          "data": {
            "text/plain": "array([1, 1])"
          },
          "metadata": {}
        }
      ],
      "execution_count": 57
    },
    {
      "cell_type": "markdown",
      "source": "The operation is equivalent to vector addition:\n",
      "metadata": {}
    },
    {
      "cell_type": "code",
      "source": "# Plotting functions\n\n\nimport time \nimport sys\nimport numpy as np \n\nimport matplotlib.pyplot as plt\n\n\ndef Plotvec1(u, z, v):\n    \n    ax = plt.axes() # to generate the full window axes\n    ax.arrow(0, 0, *u, head_width=0.05, color='r', head_length=0.1)# Add an arrow to the  U Axes with arrow head width 0.05, color red and arrow head length 0.1\n    plt.text(*(u + 0.1), 'u')#Adds the text u to the Axes \n    \n    ax.arrow(0, 0, *v, head_width=0.05, color='b', head_length=0.1)# Add an arrow to the  v Axes with arrow head width 0.05, color red and arrow head length 0.1\n    plt.text(*(v + 0.1), 'v')#Adds the text v to the Axes \n    \n    ax.arrow(0, 0, *z, head_width=0.05, head_length=0.1)\n    plt.text(*(z + 0.1), 'z')#Adds the text z to the Axes \n    plt.ylim(-2, 2)#set the ylim to bottom(-2), top(2)\n    plt.xlim(-2, 2)#set the xlim to left(-2), right(2)\n\n  \n",
      "metadata": {
        "trusted": true
      },
      "outputs": [],
      "execution_count": 58
    },
    {
      "cell_type": "code",
      "source": "# Plot numpy arrays\n\nPlotvec1(u, z, v)",
      "metadata": {
        "trusted": true
      },
      "outputs": [
        {
          "output_type": "display_data",
          "data": {
            "text/plain": "<Figure size 640x480 with 1 Axes>",
            "image/png": "[encoded data removed]"
          },
          "metadata": {}
        }
      ],
      "execution_count": 59
    },
    {
      "cell_type": "markdown",
      "source": "### Try it yourself\n\nPerform addition operation on the given numpy array arr1 and arr2:\n",
      "metadata": {}
    },
    {
      "cell_type": "code",
      "source": "arr1 = np.array([10, 11, 12, 13, 14, 15])\narr2 = np.array([20, 21, 22, 23, 24, 25])\n\n# Enter your code here\nz = np.add(arr1,arr2)\nz",
      "metadata": {
        "trusted": true
      },
      "outputs": [
        {
          "execution_count": 61,
          "output_type": "execute_result",
          "data": {
            "text/plain": "array([30, 32, 34, 36, 38, 40])"
          },
          "metadata": {}
        }
      ],
      "execution_count": 61
    },
    {
      "cell_type": "markdown",
      "source": "<details><summary>Click here for the solution</summary>\n\n```python\narr3 = np.add(arr1, arr2)\narr3\n\n    \n```\n\n</details>\n",
      "metadata": {}
    },
    {
      "cell_type": "markdown",
      "source": "### Array Subtraction\n",
      "metadata": {}
    },
    {
      "cell_type": "markdown",
      "source": "Consider the numpy array a:\n",
      "metadata": {}
    },
    {
      "cell_type": "code",
      "source": "a = np.array([10, 20, 30])\na",
      "metadata": {
        "trusted": true
      },
      "outputs": [
        {
          "execution_count": 62,
          "output_type": "execute_result",
          "data": {
            "text/plain": "array([10, 20, 30])"
          },
          "metadata": {}
        }
      ],
      "execution_count": 62
    },
    {
      "cell_type": "markdown",
      "source": "Consider the numpy array b:\n",
      "metadata": {}
    },
    {
      "cell_type": "code",
      "source": "b = np.array([5, 10, 15])\nb",
      "metadata": {
        "trusted": true
      },
      "outputs": [
        {
          "execution_count": 63,
          "output_type": "execute_result",
          "data": {
            "text/plain": "array([ 5, 10, 15])"
          },
          "metadata": {}
        }
      ],
      "execution_count": 63
    },
    {
      "cell_type": "markdown",
      "source": "We can subtract the two arrays and assign it to c:\n",
      "metadata": {}
    },
    {
      "cell_type": "code",
      "source": "c = np.subtract(a, b)\n\nprint(c)",
      "metadata": {
        "trusted": true
      },
      "outputs": [
        {
          "name": "stdout",
          "text": "[ 5 10 15]\n",
          "output_type": "stream"
        }
      ],
      "execution_count": 64
    },
    {
      "cell_type": "markdown",
      "source": "### Try it yourself\n\nPerform subtraction operation on the given numpy array arr1 and arr2:\n",
      "metadata": {}
    },
    {
      "cell_type": "code",
      "source": "arr1 = np.array([10, 20, 30, 40, 50, 60])\narr2 = np.array([20, 21, 22, 23, 24, 25])\n\n# Enter your code here\narr3 = np.subtract(arr1, arr2)\narr3",
      "metadata": {
        "trusted": true
      },
      "outputs": [
        {
          "execution_count": 65,
          "output_type": "execute_result",
          "data": {
            "text/plain": "array([-10,  -1,   8,  17,  26,  35])"
          },
          "metadata": {}
        }
      ],
      "execution_count": 65
    },
    {
      "cell_type": "markdown",
      "source": "<details><summary>Click here for the solution</summary>\n\n```python\narr3 = np.subtract(arr1, arr2)\narr3\n\n    \n```\n\n</details>\n",
      "metadata": {}
    },
    {
      "cell_type": "markdown",
      "source": "### Array Multiplication\n",
      "metadata": {}
    },
    {
      "cell_type": "markdown",
      "source": "Consider the vector numpy array <code>y</code>:\n",
      "metadata": {}
    },
    {
      "cell_type": "code",
      "source": "# Create a numpy array\n\nx = np.array([1, 2])\nx",
      "metadata": {
        "trusted": true
      },
      "outputs": [
        {
          "execution_count": 66,
          "output_type": "execute_result",
          "data": {
            "text/plain": "array([1, 2])"
          },
          "metadata": {}
        }
      ],
      "execution_count": 66
    },
    {
      "cell_type": "code",
      "source": "# Create a numpy array\n\ny = np.array([2, 1])\ny",
      "metadata": {
        "trusted": true
      },
      "outputs": [
        {
          "execution_count": 67,
          "output_type": "execute_result",
          "data": {
            "text/plain": "array([2, 1])"
          },
          "metadata": {}
        }
      ],
      "execution_count": 67
    },
    {
      "cell_type": "markdown",
      "source": "We can multiply every element in the array by 2:\n",
      "metadata": {}
    },
    {
      "cell_type": "code",
      "source": "# Numpy Array Multiplication\n\nz = np.multiply(x, y)\nz",
      "metadata": {
        "trusted": true
      },
      "outputs": [
        {
          "execution_count": 68,
          "output_type": "execute_result",
          "data": {
            "text/plain": "array([2, 2])"
          },
          "metadata": {}
        }
      ],
      "execution_count": 68
    },
    {
      "cell_type": "markdown",
      "source": "This is equivalent to multiplying a vector by a scaler:\n",
      "metadata": {}
    },
    {
      "cell_type": "markdown",
      "source": "### Try it yourself\n\nPerform multiply operation on the given numpy array arr1 and arr2:\n",
      "metadata": {}
    },
    {
      "cell_type": "code",
      "source": "arr1 = np.array([10, 20, 30, 40, 50, 60])\narr2 = np.array([2, 1, 2, 3, 4, 5])\n\n# Enter your code here\narr4 = np.multiply(arr1, arr2)\narr4",
      "metadata": {
        "trusted": true
      },
      "outputs": [
        {
          "execution_count": 70,
          "output_type": "execute_result",
          "data": {
            "text/plain": "array([ 20,  20,  60, 120, 200, 300])"
          },
          "metadata": {}
        }
      ],
      "execution_count": 70
    },
    {
      "cell_type": "markdown",
      "source": "<details><summary>Click here for the solution</summary>\n\n```python\narr3 = np.multiply(arr1, arr2)\narr3\n\n    \n```\n\n</details>\n",
      "metadata": {}
    },
    {
      "cell_type": "markdown",
      "source": "### Array Division\n",
      "metadata": {}
    },
    {
      "cell_type": "markdown",
      "source": "Consider the vector numpy array a:\n",
      "metadata": {}
    },
    {
      "cell_type": "code",
      "source": "a = np.array([10, 20, 30])\na",
      "metadata": {
        "trusted": true
      },
      "outputs": [
        {
          "execution_count": 71,
          "output_type": "execute_result",
          "data": {
            "text/plain": "array([10, 20, 30])"
          },
          "metadata": {}
        }
      ],
      "execution_count": 71
    },
    {
      "cell_type": "markdown",
      "source": "Consider the vector numpy array b:\n",
      "metadata": {}
    },
    {
      "cell_type": "code",
      "source": "b = np.array([2, 10, 5])\nb",
      "metadata": {
        "trusted": true
      },
      "outputs": [
        {
          "execution_count": 72,
          "output_type": "execute_result",
          "data": {
            "text/plain": "array([ 2, 10,  5])"
          },
          "metadata": {}
        }
      ],
      "execution_count": 72
    },
    {
      "cell_type": "markdown",
      "source": "We can divide the two arrays and assign it to c:\n",
      "metadata": {}
    },
    {
      "cell_type": "code",
      "source": "c = np.divide(a, b)\nc",
      "metadata": {
        "trusted": true
      },
      "outputs": [
        {
          "execution_count": 73,
          "output_type": "execute_result",
          "data": {
            "text/plain": "array([5., 2., 6.])"
          },
          "metadata": {}
        }
      ],
      "execution_count": 73
    },
    {
      "cell_type": "markdown",
      "source": "### Try it yourself\n\nPerform division operation on the given numpy array arr1 and arr2:\n",
      "metadata": {}
    },
    {
      "cell_type": "code",
      "source": "arr1 = np.array([10, 20, 30, 40, 50, 60])\narr2 = np.array([3, 5, 10, 8, 2, 33])\n\n# Enter your code here\narr5 = np.divide(arr1,arr2)\narr5",
      "metadata": {
        "trusted": true
      },
      "outputs": [
        {
          "execution_count": 74,
          "output_type": "execute_result",
          "data": {
            "text/plain": "array([ 3.33333333,  4.        ,  3.        ,  5.        , 25.        ,\n        1.81818182])"
          },
          "metadata": {}
        }
      ],
      "execution_count": 74
    },
    {
      "cell_type": "markdown",
      "source": "<details><summary>Click here for the solution</summary>\n\n```python\narr3 = np.divide(arr1, arr2)\narr3\n\n    \n```\n\n</details>\n",
      "metadata": {}
    },
    {
      "cell_type": "markdown",
      "source": "### Dot Product\n",
      "metadata": {}
    },
    {
      "cell_type": "markdown",
      "source": "The dot product of the two numpy arrays <code>u</code> and <code>v</code> is given by:\n",
      "metadata": {}
    },
    {
      "cell_type": "code",
      "source": "X = np.array([1, 2])\nY = np.array([3, 2])",
      "metadata": {
        "trusted": true
      },
      "outputs": [],
      "execution_count": 79
    },
    {
      "cell_type": "code",
      "source": "# Calculate the dot product\n\nnp.dot(X, Y)",
      "metadata": {
        "trusted": true
      },
      "outputs": [
        {
          "execution_count": 80,
          "output_type": "execute_result",
          "data": {
            "text/plain": "7"
          },
          "metadata": {}
        }
      ],
      "execution_count": 80
    },
    {
      "cell_type": "code",
      "source": "#Elements of X\nprint(X[0])\nprint(X[1])",
      "metadata": {
        "trusted": true
      },
      "outputs": [
        {
          "name": "stdout",
          "text": "1\n2\n",
          "output_type": "stream"
        }
      ],
      "execution_count": 81
    },
    {
      "cell_type": "code",
      "source": "#Elements of Y\nprint(Y[0])\nprint(Y[1])",
      "metadata": {
        "trusted": true
      },
      "outputs": [
        {
          "name": "stdout",
          "text": "3\n2\n",
          "output_type": "stream"
        }
      ],
      "execution_count": 82
    },
    {
      "cell_type": "markdown",
      "source": "We are performing the dot product which is shown as below\n",
      "metadata": {}
    },
    {
      "cell_type": "markdown",
      "source": "<img src=\"https://cf-courses-data.s3.us.cloud-object-storage.appdomain.cloud/IBMDeveloperSkillsNetwork-PY0101EN-SkillsNetwork/labs/Module%205/images/dot1.png\">\n",
      "metadata": {}
    },
    {
      "cell_type": "markdown",
      "source": "### Try it yourself\n\nPerform dot operation on the given numpy array ar1 and ar2:\n",
      "metadata": {}
    },
    {
      "cell_type": "code",
      "source": "arr1 = np.array([3, 5])\narr2 = np.array([2, 4])\n\n# Enter your code here\narr6 = np.dot(arr1, arr2)\narr6",
      "metadata": {
        "trusted": true
      },
      "outputs": [
        {
          "execution_count": 83,
          "output_type": "execute_result",
          "data": {
            "text/plain": "26"
          },
          "metadata": {}
        }
      ],
      "execution_count": 83
    },
    {
      "cell_type": "markdown",
      "source": "<details><summary>Click here for the solution</summary>\n\n```python\narr3 = np.dot(arr1, arr2)\narr3\n\n    \n```\n\n</details>\n",
      "metadata": {}
    },
    {
      "cell_type": "markdown",
      "source": "### Adding Constant to a Numpy Array\n",
      "metadata": {}
    },
    {
      "cell_type": "markdown",
      "source": "Consider the following array:\n",
      "metadata": {}
    },
    {
      "cell_type": "code",
      "source": "# Create a constant to numpy array\n\nu = np.array([1, 2, 3, -1]) \nu",
      "metadata": {
        "trusted": true
      },
      "outputs": [
        {
          "execution_count": 84,
          "output_type": "execute_result",
          "data": {
            "text/plain": "array([ 1,  2,  3, -1])"
          },
          "metadata": {}
        }
      ],
      "execution_count": 84
    },
    {
      "cell_type": "markdown",
      "source": "Adding the constant 1 to each element in the array:\n",
      "metadata": {}
    },
    {
      "cell_type": "code",
      "source": "# Add the constant to array\n\nu + 1",
      "metadata": {
        "trusted": true
      },
      "outputs": [
        {
          "execution_count": 85,
          "output_type": "execute_result",
          "data": {
            "text/plain": "array([2, 3, 4, 0])"
          },
          "metadata": {}
        }
      ],
      "execution_count": 85
    },
    {
      "cell_type": "markdown",
      "source": "The process is summarised in the following animation:\n",
      "metadata": {}
    },
    {
      "cell_type": "markdown",
      "source": "<img src=\"https://cf-courses-data.s3.us.cloud-object-storage.appdomain.cloud/IBMDeveloperSkillsNetwork-PY0101EN-SkillsNetwork/labs/Module%205/images/NumOneAdd.gif\" width=\"500\">\n",
      "metadata": {}
    },
    {
      "cell_type": "markdown",
      "source": "### Try it yourself\n\nAdd Constant 5 to the given numpy array ar:\n",
      "metadata": {}
    },
    {
      "cell_type": "code",
      "source": "arr = np.array([1, 2, 3, -1]) \n\n# Enter your code here\narr + 5",
      "metadata": {
        "trusted": true
      },
      "outputs": [
        {
          "execution_count": 87,
          "output_type": "execute_result",
          "data": {
            "text/plain": "array([6, 7, 8, 4])"
          },
          "metadata": {}
        }
      ],
      "execution_count": 87
    },
    {
      "cell_type": "markdown",
      "source": "<details><summary>Click here for the solution</summary>\n\n```python\narr + 5\n\n    \n```\n\n</details>\n",
      "metadata": {}
    },
    {
      "cell_type": "markdown",
      "source": "<hr>\n",
      "metadata": {}
    },
    {
      "cell_type": "markdown",
      "source": "## Mathematical Functions\n",
      "metadata": {}
    },
    {
      "cell_type": "markdown",
      "source": "We can access the value of <code>pi</code> in numpy as follows :\n",
      "metadata": {}
    },
    {
      "cell_type": "code",
      "source": "# The value of pi\n\nnp.pi",
      "metadata": {
        "trusted": true
      },
      "outputs": [
        {
          "execution_count": 88,
          "output_type": "execute_result",
          "data": {
            "text/plain": "3.141592653589793"
          },
          "metadata": {}
        }
      ],
      "execution_count": 88
    },
    {
      "cell_type": "markdown",
      "source": "We can create the following numpy array in Radians:\n",
      "metadata": {}
    },
    {
      "cell_type": "code",
      "source": "# Create the numpy array in radians\n\nx = np.array([0, np.pi/2 , np.pi])",
      "metadata": {
        "trusted": true
      },
      "outputs": [],
      "execution_count": 89
    },
    {
      "cell_type": "markdown",
      "source": "We can apply the function <code>sin</code> to the array <code>x</code> and assign the values to the array <code>y</code>; this applies the sine function to each element in the array:\n",
      "metadata": {}
    },
    {
      "cell_type": "code",
      "source": "# Calculate the sin of each elements\n\ny = np.sin(x)\ny",
      "metadata": {
        "trusted": true
      },
      "outputs": [
        {
          "execution_count": 90,
          "output_type": "execute_result",
          "data": {
            "text/plain": "array([0.0000000e+00, 1.0000000e+00, 1.2246468e-16])"
          },
          "metadata": {}
        }
      ],
      "execution_count": 90
    },
    {
      "cell_type": "markdown",
      "source": "<hr>\n",
      "metadata": {}
    },
    {
      "cell_type": "markdown",
      "source": "## Linspace\n",
      "metadata": {}
    },
    {
      "cell_type": "markdown",
      "source": "A useful function for plotting mathematical functions is <code>linspace</code>.   Linspace returns evenly spaced numbers over a specified interval. \n\n **numpy.linspace(start, stop, num = int value)**\n \nstart  :  start of interval range\n\nstop   :  end of interval range\n\nnum    :  Number of samples to generate.\n",
      "metadata": {}
    },
    {
      "cell_type": "code",
      "source": "# Makeup a numpy array within [-2, 2] and 5 elements\n\nnp.linspace(-2, 2, num=5)",
      "metadata": {
        "trusted": true
      },
      "outputs": [
        {
          "execution_count": 92,
          "output_type": "execute_result",
          "data": {
            "text/plain": "array([-2., -1.,  0.,  1.,  2.])"
          },
          "metadata": {}
        }
      ],
      "execution_count": 92
    },
    {
      "cell_type": "markdown",
      "source": "If we change the parameter <code>num</code> to 9, we get 9 evenly spaced numbers over the interval from -2 to 2:\n",
      "metadata": {}
    },
    {
      "cell_type": "code",
      "source": "# Make a numpy array within [-2, 2] and 9 elements\n\nnp.linspace(-2, 2, num=9)",
      "metadata": {
        "trusted": true
      },
      "outputs": [
        {
          "execution_count": 93,
          "output_type": "execute_result",
          "data": {
            "text/plain": "array([-2. , -1.5, -1. , -0.5,  0. ,  0.5,  1. ,  1.5,  2. ])"
          },
          "metadata": {}
        }
      ],
      "execution_count": 93
    },
    {
      "cell_type": "markdown",
      "source": "We can use the function <code>linspace</code> to generate 100 evenly spaced samples from the interval 0 to 2π:\n",
      "metadata": {}
    },
    {
      "cell_type": "code",
      "source": "# Make a numpy array within [0, 2π] and 100 elements \n\nx = np.linspace(0, 2*np.pi, num=100)\nx",
      "metadata": {
        "trusted": true
      },
      "outputs": [
        {
          "execution_count": 95,
          "output_type": "execute_result",
          "data": {
            "text/plain": "array([0.        , 0.06346652, 0.12693304, 0.19039955, 0.25386607,\n       0.31733259, 0.38079911, 0.44426563, 0.50773215, 0.57119866,\n       0.63466518, 0.6981317 , 0.76159822, 0.82506474, 0.88853126,\n       0.95199777, 1.01546429, 1.07893081, 1.14239733, 1.20586385,\n       1.26933037, 1.33279688, 1.3962634 , 1.45972992, 1.52319644,\n       1.58666296, 1.65012947, 1.71359599, 1.77706251, 1.84052903,\n       1.90399555, 1.96746207, 2.03092858, 2.0943951 , 2.15786162,\n       2.22132814, 2.28479466, 2.34826118, 2.41172769, 2.47519421,\n       2.53866073, 2.60212725, 2.66559377, 2.72906028, 2.7925268 ,\n       2.85599332, 2.91945984, 2.98292636, 3.04639288, 3.10985939,\n       3.17332591, 3.23679243, 3.30025895, 3.36372547, 3.42719199,\n       3.4906585 , 3.55412502, 3.61759154, 3.68105806, 3.74452458,\n       3.8079911 , 3.87145761, 3.93492413, 3.99839065, 4.06185717,\n       4.12532369, 4.1887902 , 4.25225672, 4.31572324, 4.37918976,\n       4.44265628, 4.5061228 , 4.56958931, 4.63305583, 4.69652235,\n       4.75998887, 4.82345539, 4.88692191, 4.95038842, 5.01385494,\n       5.07732146, 5.14078798, 5.2042545 , 5.26772102, 5.33118753,\n       5.39465405, 5.45812057, 5.52158709, 5.58505361, 5.64852012,\n       5.71198664, 5.77545316, 5.83891968, 5.9023862 , 5.96585272,\n       6.02931923, 6.09278575, 6.15625227, 6.21971879, 6.28318531])"
          },
          "metadata": {}
        }
      ],
      "execution_count": 95
    },
    {
      "cell_type": "markdown",
      "source": "We can apply the sine function to each element in the array <code>x</code> and assign it to the array <code>y</code>:\n",
      "metadata": {}
    },
    {
      "cell_type": "code",
      "source": "# Calculate the sine of x list\n\ny = np.sin(x)\ny",
      "metadata": {
        "trusted": true
      },
      "outputs": [
        {
          "execution_count": 98,
          "output_type": "execute_result",
          "data": {
            "text/plain": "array([ 0.00000000e+00,  6.34239197e-02,  1.26592454e-01,  1.89251244e-01,\n        2.51147987e-01,  3.12033446e-01,  3.71662456e-01,  4.29794912e-01,\n        4.86196736e-01,  5.40640817e-01,  5.92907929e-01,  6.42787610e-01,\n        6.90079011e-01,  7.34591709e-01,  7.76146464e-01,  8.14575952e-01,\n        8.49725430e-01,  8.81453363e-01,  9.09631995e-01,  9.34147860e-01,\n        9.54902241e-01,  9.71811568e-01,  9.84807753e-01,  9.93838464e-01,\n        9.98867339e-01,  9.99874128e-01,  9.96854776e-01,  9.89821442e-01,\n        9.78802446e-01,  9.63842159e-01,  9.45000819e-01,  9.22354294e-01,\n        8.95993774e-01,  8.66025404e-01,  8.32569855e-01,  7.95761841e-01,\n        7.55749574e-01,  7.12694171e-01,  6.66769001e-01,  6.18158986e-01,\n        5.67059864e-01,  5.13677392e-01,  4.58226522e-01,  4.00930535e-01,\n        3.42020143e-01,  2.81732557e-01,  2.20310533e-01,  1.58001396e-01,\n        9.50560433e-02,  3.17279335e-02, -3.17279335e-02, -9.50560433e-02,\n       -1.58001396e-01, -2.20310533e-01, -2.81732557e-01, -3.42020143e-01,\n       -4.00930535e-01, -4.58226522e-01, -5.13677392e-01, -5.67059864e-01,\n       -6.18158986e-01, -6.66769001e-01, -7.12694171e-01, -7.55749574e-01,\n       -7.95761841e-01, -8.32569855e-01, -8.66025404e-01, -8.95993774e-01,\n       -9.22354294e-01, -9.45000819e-01, -9.63842159e-01, -9.78802446e-01,\n       -9.89821442e-01, -9.96854776e-01, -9.99874128e-01, -9.98867339e-01,\n       -9.93838464e-01, -9.84807753e-01, -9.71811568e-01, -9.54902241e-01,\n       -9.34147860e-01, -9.09631995e-01, -8.81453363e-01, -8.49725430e-01,\n       -8.14575952e-01, -7.76146464e-01, -7.34591709e-01, -6.90079011e-01,\n       -6.42787610e-01, -5.92907929e-01, -5.40640817e-01, -4.86196736e-01,\n       -4.29794912e-01, -3.71662456e-01, -3.12033446e-01, -2.51147987e-01,\n       -1.89251244e-01, -1.26592454e-01, -6.34239197e-02, -2.44929360e-16])"
          },
          "metadata": {}
        }
      ],
      "execution_count": 98
    },
    {
      "cell_type": "code",
      "source": "# Plot the result\n\nplt.plot(x, y)",
      "metadata": {
        "trusted": true
      },
      "outputs": [
        {
          "execution_count": 97,
          "output_type": "execute_result",
          "data": {
            "text/plain": "[<matplotlib.lines.Line2D at 0x1e9bd78>]"
          },
          "metadata": {}
        },
        {
          "output_type": "display_data",
          "data": {
            "text/plain": "<Figure size 640x480 with 1 Axes>",
            "image/png": "[encoded data removed]"
          },
          "metadata": {}
        }
      ],
      "execution_count": 97
    },
    {
      "cell_type": "markdown",
      "source": "### Try it yourself\n\n Make a numpy array within [5, 4] and 6 elements\n",
      "metadata": {}
    },
    {
      "cell_type": "code",
      "source": "# Enter your code here\nnp.linspace(5,4,6)",
      "metadata": {
        "trusted": true
      },
      "outputs": [
        {
          "execution_count": 99,
          "output_type": "execute_result",
          "data": {
            "text/plain": "array([5. , 4.8, 4.6, 4.4, 4.2, 4. ])"
          },
          "metadata": {}
        }
      ],
      "execution_count": 99
    },
    {
      "cell_type": "markdown",
      "source": "<details><summary>Click here for the solution</summary>\n\n```python\nnp.linspace(5, 4, num=6)\n\n    \n```\n\n</details>\n",
      "metadata": {}
    },
    {
      "cell_type": "markdown",
      "source": "<hr>\n",
      "metadata": {}
    },
    {
      "cell_type": "markdown",
      "source": "### Iterating 1-D Arrays\n\nIterating means going through elements one by one.\n\nIf we iterate on a 1-D array it will go through each element one by one.\n",
      "metadata": {}
    },
    {
      "cell_type": "markdown",
      "source": "If we execute the numpy array, we get in the array format\n",
      "metadata": {}
    },
    {
      "cell_type": "code",
      "source": "arr1 = np.array([1, 2, 3])\nprint(arr1)",
      "metadata": {
        "trusted": true
      },
      "outputs": [
        {
          "name": "stdout",
          "text": "[1 2 3]\n",
          "output_type": "stream"
        }
      ],
      "execution_count": 100
    },
    {
      "cell_type": "markdown",
      "source": "But if you want to result in the form of the list, then you can use for loop:\n",
      "metadata": {}
    },
    {
      "cell_type": "code",
      "source": "for x in arr1:\n  print(x)",
      "metadata": {
        "trusted": true
      },
      "outputs": [
        {
          "name": "stdout",
          "text": "1\n2\n3\n",
          "output_type": "stream"
        }
      ],
      "execution_count": 101
    },
    {
      "cell_type": "markdown",
      "source": "## Quiz on 1D Numpy Array\n",
      "metadata": {}
    },
    {
      "cell_type": "markdown",
      "source": "Implement the following vector subtraction in numpy: u-v\n",
      "metadata": {}
    },
    {
      "cell_type": "code",
      "source": "# Write your code below and press Shift+Enter to execute\n\nu = np.array([1, 0])\nv = np.array([0, 1])\n\nprint(u-v)",
      "metadata": {
        "trusted": true
      },
      "outputs": [
        {
          "name": "stdout",
          "text": "[ 1 -1]\n",
          "output_type": "stream"
        }
      ],
      "execution_count": 105
    },
    {
      "cell_type": "markdown",
      "source": "<details><summary>Click here for the solution</summary>\n\n```python\nu - v\n```\n\n</details>\n",
      "metadata": {}
    },
    {
      "cell_type": "markdown",
      "source": "<hr>\n",
      "metadata": {}
    },
    {
      "cell_type": "markdown",
      "source": "Multiply the numpy array z with -2:\n",
      "metadata": {}
    },
    {
      "cell_type": "code",
      "source": "# Write your code below and press Shift+Enter to execute\n\nz = np.array([2, 4])\n-2 * z",
      "metadata": {
        "trusted": true
      },
      "outputs": [
        {
          "execution_count": 107,
          "output_type": "execute_result",
          "data": {
            "text/plain": "array([-4, -8])"
          },
          "metadata": {}
        }
      ],
      "execution_count": 107
    },
    {
      "cell_type": "markdown",
      "source": "<details><summary>Click here for the solution</summary>\n\n```python\n-2 * z\n```\n\n</details>\n",
      "metadata": {}
    },
    {
      "cell_type": "markdown",
      "source": "<hr>\n",
      "metadata": {}
    },
    {
      "cell_type": "markdown",
      "source": "Consider the list <code>\\[1, 2, 3, 4, 5]</code> and <code>\\[1, 0, 1, 0, 1]</code>. Cast both lists to a numpy array then multiply them together:\n",
      "metadata": {}
    },
    {
      "cell_type": "code",
      "source": "# Write your code below and press Shift+Enter to execute\narr1 = np.array([1,2,3,4,5])\narr2 = np.array([1,0,1,0,1])\narr1*arr2",
      "metadata": {
        "trusted": true
      },
      "outputs": [
        {
          "execution_count": 109,
          "output_type": "execute_result",
          "data": {
            "text/plain": "array([1, 0, 3, 0, 5])"
          },
          "metadata": {}
        }
      ],
      "execution_count": 109
    },
    {
      "cell_type": "markdown",
      "source": "<details><summary>Click here for the solution</summary>\n\n```python\na = np.array([1, 2, 3, 4, 5])\nb = np.array([1, 0, 1, 0, 1])\na * b\n```\n\n</details>\n",
      "metadata": {}
    },
    {
      "cell_type": "markdown",
      "source": "<hr>\n",
      "metadata": {}
    },
    {
      "cell_type": "code",
      "source": "# Import the libraries\n\nimport time \nimport sys\nimport numpy as np \n\nimport matplotlib.pyplot as plt\n\n\ndef Plotvec2(a,b):\n    ax = plt.axes()# to generate the full window axes\n    ax.arrow(0, 0, *a, head_width=0.05, color ='r', head_length=0.1)#Add an arrow to the  a Axes with arrow head width 0.05, color red and arrow head length 0.1\n    plt.text(*(a + 0.1), 'a')\n    ax.arrow(0, 0, *b, head_width=0.05, color ='b', head_length=0.1)#Add an arrow to the  b Axes with arrow head width 0.05, color blue and arrow head length 0.1\n    plt.text(*(b + 0.1), 'b')\n    plt.ylim(-2, 2)#set the ylim to bottom(-2), top(2)\n    plt.xlim(-2, 2)#set the xlim to left(-2), right(2)\n    \n    \n",
      "metadata": {
        "trusted": true
      },
      "outputs": [],
      "execution_count": 110
    },
    {
      "cell_type": "markdown",
      "source": "Convert the list <code>\\[-1, 1]</code> and <code>\\[1, 1]</code> to numpy arrays <code>a</code> and <code>b</code>. Then, plot the arrays as vectors using the fuction <code>Plotvec2</code> and find their dot product:\n",
      "metadata": {}
    },
    {
      "cell_type": "code",
      "source": "# Write your code below and press Shift+Enter to execute\na = np.array([-1,1])\nb = np.array([1,1])\n\nz = np.dot(a,b)\n\nPlotvec2(a,b)\nprint(\"The dot product is\",z)",
      "metadata": {
        "trusted": true
      },
      "outputs": [
        {
          "name": "stdout",
          "text": "The dot product is 0\n",
          "output_type": "stream"
        },
        {
          "output_type": "display_data",
          "data": {
            "text/plain": "<Figure size 640x480 with 1 Axes>",
            "image/png": "[encoded data removed]"
          },
          "metadata": {}
        }
      ],
      "execution_count": 112
    },
    {
      "cell_type": "markdown",
      "source": "<details><summary>Click here for the solution</summary>\n\n```python\n\n\na = np.array([-1, 1])\nb = np.array([1, 1])\nPlotvec2(a, b)\nprint(\"The dot product is\", np.dot(a,b))\n\n```\n\n</details>\n",
      "metadata": {}
    },
    {
      "cell_type": "markdown",
      "source": "<hr>\n",
      "metadata": {}
    },
    {
      "cell_type": "markdown",
      "source": "Convert the list <code>\\[1, 0]</code> and <code>\\[0, 1]</code> to numpy arrays <code>a</code> and <code>b</code>. Then, plot the arrays as vectors using the function <code>Plotvec2</code> and find their dot product:\n",
      "metadata": {}
    },
    {
      "cell_type": "code",
      "source": "# Write your code below and press Shift+Enter to execute\n",
      "metadata": {},
      "outputs": [],
      "execution_count": null
    },
    {
      "cell_type": "markdown",
      "source": "<details><summary>Click here for the solution</summary>\n\n```python\na = np.array([1, 0])\nb = np.array([0, 1])\nPlotvec2(a, b)\nprint(\"The dot product is\", np.dot(a, b))\n\n```\n\n</details>\n",
      "metadata": {}
    },
    {
      "cell_type": "markdown",
      "source": "<hr>\n",
      "metadata": {}
    },
    {
      "cell_type": "markdown",
      "source": "Convert the list <code>\\[1, 1]</code> and <code>\\[0, 1]</code> to numpy arrays <code>a</code> and <code>b</code>. Then plot the arrays as vectors using the fuction <code>Plotvec2</code> and find their dot product:\n",
      "metadata": {}
    },
    {
      "cell_type": "code",
      "source": "# Write your code below and press Shift+Enter to execute\n",
      "metadata": {},
      "outputs": [],
      "execution_count": null
    },
    {
      "cell_type": "markdown",
      "source": "<details><summary>Click here for the solution</summary>\n\n```python\na = np.array([1, 1])\nb = np.array([0, 1])\nPlotvec2(a, b)\nprint(\"The dot product is\", np.dot(a, b))\n\n```\n\n</details>\n",
      "metadata": {}
    },
    {
      "cell_type": "markdown",
      "source": "<hr>\n",
      "metadata": {}
    },
    {
      "cell_type": "markdown",
      "source": "Why are the results of the dot product for <code>\\[-1, 1]</code> and <code>\\[1, 1]</code> and the dot product for <code>\\[1, 0]</code> and <code>\\[0, 1]</code> zero, but not zero for the dot product for <code>\\[1, 1]</code> and <code>\\[0, 1]</code>? <p><i>Hint: Study the corresponding figures, pay attention to the direction the arrows are pointing to.</i></p>\n",
      "metadata": {}
    },
    {
      "cell_type": "code",
      "source": "# Write your code below and press Shift+Enter to execute\n",
      "metadata": {},
      "outputs": [],
      "execution_count": null
    },
    {
      "cell_type": "markdown",
      "source": "<details><summary>Click here for the solution</summary>\n\n```python\nThe vectors used for question 4 and 5 are perpendicular. As a result, the dot product is zero. \n\n```\n\n</details>\n",
      "metadata": {}
    },
    {
      "cell_type": "markdown",
      "source": "Convert the list <code>\\[1, 2, 3]</code> and <code>\\[8, 9, 10]</code> to numpy arrays <code>arr1</code> and <code>arr2</code>. Then perform <code>Addition</code> , <code>Subtraction</code> , <code>Multiplication</code> , <code>Division</code> and <code>Dot Operation</code> on the <code>arr1</code> and <code>arr2</code>.\n\n",
      "metadata": {}
    },
    {
      "cell_type": "code",
      "source": "# Write your code below and press Shift+Enter to execute\n",
      "metadata": {},
      "outputs": [],
      "execution_count": null
    },
    {
      "cell_type": "markdown",
      "source": "<details><summary>Click here for the solution</summary>\n\n```python\narr1 = np.array([1, 2, 3])\narr2 = np.array([8, 9, 10])\n\narr3 = np.add(arr1, arr2)\narr3\n\narr4 = np.subtract(arr1, arr2)\narr4\n\narr5 = np.multiply(arr1, arr2)\narr5\n\n\narr6 = np.divide(arr1, arr2)\narr6\n\narr7 = np.dot(arr1, arr2)\narr7\n```\n\n</details>\n",
      "metadata": {}
    },
    {
      "cell_type": "markdown",
      "source": "Convert the list <code>\\[1, 2, 3, 4, 5]</code> and <code>\\[6, 7, 8, 9, 10]</code> to numpy arrays <code>arr1</code> and <code>arr2</code>. Then find the even and odd numbers from <code>arr1</code> and <code>arr2</code>.\n",
      "metadata": {}
    },
    {
      "cell_type": "code",
      "source": "# Write your code below and press Shift+Enter to execute\n\narr1 = np.array([1, 2, 3, 4, 5])\narr2 = np.array([6, 7, 8, 9, 10])\n\n#Starting index in slice is 1 as first even element(2) in array1 is at index 1\neven_arr1 = arr1[1:5:2]\nprint(\"even for array1\",even_arr1)\n    \n#Starting index in slice is 0 as first odd element(1) in array1 is at index 0\nodd_arr1=arr1[0:5:2]\nprint(\"odd for array1\",odd_arr1)\n\n#Starting index in slice is 0 as first even element(6) in array2 is at index 0\neven_arr2 = arr2[0:5:2]\nprint(\"even for array2\",even_arr2)\n    \n    \n#Starting index in slice is 1 as first odd element(7) in array2 is at index 1\nodd_arr2=arr2[1:5:2]\nprint(\"odd for array2\",odd_arr2)",
      "metadata": {
        "trusted": true
      },
      "outputs": [
        {
          "name": "stdout",
          "text": "even for array1 [2 4]\nodd for array1 [1 3 5]\neven for array2 [ 6  8 10]\nodd for array2 [7 9]\n",
          "output_type": "stream"
        }
      ],
      "execution_count": 113
    },
    {
      "cell_type": "markdown",
      "source": "<details><summary>Click here for the solution</summary>\n\n```python\n\n\narr1 = np.array([1, 2, 3, 4, 5])\narr2 = np.array([6, 7, 8, 9, 10])\n\n#Starting index in slice is 1 as first even element(2) in array1 is at index 1\neven_arr1 = arr1[1:5:2]\nprint(\"even for array1\",even_arr1)\n    \n#Starting index in slice is 0 as first odd element(1) in array1 is at index 0\nodd_arr1=arr1[0:5:2]\nprint(\"odd for array1\",odd_arr1)\n\n#Starting index in slice is 0 as first even element(6) in array2 is at index 0\neven_arr2 = arr2[0:5:2]\nprint(\"even for array2\",even_arr2)\n    \n    \n#Starting index in slice is 1 as first odd element(7) in array2 is at index 1\nodd_arr2=arr2[1:5:2]\nprint(\"odd for array2\",odd_arr2)\n\n```\n\n</details>\n",
      "metadata": {}
    },
    {
      "cell_type": "markdown",
      "source": "<hr>\n<h2>The last exercise!</h2>\n<p>Congratulations, you have completed your first lesson and hands-on lab in Python. \n<hr>\n",
      "metadata": {}
    },
    {
      "cell_type": "markdown",
      "source": "## Author\n\n<a href=\"https://www.linkedin.com/in/joseph-s-50398b136/?utm_medium=Exinfluencer&utm_source=Exinfluencer&utm_content=000026UJ&utm_term=10006555&utm_id=NA-SkillsNetwork-Channel-SkillsNetworkCoursesIBMDeveloperSkillsNetworkPY0101ENSkillsNetwork19487395-2021-01-01\" target=\"_blank\">Joseph Santarcangelo</a>\n\n## Other contributors\n\n<a href=\"https://www.linkedin.com/in/jiahui-mavis-zhou-a4537814a?utm_medium=Exinfluencer&utm_source=Exinfluencer&utm_content=000026UJ&utm_term=10006555&utm_id=NA-SkillsNetwork-Channel-SkillsNetworkCoursesIBMDeveloperSkillsNetworkPY0101ENSkillsNetwork19487395-2021-01-01\">Mavis Zhou</a>\n\n## Change Log\n\n| Date (YYYY-MM-DD) | Version | Changed By | Change Description                 |\n| ----------------- | ------- | ---------- | ---------------------------------- |\n| 2023-11-02 | 2.3 | Abhishek Gagneja | Instructions updated |\n| 2022-03-08        | 2.2     | Niveditha  | Modified and added practice problem|\n| 2022-01-10        | 2.1     | Malika     | Removed the readme for GitShare    |\n| 2020-08-26        | 2.0     | Lavanya    | Moved lab to course repo in GitLab |\n|                   |         |            |                                    |\n|                   |         |            |                                    |\n\n<hr/>\n\n## <h3 align=\"center\"> © IBM Corporation 2023. All rights reserved. <h3/>\n",
      "metadata": {}
    },
    {
      "cell_type": "code",
      "source": "",
      "metadata": {},
      "outputs": [],
      "execution_count": null
    }
  ]
}