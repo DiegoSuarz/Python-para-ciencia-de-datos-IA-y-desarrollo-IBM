{
  "metadata": {
    "kernelspec": {
      "name": "python",
      "display_name": "Python (Pyodide)",
      "language": "python"
    },
    "language_info": {
      "codemirror_mode": {
        "name": "python",
        "version": 3
      },
      "file_extension": ".py",
      "mimetype": "text/x-python",
      "name": "python",
      "nbconvert_exporter": "python",
      "pygments_lexer": "ipython3",
      "version": "3.8"
    }
  },
  "nbformat_minor": 4,
  "nbformat": 4,
  "cells": [
    {
      "cell_type": "markdown",
      "source": "# Fundamentos de Programación en Python - Hoja de Referencia",
      "metadata": {}
    },
    {
      "cell_type": "markdown",
      "source": "## AND\t\nDevuelve `True` si tanto statement1 como statement2 son `True`. De lo contrario, devuelve `False`.\tSintaxis:\n\n<code>statement1 and statement2<code>\n\nEjemplo:",
      "metadata": {}
    },
    {
      "cell_type": "code",
      "source": "marks = 90\nattendance_percentage = 87\n\nif marks >= 80 and attendance_percentage >= 85:\n    print(\"califica para honores\")\nelse:\n    print(\"No calificado para honores\")\n\n# Salida = califica para honores",
      "metadata": {
        "trusted": true
      },
      "outputs": [
        {
          "name": "stdout",
          "text": "califica para honores\n",
          "output_type": "stream"
        }
      ],
      "execution_count": 1
    },
    {
      "cell_type": "markdown",
      "source": "## Definición de Clase\t\n\nDefine un plano para crear objetos y definir sus atributos y comportamientos.\t\n\nSintaxis:\n\n<code>class ClassName: # Atributos y métodos de la clase<code>\n\nEjemplo:",
      "metadata": {}
    },
    {
      "cell_type": "code",
      "source": "class Person: \n    def __init__(self, name, age): \n        self.name = name \n        self.age = age",
      "metadata": {
        "trusted": true
      },
      "outputs": [],
      "execution_count": 2
    },
    {
      "cell_type": "markdown",
      "source": "## Definir Función\t\nUna `función` es un bloque de código reutilizable que realiza una tarea específica o un conjunto de tareas cuando se llama.\tSintaxis:\n```python\ndef function_name(parameters): # Cuerpo de la función<\n```\nEjemplo:",
      "metadata": {}
    },
    {
      "cell_type": "code",
      "source": "def greet(name): \n    print(\"Hola,\", name)",
      "metadata": {
        "trusted": true
      },
      "outputs": [],
      "execution_count": 3
    },
    {
      "cell_type": "markdown",
      "source": "## Igual(==)\t\n\nVerifica si dos valores son iguales.\t\nSintaxis:\n\nvariable1 == variable2 \n\nEjemplo 1:\n\n```python\n5 == 5 \n```\ndevuelve True\n\nEjemplo 2:\n\n```python\nage = 25 \nage == 30 \n```\ndevuelve False",
      "metadata": {}
    },
    {
      "cell_type": "markdown",
      "source": "## Bucle For\t\nUn bucle `for` ejecuta repetidamente un bloque de código durante un número especificado de iteraciones o sobre una secuencia de elementos (lista, rango, cadena, etc.).\t\nSintaxis:\n```python\nfor variable in sequence: # Código a repetir \n```\nEjemplo 1:",
      "metadata": {}
    },
    {
      "cell_type": "code",
      "source": "for num in range(1, 10): \n    print(num)",
      "metadata": {
        "trusted": true
      },
      "outputs": [
        {
          "name": "stdout",
          "text": "1\n2\n3\n4\n5\n6\n7\n8\n9\n",
          "output_type": "stream"
        }
      ],
      "execution_count": 4
    },
    {
      "cell_type": "markdown",
      "source": "Ejemplo 2:",
      "metadata": {}
    },
    {
      "cell_type": "code",
      "source": "fruits = [\"manzana\", \"plátano\", \"naranja\", \"uva\", \"kiwi\"] \nfor fruit in fruits:\n    print(fruit)",
      "metadata": {
        "trusted": true
      },
      "outputs": [
        {
          "name": "stdout",
          "text": "manzana\nplátano\nnaranja\nuva\nkiwi\n",
          "output_type": "stream"
        }
      ],
      "execution_count": 5
    },
    {
      "cell_type": "markdown",
      "source": "## Llamada a Función\t\nUna llamada a función es el acto de ejecutar el código dentro de la función utilizando los argumentos proporcionados.\tSintaxis:\n\n```python\nfunction_name(arguments) \n```\nEjemplo:\n```python\ngreet(\"Alice\")",
      "metadata": {}
    },
    {
      "cell_type": "markdown",
      "source": "## Mayor o Igual Que(>=)\t\nVerifica si el valor de variable1 es mayor o igual que variable2.\t\nSintaxis:\n```python\nvariable1 >= variable2 \n```\nEjemplo 1:",
      "metadata": {}
    },
    {
      "cell_type": "code",
      "source": "5 >= 5 and 9 >= 5 \n",
      "metadata": {
        "trusted": true
      },
      "outputs": [
        {
          "execution_count": 7,
          "output_type": "execute_result",
          "data": {
            "text/plain": "True"
          },
          "metadata": {}
        }
      ],
      "execution_count": 7
    },
    {
      "cell_type": "markdown",
      "source": "Ejemplo 2:\n",
      "metadata": {}
    },
    {
      "cell_type": "code",
      "source": "quantity = 105 \nminimum = 100 \nquantity >= minimum ",
      "metadata": {
        "trusted": true
      },
      "outputs": [
        {
          "execution_count": 9,
          "output_type": "execute_result",
          "data": {
            "text/plain": "True"
          },
          "metadata": {}
        }
      ],
      "execution_count": 9
    },
    {
      "cell_type": "markdown",
      "source": "## Mayor Que(>)\t\nVerifica si el valor de variable1 es mayor que variable2.\t\nSintaxis:\n```python\nvariable1 > variable2 \n```\n\nEjemplo 1: ",
      "metadata": {}
    },
    {
      "cell_type": "code",
      "source": "9 > 6",
      "metadata": {
        "trusted": true
      },
      "outputs": [],
      "execution_count": null
    },
    {
      "cell_type": "markdown",
      "source": "Ejemplo 2:",
      "metadata": {}
    },
    {
      "cell_type": "code",
      "source": "age = 20 \nmax_age = 25 \nage > max_age ",
      "metadata": {
        "trusted": true
      },
      "outputs": [
        {
          "execution_count": 10,
          "output_type": "execute_result",
          "data": {
            "text/plain": "False"
          },
          "metadata": {}
        }
      ],
      "execution_count": 10
    },
    {
      "cell_type": "markdown",
      "source": "## Instrucción If\t\n\nEjecuta el bloque de código `if`  si la condición es `True`.\t\nSintaxis:\n```python\nif condition: #bloque de código para la instrucción if \n```\nEjemplo:",
      "metadata": {}
    },
    {
      "cell_type": "code",
      "source": "temperature = 31\nif temperature > 30: \n    print(\"¡Es un día caluroso!\")",
      "metadata": {
        "trusted": true
      },
      "outputs": [
        {
          "name": "stdout",
          "text": "¡Es un día caluroso!\n",
          "output_type": "stream"
        }
      ],
      "execution_count": 12
    },
    {
      "cell_type": "markdown",
      "source": "## f-Elif-Else\t\nEjecuta el primer bloque de código si condition1 es `True`, de lo contrario verifica condition2, y así sucesivamente. Si ninguna condición es `True`, se ejecuta el bloque else.\tSintaxis:\n```python\nif condition1:\n# Código si condition1 es True\nelif condition2:\n# Código si condition2 es True\nelse:\n# Código si ninguna condición es True\n```\nEjemplo:",
      "metadata": {}
    },
    {
      "cell_type": "code",
      "source": "score = 85  # Ejemplo de puntuación\nif score >= 90:\n    print(\"¡Obtuviste una A!\")\nelif score >= 80:\n    print(\"¡Obtuviste una B!\")\nelse:\n    print(\"Necesitas trabajar más duro.\")",
      "metadata": {
        "trusted": true
      },
      "outputs": [
        {
          "name": "stdout",
          "text": "¡Obtuviste una B!\n",
          "output_type": "stream"
        }
      ],
      "execution_count": 14
    },
    {
      "cell_type": "markdown",
      "source": "## Instrucción If-Else\t\nEjecuta el primer bloque de código si la condición es `True`, de lo contrario el segundo bloque.\t\nSintaxis:\n```python\nif condition: # Código, si la condición es True \nelse: # Código, si la condición es False \n```\nEjemplo:",
      "metadata": {}
    },
    {
      "cell_type": "code",
      "source": "if age >= 18:\n    print(\"Eres un adulto.\")\nelse:\n    print(\"Aún no eres un adulto.\")",
      "metadata": {
        "trusted": true
      },
      "outputs": [
        {
          "name": "stdout",
          "text": "Eres un adulto.\n",
          "output_type": "stream"
        }
      ],
      "execution_count": 15
    },
    {
      "cell_type": "markdown",
      "source": "## Menor o Igual Que(<=)\t\nVerifica si el valor de variable1 es menor o igual que variable2.\t\nSintaxis:\n```python\nvariable1 <= variable2 \t\t\t \n```\nEjemplo 1:",
      "metadata": {}
    },
    {
      "cell_type": "code",
      "source": "5 <= 5 and 3 <= 5 ",
      "metadata": {
        "trusted": true
      },
      "outputs": [
        {
          "execution_count": 17,
          "output_type": "execute_result",
          "data": {
            "text/plain": "True"
          },
          "metadata": {}
        }
      ],
      "execution_count": 17
    },
    {
      "cell_type": "markdown",
      "source": "Ejemplo 2:",
      "metadata": {}
    },
    {
      "cell_type": "code",
      "source": "size = 38 \nmax_size = 40 \nsize <= max_size ",
      "metadata": {
        "trusted": true
      },
      "outputs": [
        {
          "execution_count": 18,
          "output_type": "execute_result",
          "data": {
            "text/plain": "True"
          },
          "metadata": {}
        }
      ],
      "execution_count": 18
    },
    {
      "cell_type": "markdown",
      "source": "## Menor Que(<)\t\nVerifica si el valor de variable1 es menor que variable2.\t\nSintaxis:\n```python\nvariable1 < variable2 \n```",
      "metadata": {}
    },
    {
      "cell_type": "code",
      "source": "4 < 6 ",
      "metadata": {
        "trusted": true
      },
      "outputs": [
        {
          "execution_count": 19,
          "output_type": "execute_result",
          "data": {
            "text/plain": "True"
          },
          "metadata": {}
        }
      ],
      "execution_count": 19
    },
    {
      "cell_type": "markdown",
      "source": "Ejemplo 2:",
      "metadata": {}
    },
    {
      "cell_type": "code",
      "source": "score = 60 \npassing_score = 65 \nscore < passing_score ",
      "metadata": {
        "trusted": true
      },
      "outputs": [
        {
          "execution_count": 20,
          "output_type": "execute_result",
          "data": {
            "text/plain": "True"
          },
          "metadata": {}
        }
      ],
      "execution_count": 20
    },
    {
      "cell_type": "markdown",
      "source": "## Controles de Bucle\t\n`break` sale del bucle prematuramente. `continue` omite el resto de la iteración actual y pasa a la siguiente iteración.\t\nSintaxis:\n```python\nfor: # Código a repetir \n    if # declaración booleana\n        break \nfor: # Código a repetir  \n    if # declaración booleana\n        continue\n```\n\nEjemplo 1:",
      "metadata": {}
    },
    {
      "cell_type": "code",
      "source": "for num in range(1, 6):\n    if num == 3:\n        break\n    print(num)",
      "metadata": {
        "trusted": true
      },
      "outputs": [
        {
          "name": "stdout",
          "text": "1\n2\n",
          "output_type": "stream"
        }
      ],
      "execution_count": 22
    },
    {
      "cell_type": "markdown",
      "source": "Ejemplo 2:",
      "metadata": {}
    },
    {
      "cell_type": "code",
      "source": "for num in range(1, 6):\n    if num == 3:\n        continue\n    print(num)",
      "metadata": {
        "trusted": true
      },
      "outputs": [
        {
          "name": "stdout",
          "text": "1\n2\n4\n5\n",
          "output_type": "stream"
        }
      ],
      "execution_count": 23
    },
    {
      "cell_type": "markdown",
      "source": "## NOT\t\nDevuelve `True` si la variable es `False`, y viceversa.\nSintaxis:\n```python\nnot variable\n```\ndevuelve True si la variable es False (es decir, desbloqueada).\nEjemplo1:",
      "metadata": {}
    },
    {
      "cell_type": "code",
      "source": "isLocked = False\nprint(not isLocked)",
      "metadata": {
        "trusted": true
      },
      "outputs": [
        {
          "name": "stdout",
          "text": "True\n",
          "output_type": "stream"
        }
      ],
      "execution_count": 24
    },
    {
      "cell_type": "markdown",
      "source": "## No Igual(!=)\t\nVerifica si dos valores no son iguales.\t\nSintaxis:\n```pythob\nvariable1 != variable2 \n```\nEjemplo:",
      "metadata": {}
    },
    {
      "cell_type": "code",
      "source": "a = 10 \nb = 20 \na != b ",
      "metadata": {
        "trusted": true
      },
      "outputs": [
        {
          "execution_count": 25,
          "output_type": "execute_result",
          "data": {
            "text/plain": "True"
          },
          "metadata": {}
        }
      ],
      "execution_count": 25
    },
    {
      "cell_type": "markdown",
      "source": "Ejemplo 2:",
      "metadata": {}
    },
    {
      "cell_type": "code",
      "source": "count=0 \ncount != 0 ",
      "metadata": {
        "trusted": true
      },
      "outputs": [
        {
          "execution_count": 26,
          "output_type": "execute_result",
          "data": {
            "text/plain": "False"
          },
          "metadata": {}
        }
      ],
      "execution_count": 26
    },
    {
      "cell_type": "markdown",
      "source": "## Creación de Objeto\t\nCrea una instancia de una clase (objeto) utilizando el constructor de la clase.\tSintaxis:\n```python\nobject_name = ClassName(arguments) \n```\nEjemplo:",
      "metadata": {}
    },
    {
      "cell_type": "code",
      "source": "person1 = Person(\"Alice\", 25)\nperson1",
      "metadata": {
        "trusted": true
      },
      "outputs": [
        {
          "execution_count": 28,
          "output_type": "execute_result",
          "data": {
            "text/plain": "<__main__.Person at 0x29faab8>"
          },
          "metadata": {}
        }
      ],
      "execution_count": 28
    },
    {
      "cell_type": "markdown",
      "source": "## OR\nDevuelve `True` si statement1 o statement2 (o ambos) son `True`. De lo contrario, devuelve `False`.\t\nSintaxis:\n```python\nstatement1 or statement2\n```\nEjemplo:",
      "metadata": {}
    },
    {
      "cell_type": "code",
      "source": "\ngrade = 12 \nif grade == 11 or grade == 12:\n    print(\"Invitación a la Fiesta de Despedida\")\nelse:\n    print(\"No elegible\") ",
      "metadata": {
        "trusted": true
      },
      "outputs": [
        {
          "name": "stdout",
          "text": "Invitación a la Fiesta de Despedida\n",
          "output_type": "stream"
        }
      ],
      "execution_count": 29
    },
    {
      "cell_type": "markdown",
      "source": "## range()\t\nGenera una secuencia de números dentro de un rango especificado.\t\nSintaxis:\n```python\nrange(stop) \nrange(start, stop) \nrange(start, stop, step) \n```\nEjemplo:",
      "metadata": {}
    },
    {
      "cell_type": "code",
      "source": "range(5) #genera una secuencia de enteros de 0 a 4. \nrange(2, 10) #genera una secuencia de enteros de 2 a 9. \nrange(1, 11, 2) #genera enteros impares de 1 a 9.",
      "metadata": {
        "trusted": true
      },
      "outputs": [
        {
          "execution_count": 30,
          "output_type": "execute_result",
          "data": {
            "text/plain": "range(1, 11, 2)"
          },
          "metadata": {}
        }
      ],
      "execution_count": 30
    },
    {
      "cell_type": "markdown",
      "source": "## Instrucción Return\t\n`Return` es una palabra clave utilizada para enviar un valor de vuelta desde una función a su llamador.\t\nSintaxis:\n```python\nreturn value \n```\nEjemplo:",
      "metadata": {}
    },
    {
      "cell_type": "code",
      "source": "def add(a, b):\n    return a + b \nresult = add(3, 5)\nresult",
      "metadata": {
        "trusted": true
      },
      "outputs": [
        {
          "execution_count": 32,
          "output_type": "execute_result",
          "data": {
            "text/plain": "8"
          },
          "metadata": {}
        }
      ],
      "execution_count": 32
    },
    {
      "cell_type": "markdown",
      "source": "## Bloque Try-Except\t\nIntenta ejecutar el código en el bloque try. Si ocurre una excepción del tipo especificado, se ejecuta el código en el bloque except.\t\nSintaxis:\n```python\ntry: # Código que podría generar una excepción except \nExceptionType: # Código para manejar la excepción \n```\nEjemplo:",
      "metadata": {}
    },
    {
      "cell_type": "code",
      "source": "try: \n    num = int(input(\"Ingresa un número: \")) \nexcept ValueError: \n    print(\"Entrada inválida. Por favor ingresa un número válido.\")",
      "metadata": {
        "trusted": true
      },
      "outputs": [
        {
          "ename": "<class 'TypeError'>",
          "evalue": "int() argument must be a string, a bytes-like object or a real number, not 'PyodideFuture'",
          "traceback": [
            "\u001b[0;31m---------------------------------------------------------------------------\u001b[0m",
            "\u001b[0;31mTypeError\u001b[0m                                 Traceback (most recent call last)",
            "Cell \u001b[0;32mIn[33], line 2\u001b[0m\n\u001b[1;32m      1\u001b[0m \u001b[38;5;28;01mtry\u001b[39;00m: \n\u001b[0;32m----> 2\u001b[0m     num \u001b[38;5;241m=\u001b[39m \u001b[38;5;28;43mint\u001b[39;49m\u001b[43m(\u001b[49m\u001b[38;5;28;43minput\u001b[39;49m\u001b[43m(\u001b[49m\u001b[38;5;124;43m\"\u001b[39;49m\u001b[38;5;124;43mIngresa un número: \u001b[39;49m\u001b[38;5;124;43m\"\u001b[39;49m\u001b[43m)\u001b[49m\u001b[43m)\u001b[49m \n\u001b[1;32m      3\u001b[0m \u001b[38;5;28;01mexcept\u001b[39;00m \u001b[38;5;167;01mValueError\u001b[39;00m: \n\u001b[1;32m      4\u001b[0m     \u001b[38;5;28mprint\u001b[39m(\u001b[38;5;124m\"\u001b[39m\u001b[38;5;124mEntrada inválida. Por favor ingresa un número válido.\u001b[39m\u001b[38;5;124m\"\u001b[39m)\n",
            "\u001b[0;31mTypeError\u001b[0m: int() argument must be a string, a bytes-like object or a real number, not 'PyodideFuture'"
          ],
          "output_type": "error"
        },
        {
          "output_type": "stream",
          "name": "stdin",
          "text": "Ingresa un número:  5\n"
        }
      ],
      "execution_count": 33
    },
    {
      "cell_type": "markdown",
      "source": "## Try-Except con Bloque Else\t\nEl código en el bloque `else` se ejecuta si no ocurre ninguna excepción en el bloque try.\tSintaxis:\n```python\ntry: # Código que podría generar una excepción except \nExceptionType: # Código para manejar la excepción \nelse: # Código a ejecutar si no ocurre ninguna excepción \n```\nEjemplo:",
      "metadata": {}
    },
    {
      "cell_type": "code",
      "source": "try: \n    num = int(input(\"Ingresa un número: \")) \nexcept ValueError: \n    print(\"Entrada inválida. Por favor ingresa un número válido\") \nelse: \n    print(\"Ingresaste:\", num)",
      "metadata": {
        "trusted": true
      },
      "outputs": [
        {
          "ename": "<class 'TypeError'>",
          "evalue": "int() argument must be a string, a bytes-like object or a real number, not 'PyodideFuture'",
          "traceback": [
            "\u001b[0;31m---------------------------------------------------------------------------\u001b[0m",
            "\u001b[0;31mTypeError\u001b[0m                                 Traceback (most recent call last)",
            "Cell \u001b[0;32mIn[34], line 2\u001b[0m\n\u001b[1;32m      1\u001b[0m \u001b[38;5;28;01mtry\u001b[39;00m: \n\u001b[0;32m----> 2\u001b[0m     num \u001b[38;5;241m=\u001b[39m \u001b[38;5;28;43mint\u001b[39;49m\u001b[43m(\u001b[49m\u001b[38;5;28;43minput\u001b[39;49m\u001b[43m(\u001b[49m\u001b[38;5;124;43m\"\u001b[39;49m\u001b[38;5;124;43mIngresa un número: \u001b[39;49m\u001b[38;5;124;43m\"\u001b[39;49m\u001b[43m)\u001b[49m\u001b[43m)\u001b[49m \n\u001b[1;32m      3\u001b[0m \u001b[38;5;28;01mexcept\u001b[39;00m \u001b[38;5;167;01mValueError\u001b[39;00m: \n\u001b[1;32m      4\u001b[0m     \u001b[38;5;28mprint\u001b[39m(\u001b[38;5;124m\"\u001b[39m\u001b[38;5;124mEntrada inválida. Por favor ingresa un número válido\u001b[39m\u001b[38;5;124m\"\u001b[39m) \n",
            "\u001b[0;31mTypeError\u001b[0m: int() argument must be a string, a bytes-like object or a real number, not 'PyodideFuture'"
          ],
          "output_type": "error"
        },
        {
          "output_type": "stream",
          "name": "stdin",
          "text": "Ingresa un número:  5\n"
        }
      ],
      "execution_count": 34
    },
    {
      "cell_type": "markdown",
      "source": "## Try-Except con Bloque Finally\t\nEl código en el bloque `finally` siempre se ejecuta, independientemente de si ocurrió una excepción.\t\nSintaxis:\n```python\ntry: # Código que podría generar una excepción except \nExceptionType: # Código para manejar la excepción \nfinally: # Código que siempre se ejecuta \n```\nEjemplo:",
      "metadata": {}
    },
    {
      "cell_type": "code",
      "source": "try: \n    file = open(\"data.txt\", \"r\") \n    data = file.read() \nexcept FileNotFoundError: \n    print(\"Archivo no encontrado.\") \nfinally: \n    file.close()",
      "metadata": {
        "trusted": true
      },
      "outputs": [
        {
          "name": "stdout",
          "text": "Archivo no encontrado.\n",
          "output_type": "stream"
        },
        {
          "ename": "<class 'NameError'>",
          "evalue": "name 'file' is not defined",
          "traceback": [
            "\u001b[0;31m---------------------------------------------------------------------------\u001b[0m",
            "\u001b[0;31mNameError\u001b[0m                                 Traceback (most recent call last)",
            "Cell \u001b[0;32mIn[35], line 7\u001b[0m\n\u001b[1;32m      5\u001b[0m     \u001b[38;5;28mprint\u001b[39m(\u001b[38;5;124m\"\u001b[39m\u001b[38;5;124mArchivo no encontrado.\u001b[39m\u001b[38;5;124m\"\u001b[39m) \n\u001b[1;32m      6\u001b[0m \u001b[38;5;28;01mfinally\u001b[39;00m: \n\u001b[0;32m----> 7\u001b[0m     \u001b[43mfile\u001b[49m\u001b[38;5;241m.\u001b[39mclose()\n",
            "\u001b[0;31mNameError\u001b[0m: name 'file' is not defined"
          ],
          "output_type": "error"
        }
      ],
      "execution_count": 35
    },
    {
      "cell_type": "markdown",
      "source": "## Bucle While\t\nUn bucle `while` ejecuta repetidamente un bloque de código mientras una condición especificada permanezca `True`.\t\nSintaxis:\n```python\nwhile condition: # Código a repetir \n```\nEjemplo:",
      "metadata": {}
    },
    {
      "cell_type": "code",
      "source": "count = 0 \nwhile count < 5:\n    print(count)\n    count += 1",
      "metadata": {
        "trusted": true
      },
      "outputs": [
        {
          "name": "stdout",
          "text": "0\n1\n2\n3\n4\n",
          "output_type": "stream"
        }
      ],
      "execution_count": 36
    }
  ]
}