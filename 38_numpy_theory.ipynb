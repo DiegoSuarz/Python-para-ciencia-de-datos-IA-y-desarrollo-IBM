{
  "metadata": {
    "kernelspec": {
      "name": "python",
      "display_name": "Python (Pyodide)",
      "language": "python"
    },
    "language_info": {
      "codemirror_mode": {
        "name": "python",
        "version": 3
      },
      "file_extension": ".py",
      "mimetype": "text/x-python",
      "name": "python",
      "nbconvert_exporter": "python",
      "pygments_lexer": "ipython3",
      "version": "3.8"
    }
  },
  "nbformat_minor": 4,
  "nbformat": 4,
  "cells": [
    {
      "cell_type": "markdown",
      "source": "# Guía para Principiantes sobre NumPy\n\n\n## Objetivo:\nEn esta lectura, aprenderás:\n\n- Fundamentos de NumPy\n- Cómo crear arreglos de NumPy\n- Atributos de arreglos e indexación\n- Operaciones básicas como suma y multiplicación\n\n## ¿Qué es NumPy?\nNumPy, abreviatura de Numérica Python, es una biblioteca fundamental para la computación numérica y científica en Python. Proporciona soporte para grandes arreglos y matrices multidimensionales, junto con una colección de funciones matemáticas de alto nivel para operar en estos arreglos. NumPy sirve como la base para muchas bibliotecas de ciencia de datos y aprendizaje automático, lo que lo convierte en una herramienta esencial para el análisis de datos y la investigación científica en Python.\n\n## Aspectos clave de NumPy en Python:\n- Estructuras de datos eficientes: NumPy introduce estructuras de arreglos eficientes, que son más rápidas y utilizan menos memoria que las listas de Python. Esto es crucial para manejar grandes conjuntos de datos.\n\n- Arreglos multidimensionales: NumPy te permite trabajar con arreglos multidimensionales, lo que posibilita la representación de matrices y tensores. Esto es particularmente útil en la computación científica.\n\n- Operaciones elemento a elemento: NumPy simplifica las operaciones matemáticas elemento a elemento en arreglos, facilitando la realización de cálculos en conjuntos de datos completos de una sola vez.\n\n- Generación de números aleatorios: Proporciona una amplia gama de funciones para generar números aleatorios y datos aleatorios, lo cual es útil para simulaciones y análisis estadístico.\n\n- Integración con otras bibliotecas: NumPy se integra perfectamente con otras bibliotecas de ciencia de datos como SciPy, Pandas y Matplotlib, mejorando su utilidad en varios dominios.\n\n- Optimización del rendimiento: Las funciones de NumPy están implementadas en lenguajes de bajo nivel como C y Fortran, lo que aumenta significativamente su rendimiento. Es una opción preferida cuando la velocidad es esencial.\n\n## Instalación\nSi aún no has instalado NumPy, puedes hacerlo usando pip:",
      "metadata": {}
    },
    {
      "cell_type": "code",
      "source": "!pip install numpy",
      "metadata": {
        "trusted": true
      },
      "outputs": [],
      "execution_count": null
    },
    {
      "cell_type": "markdown",
      "source": "## Creando arreglos de NumPy\nPuedes crear arreglos de NumPy a partir de listas de Python. Estos arreglos pueden ser unidimensionales o multidimensionales.\n\nCreando un array 1D",
      "metadata": {}
    },
    {
      "cell_type": "code",
      "source": "import numpy as np",
      "metadata": {
        "trusted": true
      },
      "outputs": [],
      "execution_count": 2
    },
    {
      "cell_type": "markdown",
      "source": "import numpy as np: En esta línea, se importa la biblioteca NumPy y se le asigna un alias np para facilitar su referencia en el código.",
      "metadata": {}
    },
    {
      "cell_type": "code",
      "source": "# Creating a 1D array\narr_1d = np.array([1, 2, 3, 4, 5]) # **np.array()** is used to create NumPy arrays.\narr_1d",
      "metadata": {
        "trusted": true
      },
      "outputs": [
        {
          "execution_count": 7,
          "output_type": "execute_result",
          "data": {
            "text/plain": "array([1, 2, 3, 4, 5])"
          },
          "metadata": {}
        }
      ],
      "execution_count": 7
    },
    {
      "cell_type": "markdown",
      "source": "arr_1d = np.array([1, 2, 3, 4, 5]): En esta línea, se crea un array unidimensional de NumPy llamado arr_1d. Utiliza la función np.array() para convertir una lista de Python [1, 2, 3, 4, 5] en un array de NumPy. Este array contiene cinco elementos, que son 1, 2, 3, 4 y 5. arr_1d es un array 1D porque tiene una sola fila de elementos.\n\n## Creando un arreglo 2D",
      "metadata": {}
    },
    {
      "cell_type": "code",
      "source": "# Creating a 2D array\narr_2d = np.array([[1, 2, 3], [4, 5, 6], [7, 8, 9]])\narr_2d",
      "metadata": {
        "trusted": true
      },
      "outputs": [
        {
          "execution_count": 9,
          "output_type": "execute_result",
          "data": {
            "text/plain": "array([[1, 2, 3],\n       [4, 5, 6],\n       [7, 8, 9]])"
          },
          "metadata": {}
        }
      ],
      "execution_count": 9
    },
    {
      "cell_type": "markdown",
      "source": "arr_2d = np.array([[1, 2, 3], [4, 5, 6], [7, 8, 9]]): En esta línea, se crea un arreglo bidimensional de NumPy llamado arr_2d. Utiliza la función np.array() para convertir una lista de listas en un arreglo 2D de NumPy. La lista externa contiene tres listas internas, cada una de las cuales representa una fila de elementos. Así que, arr_2d es un arreglo 2D con tres filas y tres columnas. Los elementos en este arreglo forman una matriz con valores del 1 al 9, organizados en una cuadrícula de 3x3.\n\n## Atributos de arreglos\nLos arreglos de NumPy tienen varios atributos útiles:",
      "metadata": {}
    },
    {
      "cell_type": "code",
      "source": "# Array attributes\nprint(arr_2d.ndim)  # ndim : Represents the number of dimensions or \"rank\" of the array.\n# output : 2\nprint(arr_2d.shape)  # shape : Returns a tuple indicating the number of rows and columns in the array.\n# Output : (3, 3)\nprint(arr_2d.size) # size: Provides the total number of elements in the array.\n# Output : 9",
      "metadata": {
        "trusted": true
      },
      "outputs": [
        {
          "name": "stdout",
          "text": "2\n(3, 3)\n9\n",
          "output_type": "stream"
        }
      ],
      "execution_count": 10
    },
    {
      "cell_type": "markdown",
      "source": "## Indexación y segmentación\nPuedes acceder a los elementos de un array de NumPy utilizando indexación y segmentación:\n\nEn esta línea, se accede al tercer elemento (índice 2) del array unidimensional arr_1d.",
      "metadata": {}
    },
    {
      "cell_type": "code",
      "source": "# Indexing and slicing\nprint(arr_1d[2])          # Accessing an element (3rd element)",
      "metadata": {
        "trusted": true
      },
      "outputs": [
        {
          "name": "stdout",
          "text": "3\n",
          "output_type": "stream"
        }
      ],
      "execution_count": 11
    },
    {
      "cell_type": "markdown",
      "source": "En esta línea, se accede al elemento en la 2ª fila (índice 1) y 3ª columna (índice 2) del array 2D arr_2d.",
      "metadata": {}
    },
    {
      "cell_type": "code",
      "source": "print(arr_2d[1, 2])       # Accessing an element (2nd row, 3rd column)",
      "metadata": {
        "trusted": true
      },
      "outputs": [
        {
          "name": "stdout",
          "text": "6\n",
          "output_type": "stream"
        }
      ],
      "execution_count": 12
    },
    {
      "cell_type": "markdown",
      "source": "En esta línea, se accede a la 2ª fila (índice 1) del arreglo 2D arr_2d.",
      "metadata": {}
    },
    {
      "cell_type": "code",
      "source": "print(arr_2d[1])          # Accessing a row (2nd row)",
      "metadata": {
        "trusted": true
      },
      "outputs": [
        {
          "name": "stdout",
          "text": "[4 5 6]\n",
          "output_type": "stream"
        }
      ],
      "execution_count": 13
    },
    {
      "cell_type": "markdown",
      "source": "En esta línea, se accede a la 2ª columna (índice 1) del array 2D arr_2d.",
      "metadata": {}
    },
    {
      "cell_type": "code",
      "source": "print(arr_2d[:, 1])       # Accessing a column (2nd column)",
      "metadata": {
        "trusted": true
      },
      "outputs": [
        {
          "name": "stdout",
          "text": "[2 5 8]\n",
          "output_type": "stream"
        }
      ],
      "execution_count": 14
    },
    {
      "cell_type": "markdown",
      "source": "## Operaciones básicas\nNumPy simplifica las operaciones básicas en arreglos:\n\n### Operaciones aritméticas elemento a elemento:\nSuma, resta, multiplicación y división de arreglos con escalares u otros arreglos.\n\n### Suma de arreglos",
      "metadata": {}
    },
    {
      "cell_type": "code",
      "source": "# Array addition\narray1 = np.array([1, 2, 3])\narray2 = np.array([4, 5, 6])\nresult = array1 + array2\nprint(result)  # [5 7 9]",
      "metadata": {
        "trusted": true
      },
      "outputs": [
        {
          "name": "stdout",
          "text": "[5 7 9]\n",
          "output_type": "stream"
        }
      ],
      "execution_count": 15
    },
    {
      "cell_type": "markdown",
      "source": "### Multiplicación escalar",
      "metadata": {}
    },
    {
      "cell_type": "code",
      "source": "# Scalar multiplication\narray = np.array([1, 2, 3])\nresult = array * 2 # each element of an array is multiplied by 2\nprint(result)  # [2 4 6]",
      "metadata": {
        "trusted": true
      },
      "outputs": [
        {
          "name": "stdout",
          "text": "[2 4 6]\n",
          "output_type": "stream"
        }
      ],
      "execution_count": 16
    },
    {
      "cell_type": "markdown",
      "source": "### Multiplicación elemento a elemento (Producto de Hadamard)",
      "metadata": {}
    },
    {
      "cell_type": "code",
      "source": "# Element-wise multiplication (Hadamard product)\narray1 = np.array([1, 2, 3])\narray2 = np.array([4, 5, 6])\nresult = array1 * array2\nprint(result)  # [4 10 18]",
      "metadata": {
        "trusted": true
      },
      "outputs": [
        {
          "name": "stdout",
          "text": "[ 4 10 18]\n",
          "output_type": "stream"
        }
      ],
      "execution_count": 17
    },
    {
      "cell_type": "markdown",
      "source": "### Multiplicación de matrices",
      "metadata": {}
    },
    {
      "cell_type": "code",
      "source": "# Matrix multiplication\nmatrix1 = np.array([[1, 2], [3, 4]])\nmatrix2 = np.array([[5, 6], [7, 8]])\nresult = np.dot(matrix1, matrix2)\nprint(result)",
      "metadata": {
        "trusted": true
      },
      "outputs": [
        {
          "name": "stdout",
          "text": "[[19 22]\n [43 50]]\n",
          "output_type": "stream"
        }
      ],
      "execution_count": 18
    },
    {
      "cell_type": "markdown",
      "source": "NumPy simplifica estas operaciones, haciéndolas más fáciles y eficientes que las listas tradicionales de Python.",
      "metadata": {}
    },
    {
      "cell_type": "markdown",
      "source": "## Operaciones con NumPy\nAquí está la lista de operaciones que se pueden realizar usando Numpy\n\n![image.png](attachment:2130f80a-6377-444c-88b2-3443cf754081.png)",
      "metadata": {},
      "attachments": {
        "2130f80a-6377-444c-88b2-3443cf754081.png": {
          "image/png": "[encoded data removed]"
        }
      }
    },
    {
      "cell_type": "markdown",
      "source": "## Conclusión\nNumPy es una biblioteca fundamental para la ciencia de datos y los cálculos numéricos. Esta guía cubre lo básico de NumPy, y hay mucho más por explorar. Visita numpy.org para más información y ejemplos.",
      "metadata": {}
    }
  ]
}