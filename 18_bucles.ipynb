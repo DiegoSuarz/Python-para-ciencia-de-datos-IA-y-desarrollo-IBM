{
  "metadata": {
    "kernelspec": {
      "name": "python",
      "display_name": "Python (Pyodide)",
      "language": "python"
    },
    "language_info": {
      "codemirror_mode": {
        "name": "python",
        "version": 3
      },
      "file_extension": ".py",
      "mimetype": "text/x-python",
      "name": "python",
      "nbconvert_exporter": "python",
      "pygments_lexer": "ipython3",
      "version": "3.8"
    }
  },
  "nbformat_minor": 4,
  "nbformat": 4,
  "cells": [
    {
      "cell_type": "markdown",
      "source": "#Introducción a los bucles en Python\nTiempo estimado necesario: 10 minutos\n\n## Objetivos\nEntender los bucles en Python.\nCómo funciona el bucle.\nAprender sobre las necesidades de los bucles.\nUtilizar la función Range de Python.\nFamiliarizarse con la función enumerate de Python.\nAplicar bucles while para tareas condicionales.\nDistinguir la selección adecuada de bucles.\n## ¿Qué es un Bucle?\nEn programación, un bucle es como un truco de magia que permite a una computadora hacer algo una y otra vez. Imagina que eres el asistente de un mago, y tu amigo mago te pide que saques un conejo de un sombrero, pero no solo una vez: quieren que sigas haciéndolo hasta que te digan que te detengas. Eso es lo que los bucles hacen por las computadoras: repiten un conjunto de instrucciones tantas veces como sea necesario.\n\n## ¿Cómo funciona el bucle?\nAquí está cómo funciona en Python:",
      "metadata": {}
    },
    {
      "cell_type": "markdown",
      "source": "![image.png](attachment:11c0ad4a-281c-460b-99a7-0a4b49a01f7d.png)",
      "metadata": {},
      "attachments": {
        "11c0ad4a-281c-460b-99a7-0a4b49a01f7d.png": {
          "image/png": "[encoded data removed]"
        }
      }
    },
    {
      "cell_type": "markdown",
      "source": "- **Inicio**: El bucle for comienza con la palabra clave for, seguida de una variable que tomará cada valor en una secuencia.\n\n- Condición: Después de la variable, se especifica la palabra clave in y una secuencia, como una lista o un rango, que el bucle iterará.\n\n- Si Condición Verdadera:\n\n    1. El bucle toma el primer valor de la secuencia y lo asigna a la variable.\n    2. El bloque de código indentado que sigue al encabezado del bucle se ejecuta utilizando este valor.\n    3. El bucle luego pasa al siguiente valor en la secuencia y repite el proceso hasta que se hayan utilizado todos los valores.\n- Declaración: Dentro del bloque indentado del bucle, escribes las declaraciones que deseas repetir para cada valor en la secuencia.\n\n- Repetir: El bucle continúa repitiendo el bloque de código para cada valor en la secuencia hasta que no queden más valores.\n\n- Si Condición Falsa:\n\n    1. Una vez que se han procesado todos los valores en la secuencia, el bucle termina automáticamente.\n    2. El bucle completa su ejecución y el programa continúa con la siguiente declaración después del bucle.\n### La Necesidad de Bucles\nPiensa en cuando necesitas contar del 1 al 10. Hacerlo manualmente es fácil, pero ¿y si tuvieras que contar hasta un millón? ¡Escribir todos esos números uno por uno sería una pesadilla! Aquí es donde los bucles son útiles. Ayudan a las computadoras a repetir tareas de manera rápida y precisa sin cansarse.\n\n## Tipos Principales de Bucles\n### Bucles For\nLos bucles for son como la lista de verificación de un superhéroe. Un bucle for en programación es una estructura de control que permite la ejecución repetida de un conjunto de declaraciones para cada elemento en una secuencia, como los elementos en una lista o los números en un rango, lo que permite una iteración eficiente y la automatización de tareas.\n\n**Sintaxis del bucle for**",
      "metadata": {}
    },
    {
      "cell_type": "markdown",
      "source": "<code>for val in sequence:\n      # statement(s) to be executed in sequence as a part of the loop.<code>",
      "metadata": {}
    },
    {
      "cell_type": "markdown",
      "source": "Aquí hay un ejemplo de un bucle For.\n\nImagina que eres un pintor y quieres pintar un hermoso arcoíris con siete colores. En lugar de tomar cada color uno por uno y pintar el arcoíris, podrías decirle a un asistente mágico de pintor que lo haga por ti. Esto es lo que hace un bucle for básico en programación.\n\n**Tenemos una lista de colores.**",
      "metadata": {}
    },
    {
      "cell_type": "code",
      "source": "colors = [\"red\", \"orange\", \"yellow\", \"green\", \"blue\", \"indigo\", \"violet\"]\ncolors",
      "metadata": {
        "trusted": true
      },
      "outputs": [
        {
          "execution_count": 2,
          "output_type": "execute_result",
          "data": {
            "text/plain": "['red', 'orange', 'yellow', 'green', 'blue', 'indigo', 'violet']"
          },
          "metadata": {}
        }
      ],
      "execution_count": 2
    },
    {
      "cell_type": "markdown",
      "source": "**Imprimamos el nombre del color en una nueva línea usando un bucle for.**",
      "metadata": {}
    },
    {
      "cell_type": "code",
      "source": "for color in colors:\n    print(color)",
      "metadata": {
        "trusted": true
      },
      "outputs": [
        {
          "name": "stdout",
          "text": "red\norange\nyellow\ngreen\nblue\nindigo\nviolet\n",
          "output_type": "stream"
        }
      ],
      "execution_count": 3
    },
    {
      "cell_type": "markdown",
      "source": "En este ejemplo, el bucle for toma cada color de la lista de colores y lo imprime en la pantalla. ¡No tienes que escribir el mismo código para cada color, el bucle lo hace automáticamente!\n\nA veces no quieres pintar un arcoíris, sino que quieres contar el número de pasos para alcanzar tu objetivo. Un bucle for basado en rangos es como tener un contador de pasos amigable que te ayuda a alcanzar tu meta. Aquí tienes cómo podrías usar un bucle for para contar del 1 al 10:",
      "metadata": {}
    },
    {
      "cell_type": "code",
      "source": "for number in range(1, 11):\n    print(number)",
      "metadata": {
        "trusted": true
      },
      "outputs": [
        {
          "name": "stdout",
          "text": "1\n2\n3\n4\n5\n6\n7\n8\n9\n10\n",
          "output_type": "stream"
        }
      ],
      "execution_count": 4
    },
    {
      "cell_type": "markdown",
      "source": "Aquí, el **range(1, 11)** genera una secuencia del 1 al 10, y el bucle for recorre cada número en esa secuencia, imprimiéndolo. ¡Es como dar 10 pasos, y estás guiado por el bucle!\n\n### Función range\nLa función range en Python genera una secuencia ordenada que se puede usar en bucles. Toma uno o dos argumentos:\n\n- Si se le da un argumento (por ejemplo, range(11)), genera una secuencia que comienza desde 0 hasta (pero sin incluir) el número dado.",
      "metadata": {}
    },
    {
      "cell_type": "code",
      "source": "for number in range(11):\n    print(number)",
      "metadata": {
        "trusted": true
      },
      "outputs": [
        {
          "name": "stdout",
          "text": "0\n1\n2\n3\n4\n5\n6\n7\n8\n9\n10\n",
          "output_type": "stream"
        }
      ],
      "execution_count": 5
    },
    {
      "cell_type": "markdown",
      "source": "- Si se le dan dos argumentos (por ejemplo, range(1, 11)), genera una secuencia que comienza desde el primer argumento hasta (pero sin incluir) el segundo argumento.",
      "metadata": {}
    },
    {
      "cell_type": "code",
      "source": "for number in range(1, 11):\n    print(number)",
      "metadata": {
        "trusted": true
      },
      "outputs": [
        {
          "name": "stdout",
          "text": "1\n2\n3\n4\n5\n6\n7\n8\n9\n10\n",
          "output_type": "stream"
        }
      ],
      "execution_count": 6
    },
    {
      "cell_type": "markdown",
      "source": "### El Bucle For Enumerado\n¿Alguna vez has necesitado hacer un seguimiento tanto del elemento como de su posición en una lista? Un bucle for enumerado viene a tu rescate. Es como tener un asistente personal que no solo te entrega el elemento, sino que también te dice dónde encontrarlo.\n\nConsidera este ejemplo:",
      "metadata": {}
    },
    {
      "cell_type": "code",
      "source": "fruits = [\"apple\", \"banana\", \"orange\"]\nfor index, fruit in enumerate(fruits):\n    print(f\"At position {index}, I found a {fruit}\")",
      "metadata": {
        "trusted": true
      },
      "outputs": [
        {
          "name": "stdout",
          "text": "At position 0, I found a apple\nAt position 1, I found a banana\nAt position 2, I found a orange\n",
          "output_type": "stream"
        }
      ],
      "execution_count": 7
    },
    {
      "cell_type": "markdown",
      "source": "Con este bucle, no solo obtienes la fruta, sino también su posición en la lista. ¡Es como si tuvieras una guía mágica señalando la ubicación de cada fruta!",
      "metadata": {}
    },
    {
      "cell_type": "markdown",
      "source": "## Bucles While\nLos bucles while son como una noche sin dormir en la pijamada de un amigo. Imagina que tú y tus amigos siguen contando historias de fantasmas hasta que alguien decide que es hora de dormir. Mientras nadie diga, “¡Vamos a dormir!”, continúan contando historias.\nUn bucle while funciona de manera similar: repite una tarea mientras una cierta condición sea verdadera. Es como decir: “¡Oye computadora, sigue haciendo esto hasta que yo diga que pare!”\n\n**Sintaxis básica del bucle While.**\n\n<code>while condition:\n    # Code to be executed while the condition is true\n    # Indentation is crucial to indicate the scope of the loop<code>\n\nPor ejemplo, así es como podrías usar un bucle while para contar del 1 al 10:",
      "metadata": {}
    },
    {
      "cell_type": "code",
      "source": "count = 1\nwhile count <= 10:\n    print(count)\n    count += 1",
      "metadata": {
        "trusted": true
      },
      "outputs": [
        {
          "name": "stdout",
          "text": "1\n2\n3\n4\n5\n6\n7\n8\n9\n10\n",
          "output_type": "stream"
        }
      ],
      "execution_count": 8
    },
    {
      "cell_type": "markdown",
      "source": "a continuación se presenta un desglose del código anterior.\n\n    1. Hay una variable llamada count inicializada con el valor 1.\n\n    2. El bucle while se utiliza para ejecutar repetidamente un bloque de código mientras una condición dada sea Verdadera. En este caso, la condición es count <= 10, lo que significa que el bucle continuará mientras count sea menor o igual a 10.\n\n    3. Dentro del bucle:\n\n        - La declaración print(count) muestra el valor actual de la variable count.\n\n        - La declaración count += 1 incrementa el valor de count en 1. Este paso asegura que el bucle terminará eventualmente cuando count sea mayor que 10.\n\n    4. El bucle continuará ejecutándose mientras se cumpla la condición count <= 10.\n\n    5. El bucle imprimirá los números del 1 al 10 en orden consecutivo, ya que la declaración print está dentro del bloque del bucle y se ejecuta en cada iteración.\n\n    6. Una vez que count alcance 11, la condición count <= 10 evaluará como Falsa, y el bucle terminará.\n\n    7. La salida del código será los números del 1 al 10, cada uno impreso en una línea separada.\n\n## El Flujo del Bucle\nTanto los bucles for como los while tienen sus movimientos especiales, pero siguen un patrón:\n\n- Inicialización: Configuras cosas como un punto de partida o condiciones.\n\n- Condición: Decides cuándo el bucle debe seguir y cuándo debe detenerse.\n\n- Ejecutar: Realizas la tarea dentro del bucle.\n\n- Actualizar: Haces cambios en tu punto de partida o condiciones para avanzar.\n\n- Repetir: El bucle regresa al paso 2 hasta que la condición ya no sea verdadera.\n\n### Cuándo Usar Cada Uno\n**Bucles For**: Usa bucles for cuando conoces el número de iteraciones de antemano y quieres procesar cada elemento en una secuencia. Son más adecuados para iterar sobre colecciones y secuencias donde la longitud es conocida.\n\n**Bucles While**: Usa bucles while cuando necesitas realizar una tarea repetidamente mientras se mantenga cierta condición. Los bucles while son particularmente útiles para situaciones donde el número de iteraciones es incierto o donde estás esperando que se cumpla una condición específica.\n\n## Resumen\nEn esta aventura en la programación, exploramos los bucles en Python: herramientas especiales que nos ayudan a hacer cosas una y otra vez sin cansarnos. Conocimos dos tipos de bucles: **\"bucles for\"** y **\"bucles while.\"**\n\n**Bucles For** eran como ayudantes que nos hacían repetir tareas en orden. Pintamos colores, contamos números e incluso conseguimos un ayudante que nos decía dónde estaban las cosas en una lista. Los bucles for hicieron nuestro trabajo más fácil y nuestro código lucía más limpio.\n\n**Bucles While** eran como detectives que seguían haciendo algo mientras una regla fuera verdadera. Nos ayudaron a dar pasos, adivinar números y trabajar hasta que nos cansáramos. Los bucles while eran como asistentes inteligentes que no se detenían hasta que nosotros lo dijéramos.",
      "metadata": {}
    },
    {
      "cell_type": "code",
      "source": "",
      "metadata": {
        "trusted": true
      },
      "outputs": [],
      "execution_count": null
    }
  ]
}