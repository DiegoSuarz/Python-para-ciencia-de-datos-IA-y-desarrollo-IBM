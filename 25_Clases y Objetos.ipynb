{
  "metadata": {
    "kernelspec": {
      "name": "python",
      "display_name": "Python (Pyodide)",
      "language": "python"
    },
    "language_info": {
      "codemirror_mode": {
        "name": "python",
        "version": 3
      },
      "file_extension": ".py",
      "mimetype": "text/x-python",
      "name": "python",
      "nbconvert_exporter": "python",
      "pygments_lexer": "ipython3",
      "version": "3.8"
    }
  },
  "nbformat_minor": 4,
  "nbformat": 4,
  "cells": [
    {
      "cell_type": "markdown",
      "source": "# Objetos y Clases en Python\n\n## Objetivos\nEn esta lectura, aprenderás sobre:\n\n- Conceptos fundamentales de objetos y clases en Python.\n- Estructura de clases y código de objetos.\n- Ejemplos del mundo real relacionados con objetos y clases.\n\n## Introducción a clases y objetos\nPython es un lenguaje de programación orientado a objetos (OOP) que utiliza un paradigma centrado en objetos y clases.\n\nVeamos estos conceptos fundamentales.\n\n### Clases\nUna clase es un plano o plantilla para crear objetos. Define la estructura y el comportamiento que tendrán sus objetos.\n\nPiensa en una clase como un cortador de galletas y los objetos como las galletas cortadas de esa plantilla.\n\nEn Python, puedes crear clases usando la palabra clave class.\n\n### Creando clases\nCuando creas una clase, especificas los **attributes** (datos) y **methods** (funciones) que los objetos de esa clase tendrán.\n**Attributes** se definen como variables dentro de la clase, y **methods** se definen como funciones.\nPor ejemplo, puedes diseñar una clase de \"Coche\" con atributos como \"color\" y \"velocidad,\" junto con métodos como \"acelerar.\"\n\n## Objetos\nUn objeto es una unidad fundamental en Python que representa una entidad o concepto del mundo real.\nLos objetos pueden ser tangibles (como un coche) o abstractos (como la calificación de un estudiante).\n\nCada objeto tiene dos características principales:\n\n### Estado\nLos atributos o datos que describen el objeto. Para tu objeto \"Coche\", esto podría incluir atributos como \"color\", \"velocidad\" y \"nivel de combustible\".\n\n### Comportamiento\nLas acciones o métodos que el objeto puede realizar. En Python, los métodos son funciones que pertenecen a objetos y pueden cambiar el estado del objeto o realizar operaciones específicas.\n\n### Instanciando objetos\n- Una vez que hayas definido una clase, puedes crear objetos individuales (instancias) basados en esa clase.\n- Cada objeto es independiente y tiene su propio conjunto de atributos y métodos.\n- Para crear un objeto, utilizas el nombre de la clase seguido de paréntesis, así: “my_car = Car()”\n  \n### Interactuando con objetos\nInteractúas con objetos llamando a sus métodos o accediendo a sus atributos utilizando la notación de punto.\n\nPor ejemplo, si tienes un objeto Car llamado my_car, puedes establecer su color con my_car.color = \"azul\" y acelerarlo con my_car.accelerate() si hay un método de aceleración definido en la clase.\n\n## Estructura de clases y código de objetos\nPor favor, no copies y uses este código directamente porque es una plantilla para explicación y no para resultados específicos.\n\n### Declaración de clase (class ClassName)\nLa palabra clave class se utiliza para declarar una clase en Python.\nClassName es el nombre de la clase, que típicamente sigue las convenciones de nomenclatura CamelCase.\n\n```class ClassName:```\n\n\n\nlase (class_attribute = value)\nLos atributos de clase son variables compartidas entre todas las instancias de la clase (objetos).\nSe definen dentro de la clase pero fuera de cualquier método.",
      "metadata": {}
    },
    {
      "cell_type": "markdown",
      "source": "### Atributos de clase (class_attribute = value)\n- Los atributos de clase son variables compartidas entre todas las instancias de la clase (objetos).\n- Se definen dentro de la clase pero fuera de cualquier método.\n\n```python\nclass ClassName:\n    # Class attributes (shared by all instances)\n    class_attribute = value``\n\n",
      "metadata": {}
    },
    {
      "cell_type": "markdown",
      "source": "### Método constructor (def init(self, atributo1, atributo2, …):)\n- El método __init__ es un método especial conocido como el constructor.\n- Inicializa los atributos de instancia (también llamados variables de instancia) cuando se crea un objeto.\n- El parámetro self es el primer parámetro del constructor, que se refiere a la instancia que se está creando.\n- atributo1, atributo2, y así sucesivamente son parámetros pasados al constructor al crear un objeto.\n- Dentro del constructor, self.atributo1, self.atributo2, y así sucesivamente se utilizan para asignar valores a los atributos de instancia.\n\n```python\nclass ClassName:\n    # Class attributes (shared by all instances)\n    class_attribute = value\n\n    # Constructor method (initialize instance attributes)\n    def __init__(self, attribute1, attribute2, ...):\n        pass\n        # ...\n",
      "metadata": {}
    },
    {
      "cell_type": "markdown",
      "source": "### Atributos de instancia (self.attribute1 = attribute1)\n- Los atributos de instancia son variables que almacenan datos específicos de cada instancia de clase.\n- Se inicializan dentro del método __init__ utilizando la palabra clave self seguida del nombre del atributo.\n- Estos atributos contienen datos únicos para cada objeto creado a partir de la clase.\n\n```python\nclass ClassName:\n    # Class attributes (shared by all instances)\n    class_attribute = value\n    # Constructor method (initialize instance attributes)\n    def __init__(self, attribute1, attribute2, ...):\n        self.attribute1 = attribute1\n        self.attribute2 = attribute2\n        # ...",
      "metadata": {}
    },
    {
      "cell_type": "markdown",
      "source": "### Métodos de instancia (def method1(self, parameter1, parameter2, …):)\n- Los métodos de instancia son funciones definidas dentro de la clase.\n- Operan sobre los datos de la instancia (atributos de la instancia) y pueden realizar acciones específicas para las instancias.\n- El parámetro **self** es obligatorio en los métodos de instancia, permitiéndoles acceder a los atributos de la instancia y llamar a otros métodos dentro de la clase.\n\n```python\nclass ClassName:\n    # Class attributes (shared by all instances)\n    class_attribute = value\n    # Constructor method (initialize instance attributes)\n    def __init__(self, attribute1, attribute2, ...):\n        self.attribute1 = attribute1\n        self.attribute2 = attribute2\n        # ...\n    # Instance methods (functions)\n    def method1(self, parameter1, parameter2, ...):\n        # Method logic\n        pass",
      "metadata": {}
    },
    {
      "cell_type": "markdown",
      "source": "Usando los mismos pasos, puedes definir múltiples métodos de instancia.\n\n```python\nclass ClassName:\n    # Class attributes (shared by all instances)\n    class_attribute = value\n    # Constructor method (initialize instance attributes)\n    def __init__(self, attribute1, attribute2, ...):\n        self.attribute1 = attribute1\n        self.attribute2 = attribute2\n        # ...\n    # Instance methods (functions)\n    def method1(self, parameter1, parameter2, ...):\n        # Method logic\n        pass\n    def method2(self, parameter1, parameter2, ...):\n        # Method logic\n        pass",
      "metadata": {}
    },
    {
      "cell_type": "markdown",
      "source": "Nota: Ahora has creado con éxito una clase de prueba.\n\n### Creando objetos (Instancias)\nPara crear objetos (instancias) de la clase, llamas a la clase como si fuera una función y proporcionas los argumentos que requiere el constructor.\nCada objeto es una instancia distinta de la clase, con sus propios atributos de instancia y la capacidad de llamar a los métodos definidos en la clase.\n\n```python\n# Create objects (instances) of the class\nobject1 = ClassName(arg1, arg2, ...)\nobject2 = ClassName(arg1, arg2, ...)",
      "metadata": {}
    },
    {
      "cell_type": "markdown",
      "source": "### Llamando métodos en objetos\n- En esta sección, llamarás a métodos en objetos, específicamente object1 y object2.\n- Los métodos **method1** y **method2** están definidos en la Clase class, y los estás llamando en object1 y object2 respectivamente.\nPasas los valores param1_value y param2_value como argumentos a estos métodos. Estos argumentos se utilizan dentro de la lógica del método.",
      "metadata": {}
    },
    {
      "cell_type": "markdown",
      "source": "### Método 1: Usando notación de punto\n- Esta es la forma más sencilla de llamar al método de un objeto. En este caso, utiliza la notación de punto (object.method()) para invocar el método en el objeto directamente.\n- Por ejemplo, result1 = object1.method1(param1_value, param2_value, ...) llama a method1 en object1.\n\n```python\n# Calling methods on objects\n# Method 1: Using dot notation\nresult1 = object1.method1(param1_value, param2_value, ...)\nresult2 = object2.method2(param1_value, param2_value, ...)",
      "metadata": {}
    },
    {
      "cell_type": "markdown",
      "source": "### Método 2: Asignación de métodos de objeto a variables\n- Aquí hay una forma alternativa de llamar al método de un objeto asignando la referencia del método a una variable.\n- method_reference = object1.method1 asigna el método method1 de object1 a la variable method_reference.\n- Más tarde, llama al método usando la variable así: result3 = method_reference(param1_value, param2_value, …).\n\n```python\n# Method 2: Assigning object methods to variables\nmethod_reference = object1.method1  # Assign the method to a variable\nresult3 = method_reference(param1_value, param2_value, ...)",
      "metadata": {}
    },
    {
      "cell_type": "markdown",
      "source": "### Accediendo a atributos de objeto\n- Aquí, estás accediendo al atributo de un objeto utilizando la notación de punto.\n- attribute_value = object1.attribute1 recupera el valor del atributo attribute1 de object1 y lo asigna a la variable attribute_value.\n\n```python\n# Accessing object attributes\nattribute_value = object1.attribute1  # Access the attribute using dot notation",
      "metadata": {}
    },
    {
      "cell_type": "markdown",
      "source": "### Modificando atributos de objetos\n- Modificarás el atributo de un objeto utilizando la notación de punto.\n- object1.attribute2 = new_value establece el atributo attribute2 de object1 al nuevo valor new_value.\n\n```python\n# Modifying object attributes\nobject1.attribute2 = new_value  # Change the value of an attribute using dot notation",
      "metadata": {}
    },
    {
      "cell_type": "markdown",
      "source": "### Accediendo a atributos de clase (compartidos por todas las instancias)\n- Finalmente, accede a un atributo de clase compartido por todas las instancias de la clase.\n- class_attr_value = ClassName.class_attribute accede al atributo de clase class_attribute de la clase ClassName y asigna su valor a la variable.\nclass_attr_value.\n\n```python\n# Accessing class attributes (shared by all instances)\nclass_attr_value = ClassName.class_attribute",
      "metadata": {}
    },
    {
      "cell_type": "markdown",
      "source": "## Ejemplo del mundo real\nEscribamos un programa en python que simule una clase de coche simple, permitiéndote crear instancias de coches, acelerarlos y mostrar sus velocidades actuales.\n\n1. Comencemos definiendo una clase Car que incluya los siguientes atributos y métodos:\nAtributo de clase max_speed, que se establece en 120 km/h.\n\n    - Método constructor __init__ que toma parámetros para la marca, modelo, color del coche y una velocidad opcional (que por defecto es 0). Este método inicializa los atributos de instancia para marca, modelo, color y velocidad.\n\n    - Método accelerate(self, acceleration) que permite al coche acelerar. Si la aceleración no supera la max_speed, actualiza el atributo de velocidad del coche. De lo contrario, establece la velocidad en max_speed.\n\n    - Método get_speed(self) que devuelve la velocidad actual del coche.",
      "metadata": {}
    },
    {
      "cell_type": "code",
      "source": "class Car:\n    # Class attribute (shared by all instances)\n    max_speed = 120  # Maximum speed in km/h\n\n    # Constructor method (initialize instance attributes)\n    def __init__(self, make, model, color, speed=0):\n        self.make = make\n        self.model = model\n        self.color = color\n        self.speed = speed  # Initial speed is set to 0\n\n    # Method for accelerating the car\n    def accelerate(self, acceleration):\n        if self.speed + acceleration <= Car.max_speed:\n            self.speed += acceleration\n        else:\n            self.speed = Car.max_speed\n\n    # Method to get the current speed of the car\n    def get_speed(self):\n        return self.speed",
      "metadata": {
        "trusted": true
      },
      "outputs": [],
      "execution_count": 1
    },
    {
      "cell_type": "markdown",
      "source": "2. Ahora, instanciarás dos objetos de la clase Car, cada uno con las siguientes características:\n    - car1: Marca = “Toyota”, Modelo = “Camry”, Color = “Azul”\n\n    - car2: Marca = “Honda”, Modelo = “Civic”, Color = “Rojo”",
      "metadata": {}
    },
    {
      "cell_type": "code",
      "source": "# Create objects (instances) of the Car class\ncar1 = Car(\"Toyota\", \"Camry\", \"Blue\")\ncar2 = Car(\"Honda\", \"Civic\", \"Red\")",
      "metadata": {
        "trusted": true
      },
      "outputs": [],
      "execution_count": 2
    },
    {
      "cell_type": "markdown",
      "source": "3. Usando el método accelerate, aumentarás la velocidad de car1 en 30 km/h y la de car2 en 20 km/h.",
      "metadata": {}
    },
    {
      "cell_type": "code",
      "source": "# Accelerate the cars\ncar1.accelerate(30)\ncar2.accelerate(20)",
      "metadata": {
        "trusted": true
      },
      "outputs": [],
      "execution_count": 3
    },
    {
      "cell_type": "markdown",
      "source": "4. Por último, mostrarás la velocidad actual de cada coche utilizando el get_speed método.",
      "metadata": {}
    },
    {
      "cell_type": "code",
      "source": "# Print the current speeds of the cars\nprint(f\"{car1.make} {car1.model} is currently at {car1.get_speed()} km/h.\")\nprint(f\"{car2.make} {car2.model} is currently at {car2.get_speed()} km/h.\")",
      "metadata": {
        "trusted": true
      },
      "outputs": [
        {
          "name": "stdout",
          "text": "Toyota Camry is currently at 30 km/h.\nHonda Civic is currently at 20 km/h.\n",
          "output_type": "stream"
        }
      ],
      "execution_count": 4
    },
    {
      "cell_type": "markdown",
      "source": "## Próximos pasos\nEn conclusión, esta lectura proporciona una comprensión fundamental de los objetos y clases en Python, conceptos esenciales en la programación orientada a objetos. Las clases sirven como planos para crear objetos, encapsulando atributos de datos y métodos. Los objetos representan entidades del mundo real y poseen su propio estado y comportamiento. El ejemplo de código estructurado presentado en la lectura describe los elementos clave de una clase, incluidos los atributos de clase, el método constructor para inicializar los atributos de instancia y los métodos de instancia para definir la funcionalidad específica del objeto.\n\nEn la próxima sesión de laboratorio, podrás aplicar los conceptos de objetos y clases para obtener experiencia práctica.",
      "metadata": {}
    }
  ]
}