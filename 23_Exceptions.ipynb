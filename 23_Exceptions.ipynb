{
 "cells": [
  {
   "cell_type": "markdown",
   "id": "ee8c0a5f-a663-43fa-932f-85bfbdff98fe",
   "metadata": {},
   "source": [
    "# Manejo de Excepciones en Python\n",
    "\n",
    "## Objetivos\n",
    "1. Comprender las Excepciones\n",
    "2. Distinguir Errores de Excepciones\n",
    "3. Familiaridad con Excepciones Comunes de Python\n",
    "4. Manejar Excepciones de Manera Efectiva\n",
    "\n",
    "En el mundo de la programación, los errores y situaciones inesperadas son inevitables. Python, un lenguaje de programación popular y versátil, proporciona a los desarrolladores un conjunto de herramientas poderoso para gestionar estos escenarios imprevistos a través de excepciones y manejo de errores.\n",
    "\n",
    "## ¿Qué son las excepciones?\n",
    "Las excepciones son alertas cuando algo inesperado sucede al ejecutar un programa. Podría ser un error en el código o una situación que no se había previsto. Python puede generar estas alertas automáticamente, pero también podemos activarlas intencionadamente utilizando el comando raise. La parte interesante es que podemos evitar que nuestro programa se bloquee al manejar excepciones.\n",
    "\n",
    "## Errores vs. Excepciones\n",
    "Espera, ¿cuál es la diferencia entre errores y excepciones? Bueno, errors son generalmente problemas grandes que provienen de la computadora o el sistema. A menudo hacen que el programa deje de funcionar por completo. Por otro lado, exceptions son más como problemas que podemos controlar. Ocurren debido a algo que hicimos en nuestro código y generalmente se pueden solucionar, por lo que el programa sigue funcionando.\n",
    "\n",
    "Aquí está la diferencia entre **Errors and exceptions**:-"
   ]
  },
  {
   "cell_type": "markdown",
   "id": "a780e029-b857-4618-9745-48268442edfd",
   "metadata": {},
   "source": [
    "## ERRORES:\n",
    "- **Origen**: Los errores son típicamente causados por el entorno, hardware o sistema operativo.\n",
    "- **Naturaleza**: Los errores son a menudo graves y pueden llevar a bloqueos del programa o a una terminación anormal.\n",
    "- **Manejo**: Los errores generalmente no son capturados ni manejados por el programa mismo.\n",
    "- **Ejemplos**:\tEjemplos incluyen “SyntaxError” debido a una sintaxis incorrecta o “NameError” cuando una variable no está definida.\n",
    "- **Clasificación**: Los errores no se clasifican en categorías.\n",
    "\n",
    "## EXCEPCIONES:\n",
    "- **Origen**: Las excepciones son generalmente el resultado de la ejecución problemática del código dentro del programa.\n",
    "- **Naturaleza**: Las excepciones son generalmente menos graves y pueden ser capturadas y manejadas para prevenir la terminación del programa.\n",
    "- **Manejo**: Las excepciones pueden ser capturadas utilizando bloques try-except y manejadas de manera elegante, permitiendo que el programa continúe su ejecución.\n",
    "- **Ejemplos**:\tEjemplos incluyen “ZeroDivisionError” al dividir por cero, o “FileNotFoundError” al intentar abrir un archivo inexistente.\n",
    "- **Clasificación**: Las excepciones se clasifican en varias clases, como “ArithmeticError,” “IOError,” “ValueError,” etc., según su naturaleza.\n",
    "\n",
    "## Excepciones Comunes en Python\n",
    "Aquí hay algunos ejemplos de excepciones con las que a menudo nos encontramos y que podemos manejar usando esta herramienta:\n",
    "\n",
    "- **ZeroDivisionError**: Este error surge cuando se intenta dividir un número entre cero. La división por cero no está definida en matemáticas, causando un error aritmético. Por ejemplo:\n"
   ]
  },
  {
   "cell_type": "code",
   "execution_count": 1,
   "id": "b75cf364-3400-4f7d-853b-4a1c73bf46be",
   "metadata": {},
   "outputs": [
    {
     "ename": "ZeroDivisionError",
     "evalue": "division by zero",
     "output_type": "error",
     "traceback": [
      "\u001b[0;31m---------------------------------------------------------------------------\u001b[0m",
      "\u001b[0;31mZeroDivisionError\u001b[0m                         Traceback (most recent call last)",
      "Cell \u001b[0;32mIn[1], line 1\u001b[0m\n\u001b[0;32m----> 1\u001b[0m result \u001b[38;5;241m=\u001b[39m \u001b[38;5;241;43m10\u001b[39;49m\u001b[43m \u001b[49m\u001b[38;5;241;43m/\u001b[39;49m\u001b[43m \u001b[49m\u001b[38;5;241;43m0\u001b[39;49m \n\u001b[1;32m      2\u001b[0m \u001b[38;5;28mprint\u001b[39m(result)\n\u001b[1;32m      3\u001b[0m \u001b[38;5;66;03m# Raises ZeroDivisionError\u001b[39;00m\n",
      "\u001b[0;31mZeroDivisionError\u001b[0m: division by zero"
     ]
    }
   ],
   "source": [
    "result = 10 / 0 \n",
    "print(result)\n",
    "# Raises ZeroDivisionError"
   ]
  },
  {
   "cell_type": "markdown",
   "id": "f63c60ed-56a7-44fc-9051-fda4c482c482",
   "metadata": {},
   "source": [
    "- **ValueError**: Este error ocurre cuando se utiliza un valor inapropiado dentro del código. Un ejemplo de esto es cuando se intenta convertir una cadena no numérica a un entero:\n",
    "Por ejemplo:"
   ]
  },
  {
   "cell_type": "code",
   "execution_count": 2,
   "id": "87a20a47-32fe-4afa-b8a8-9f2031b95f93",
   "metadata": {},
   "outputs": [
    {
     "ename": "ValueError",
     "evalue": "invalid literal for int() with base 10: 'abc'",
     "output_type": "error",
     "traceback": [
      "\u001b[0;31m---------------------------------------------------------------------------\u001b[0m",
      "\u001b[0;31mValueError\u001b[0m                                Traceback (most recent call last)",
      "Cell \u001b[0;32mIn[2], line 1\u001b[0m\n\u001b[0;32m----> 1\u001b[0m num \u001b[38;5;241m=\u001b[39m \u001b[38;5;28;43mint\u001b[39;49m\u001b[43m(\u001b[49m\u001b[38;5;124;43m\"\u001b[39;49m\u001b[38;5;124;43mabc\u001b[39;49m\u001b[38;5;124;43m\"\u001b[39;49m\u001b[43m)\u001b[49m\n\u001b[1;32m      2\u001b[0m \u001b[38;5;66;03m# Raises ValueError\u001b[39;00m\n",
      "\u001b[0;31mValueError\u001b[0m: invalid literal for int() with base 10: 'abc'"
     ]
    }
   ],
   "source": [
    "num = int(\"abc\")\n",
    "# Raises ValueError"
   ]
  },
  {
   "cell_type": "markdown",
   "id": "d5371656-01c2-4eb6-81ce-069e6e156236",
   "metadata": {},
   "source": [
    "- **FileNotFoundError**: Esta excepción se encuentra cuando se intenta acceder a un archivo que no existe.\n",
    "Por ejemplo:"
   ]
  },
  {
   "cell_type": "code",
   "execution_count": 4,
   "id": "7931a9a5-f9aa-4254-9133-b22ee7ed707d",
   "metadata": {},
   "outputs": [
    {
     "ename": "FileNotFoundError",
     "evalue": "[Errno 2] No such file or directory: 'nonexistent_file.txt'",
     "output_type": "error",
     "traceback": [
      "\u001b[0;31m---------------------------------------------------------------------------\u001b[0m",
      "\u001b[0;31mFileNotFoundError\u001b[0m                         Traceback (most recent call last)",
      "Cell \u001b[0;32mIn[4], line 1\u001b[0m\n\u001b[0;32m----> 1\u001b[0m \u001b[38;5;28;01mwith\u001b[39;00m \u001b[38;5;28;43mopen\u001b[39;49m\u001b[43m(\u001b[49m\u001b[38;5;124;43m\"\u001b[39;49m\u001b[38;5;124;43mnonexistent_file.txt\u001b[39;49m\u001b[38;5;124;43m\"\u001b[39;49m\u001b[43m,\u001b[49m\u001b[43m \u001b[49m\u001b[38;5;124;43m\"\u001b[39;49m\u001b[38;5;124;43mr\u001b[39;49m\u001b[38;5;124;43m\"\u001b[39;49m\u001b[43m)\u001b[49m \u001b[38;5;28;01mas\u001b[39;00m file:\n\u001b[1;32m      2\u001b[0m         content \u001b[38;5;241m=\u001b[39m file\u001b[38;5;241m.\u001b[39mread()   \u001b[38;5;66;03m# Raises FileNotFoundError\u001b[39;00m\n",
      "File \u001b[0;32m/opt/conda/lib/python3.12/site-packages/IPython/core/interactiveshell.py:324\u001b[0m, in \u001b[0;36m_modified_open\u001b[0;34m(file, *args, **kwargs)\u001b[0m\n\u001b[1;32m    317\u001b[0m \u001b[38;5;28;01mif\u001b[39;00m file \u001b[38;5;129;01min\u001b[39;00m {\u001b[38;5;241m0\u001b[39m, \u001b[38;5;241m1\u001b[39m, \u001b[38;5;241m2\u001b[39m}:\n\u001b[1;32m    318\u001b[0m     \u001b[38;5;28;01mraise\u001b[39;00m \u001b[38;5;167;01mValueError\u001b[39;00m(\n\u001b[1;32m    319\u001b[0m         \u001b[38;5;124mf\u001b[39m\u001b[38;5;124m\"\u001b[39m\u001b[38;5;124mIPython won\u001b[39m\u001b[38;5;124m'\u001b[39m\u001b[38;5;124mt let you open fd=\u001b[39m\u001b[38;5;132;01m{\u001b[39;00mfile\u001b[38;5;132;01m}\u001b[39;00m\u001b[38;5;124m by default \u001b[39m\u001b[38;5;124m\"\u001b[39m\n\u001b[1;32m    320\u001b[0m         \u001b[38;5;124m\"\u001b[39m\u001b[38;5;124mas it is likely to crash IPython. If you know what you are doing, \u001b[39m\u001b[38;5;124m\"\u001b[39m\n\u001b[1;32m    321\u001b[0m         \u001b[38;5;124m\"\u001b[39m\u001b[38;5;124myou can use builtins\u001b[39m\u001b[38;5;124m'\u001b[39m\u001b[38;5;124m open.\u001b[39m\u001b[38;5;124m\"\u001b[39m\n\u001b[1;32m    322\u001b[0m     )\n\u001b[0;32m--> 324\u001b[0m \u001b[38;5;28;01mreturn\u001b[39;00m \u001b[43mio_open\u001b[49m\u001b[43m(\u001b[49m\u001b[43mfile\u001b[49m\u001b[43m,\u001b[49m\u001b[43m \u001b[49m\u001b[38;5;241;43m*\u001b[39;49m\u001b[43margs\u001b[49m\u001b[43m,\u001b[49m\u001b[43m \u001b[49m\u001b[38;5;241;43m*\u001b[39;49m\u001b[38;5;241;43m*\u001b[39;49m\u001b[43mkwargs\u001b[49m\u001b[43m)\u001b[49m\n",
      "\u001b[0;31mFileNotFoundError\u001b[0m: [Errno 2] No such file or directory: 'nonexistent_file.txt'"
     ]
    }
   ],
   "source": [
    "with open(\"nonexistent_file.txt\", \"r\") as file:\n",
    "        content = file.read()   # Raises FileNotFoundError"
   ]
  },
  {
   "cell_type": "markdown",
   "id": "5aa19dcd-57f6-4b15-993a-0d8c0410c281",
   "metadata": {},
   "source": [
    "- **IndexError**: Un IndexError ocurre cuando se utiliza un índice para acceder a un elemento en una lista que está fuera del rango de índice válido. Por ejemplo:"
   ]
  },
  {
   "cell_type": "code",
   "execution_count": 5,
   "id": "f0023920-cda8-4295-9952-b10e71c7efef",
   "metadata": {},
   "outputs": [
    {
     "ename": "IndexError",
     "evalue": "list index out of range",
     "output_type": "error",
     "traceback": [
      "\u001b[0;31m---------------------------------------------------------------------------\u001b[0m",
      "\u001b[0;31mIndexError\u001b[0m                                Traceback (most recent call last)",
      "Cell \u001b[0;32mIn[5], line 3\u001b[0m\n\u001b[1;32m      1\u001b[0m my_list \u001b[38;5;241m=\u001b[39m [\u001b[38;5;241m1\u001b[39m, \u001b[38;5;241m2\u001b[39m, \u001b[38;5;241m3\u001b[39m]\n\u001b[1;32m      2\u001b[0m value \u001b[38;5;241m=\u001b[39m my_list[\u001b[38;5;241m1\u001b[39m]  \u001b[38;5;66;03m# No IndexError, within range\u001b[39;00m\n\u001b[0;32m----> 3\u001b[0m missing \u001b[38;5;241m=\u001b[39m \u001b[43mmy_list\u001b[49m\u001b[43m[\u001b[49m\u001b[38;5;241;43m5\u001b[39;49m\u001b[43m]\u001b[49m  \u001b[38;5;66;03m# Raises IndexError\u001b[39;00m\n",
      "\u001b[0;31mIndexError\u001b[0m: list index out of range"
     ]
    }
   ],
   "source": [
    "my_list = [1, 2, 3]\n",
    "value = my_list[1]  # No IndexError, within range\n",
    "missing = my_list[5]  # Raises IndexError"
   ]
  },
  {
   "cell_type": "markdown",
   "id": "9d9c4bdf-9b61-4089-ad6f-579753bd470e",
   "metadata": {},
   "source": [
    "- **KeyError**: El KeyError surge cuando se intenta acceder a una clave que no existe en un diccionario.\n",
    "Por ejemplo:"
   ]
  },
  {
   "cell_type": "code",
   "execution_count": 6,
   "id": "96e48a30-414c-448e-b5b2-09c0e26534bf",
   "metadata": {},
   "outputs": [
    {
     "ename": "KeyError",
     "evalue": "'city'",
     "output_type": "error",
     "traceback": [
      "\u001b[0;31m---------------------------------------------------------------------------\u001b[0m",
      "\u001b[0;31mKeyError\u001b[0m                                  Traceback (most recent call last)",
      "Cell \u001b[0;32mIn[6], line 3\u001b[0m\n\u001b[1;32m      1\u001b[0m my_dict \u001b[38;5;241m=\u001b[39m {\u001b[38;5;124m\"\u001b[39m\u001b[38;5;124mname\u001b[39m\u001b[38;5;124m\"\u001b[39m: \u001b[38;5;124m\"\u001b[39m\u001b[38;5;124mAlice\u001b[39m\u001b[38;5;124m\"\u001b[39m, \u001b[38;5;124m\"\u001b[39m\u001b[38;5;124mage\u001b[39m\u001b[38;5;124m\"\u001b[39m: \u001b[38;5;241m30\u001b[39m}\n\u001b[1;32m      2\u001b[0m value \u001b[38;5;241m=\u001b[39m my_dict\u001b[38;5;241m.\u001b[39mget(\u001b[38;5;124m\"\u001b[39m\u001b[38;5;124mcity\u001b[39m\u001b[38;5;124m\"\u001b[39m)  \u001b[38;5;66;03m# No KeyError, usando el método .get()\u001b[39;00m\n\u001b[0;32m----> 3\u001b[0m missing \u001b[38;5;241m=\u001b[39m \u001b[43mmy_dict\u001b[49m\u001b[43m[\u001b[49m\u001b[38;5;124;43m\"\u001b[39;49m\u001b[38;5;124;43mcity\u001b[39;49m\u001b[38;5;124;43m\"\u001b[39;49m\u001b[43m]\u001b[49m  \u001b[38;5;66;03m# Lanza KeyError\u001b[39;00m\n",
      "\u001b[0;31mKeyError\u001b[0m: 'city'"
     ]
    }
   ],
   "source": [
    "my_dict = {\"name\": \"Alice\", \"age\": 30}\n",
    "value = my_dict.get(\"city\")  # No KeyError, usando el método .get()\n",
    "missing = my_dict[\"city\"]  # Lanza KeyError"
   ]
  },
  {
   "cell_type": "markdown",
   "id": "a62eff02-408e-4d67-bafe-36c44daa3dbe",
   "metadata": {},
   "source": [
    "- **TypeError**: El TypeError ocurre cuando un objeto se utiliza de manera incompatible. Un ejemplo incluye intentar concatenar una cadena y un entero:\n",
    "Por ejemplo:"
   ]
  },
  {
   "cell_type": "code",
   "execution_count": 7,
   "id": "7aff27b6-626b-49d1-88d7-db86db00c219",
   "metadata": {},
   "outputs": [
    {
     "ename": "TypeError",
     "evalue": "can only concatenate str (not \"int\") to str",
     "output_type": "error",
     "traceback": [
      "\u001b[0;31m---------------------------------------------------------------------------\u001b[0m",
      "\u001b[0;31mTypeError\u001b[0m                                 Traceback (most recent call last)",
      "Cell \u001b[0;32mIn[7], line 1\u001b[0m\n\u001b[0;32m----> 1\u001b[0m result \u001b[38;5;241m=\u001b[39m \u001b[38;5;124;43m\"\u001b[39;49m\u001b[38;5;124;43mhello\u001b[39;49m\u001b[38;5;124;43m\"\u001b[39;49m\u001b[43m \u001b[49m\u001b[38;5;241;43m+\u001b[39;49m\u001b[43m \u001b[49m\u001b[38;5;241;43m5\u001b[39;49m   \n\u001b[1;32m      2\u001b[0m \u001b[38;5;66;03m# Raises TypeError\u001b[39;00m\n",
      "\u001b[0;31mTypeError\u001b[0m: can only concatenate str (not \"int\") to str"
     ]
    }
   ],
   "source": [
    "result = \"hello\" + 5   \n",
    "# Raises TypeError"
   ]
  },
  {
   "cell_type": "markdown",
   "id": "e081d6f0-252f-4df8-94af-dae3253bd6f4",
   "metadata": {},
   "source": [
    "- **AttributeError**: Un AttributeError ocurre cuando se accede a un atributo o método en un objeto que no posee ese atributo o método específico. Por ejemplo:"
   ]
  },
  {
   "cell_type": "code",
   "execution_count": 8,
   "id": "3152dfd0-adc9-437a-b88c-9d82571f26f9",
   "metadata": {},
   "outputs": [
    {
     "ename": "AttributeError",
     "evalue": "'str' object has no attribute 'some_method'",
     "output_type": "error",
     "traceback": [
      "\u001b[0;31m---------------------------------------------------------------------------\u001b[0m",
      "\u001b[0;31mAttributeError\u001b[0m                            Traceback (most recent call last)",
      "Cell \u001b[0;32mIn[8], line 3\u001b[0m\n\u001b[1;32m      1\u001b[0m text \u001b[38;5;241m=\u001b[39m \u001b[38;5;124m\"\u001b[39m\u001b[38;5;124mexample\u001b[39m\u001b[38;5;124m\"\u001b[39m\n\u001b[1;32m      2\u001b[0m length \u001b[38;5;241m=\u001b[39m \u001b[38;5;28mlen\u001b[39m(text)  \u001b[38;5;66;03m# No AttributeError, correct method usage\u001b[39;00m\n\u001b[0;32m----> 3\u001b[0m missing \u001b[38;5;241m=\u001b[39m \u001b[43mtext\u001b[49m\u001b[38;5;241;43m.\u001b[39;49m\u001b[43msome_method\u001b[49m()  \u001b[38;5;66;03m# Raises AttributeError\u001b[39;00m\n",
      "\u001b[0;31mAttributeError\u001b[0m: 'str' object has no attribute 'some_method'"
     ]
    }
   ],
   "source": [
    "text = \"example\"\n",
    "length = len(text)  # No AttributeError, correct method usage\n",
    "missing = text.some_method()  # Raises AttributeError"
   ]
  },
  {
   "cell_type": "markdown",
   "id": "d431645c-5816-4460-9945-b3c320c77424",
   "metadata": {},
   "source": [
    "- **ImportError**: Este error se encuentra cuando se intenta importar un módulo que no está disponible. Por ejemplo: \n"
   ]
  },
  {
   "cell_type": "code",
   "execution_count": 9,
   "id": "206f84ac-02e8-4a9c-a61e-4278e53fa730",
   "metadata": {},
   "outputs": [
    {
     "ename": "ModuleNotFoundError",
     "evalue": "No module named 'non_existent_module'",
     "output_type": "error",
     "traceback": [
      "\u001b[0;31m---------------------------------------------------------------------------\u001b[0m",
      "\u001b[0;31mModuleNotFoundError\u001b[0m                       Traceback (most recent call last)",
      "Cell \u001b[0;32mIn[9], line 1\u001b[0m\n\u001b[0;32m----> 1\u001b[0m \u001b[38;5;28;01mimport\u001b[39;00m\u001b[38;5;250m \u001b[39m\u001b[38;5;21;01mnon_existent_module\u001b[39;00m\n",
      "\u001b[0;31mModuleNotFoundError\u001b[0m: No module named 'non_existent_module'"
     ]
    }
   ],
   "source": [
    "import non_existent_module"
   ]
  },
  {
   "cell_type": "markdown",
   "id": "3a3ca248-7a54-430e-9e6f-ce9c897c1817",
   "metadata": {},
   "source": [
    "Nota: Recuerda, las excepciones que encontrarás no se limitan solo a estas. Hay muchas más en Python. Sin embargo, no hay necesidad de preocuparse. Al utilizar la técnica proporcionada a continuación y siguiendo la sintaxis correcta, podrás manejar cualquier excepción que se presente."
   ]
  },
  {
   "cell_type": "markdown",
   "id": "0cf97d9f-6249-42e5-bd61-2e4c801d90d5",
   "metadata": {},
   "source": [
    "## Manejo de Excepciones:\n",
    "Python tiene una herramienta útil llamada **try and except** que nos ayuda a gestionar excepciones.\n",
    "\n",
    "**Try and Except** : Puedes usar los bloques try y except para evitar que tu programa se bloquee debido a excepciones.\n",
    "\n",
    "Así es como funcionan:\n",
    "\n",
    "1. El código que puede resultar en una excepción se encuentra en el bloque try.\n",
    "2. Si ocurre una excepción, el código salta directamente al bloque except.\n",
    "3. En el bloque except, puedes definir cómo manejar la excepción de manera elegante, como mostrar un mensaje de error o tomar acciones alternativas.\n",
    "4. Después del bloque except, el programa continúa ejecutando el código restante.\n",
    "   \n",
    "Ejemplo: Intentando dividir por cero"
   ]
  },
  {
   "cell_type": "code",
   "execution_count": 10,
   "id": "d8cc9231-67e6-4712-916a-1638b735249d",
   "metadata": {},
   "outputs": [
    {
     "name": "stdout",
     "output_type": "stream",
     "text": [
      "Error: No se puede dividir entre cero\n",
      "fuera del bloque try y except\n"
     ]
    }
   ],
   "source": [
    "# usando Try- except \n",
    "try:\n",
    "    # Intentando dividir 10 entre 0\n",
    "    result = 10 / 0\n",
    "except ZeroDivisionError:\n",
    "    # Manejo del ZeroDivisionError e impresión de un mensaje de error\n",
    "    print(\"Error: No se puede dividir entre cero\")\n",
    "\n",
    "# Esta línea se ejecutará independientemente de si ocurrió una excepción\n",
    "print(\"fuera del bloque try y except\")"
   ]
  },
  {
   "cell_type": "markdown",
   "id": "beb33251-f6b7-4843-ab32-47f417ac46d4",
   "metadata": {},
   "source": [
    "## SIGUIENTES PASOS:\n",
    "A medida que terminemos esta lectura, está listo para pasar a la siguiente parte donde practicará los errores de manejo. Para un mejor aprendizaje, pruebe diferentes tipos de datos en el laboratorio. De esta manera, encontrará varios errores y aprenderá cómo lidiar con ellos de manera efectiva. Este conocimiento lo ayudará a escribir un código más fuerte y más confiable en el futuro."
   ]
  }
 ],
 "metadata": {
  "kernelspec": {
   "display_name": "Python 3 (ipykernel)",
   "language": "python",
   "name": "python3"
  },
  "language_info": {
   "codemirror_mode": {
    "name": "ipython",
    "version": 3
   },
   "file_extension": ".py",
   "mimetype": "text/x-python",
   "name": "python",
   "nbconvert_exporter": "python",
   "pygments_lexer": "ipython3",
   "version": "3.12.8"
  }
 },
 "nbformat": 4,
 "nbformat_minor": 5
}
