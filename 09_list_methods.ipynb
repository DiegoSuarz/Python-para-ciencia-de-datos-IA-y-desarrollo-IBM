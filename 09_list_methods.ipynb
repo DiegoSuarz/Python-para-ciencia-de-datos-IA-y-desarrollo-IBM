{
  "metadata": {
    "kernelspec": {
      "name": "python",
      "display_name": "Python (Pyodide)",
      "language": "python"
    },
    "language_info": {
      "codemirror_mode": {
        "name": "python",
        "version": 3
      },
      "file_extension": ".py",
      "mimetype": "text/x-python",
      "name": "python",
      "nbconvert_exporter": "python",
      "pygments_lexer": "ipython3",
      "version": "3.8"
    }
  },
  "nbformat_minor": 4,
  "nbformat": 4,
  "cells": [
    {
      "cell_type": "markdown",
      "source": "# append()\t\n\nEl método `append()` se utiliza para agregar un elemento al final de una lista.\n\n<code>list_name.append(element)<code> ",
      "metadata": {}
    },
    {
      "cell_type": "code",
      "source": "fruits = [\"manzana\", \"plátano\", \"naranja\"] \nfruits.append(\"mango\") \nprint(fruits)",
      "metadata": {
        "trusted": true
      },
      "outputs": [
        {
          "name": "stdout",
          "text": "['manzana', 'plátano', 'naranja', 'mango']\n",
          "output_type": "stream"
        }
      ],
      "execution_count": 2
    },
    {
      "cell_type": "markdown",
      "source": "# copy()\nEl método `copy()` se utiliza para crear una copia superficial de una lista.",
      "metadata": {}
    },
    {
      "cell_type": "code",
      "source": "my_list = [1, 2, 3, 4, 5] \nnew_list = my_list.copy() \nprint(new_list) ",
      "metadata": {
        "trusted": true
      },
      "outputs": [
        {
          "name": "stdout",
          "text": "[1, 2, 3, 4, 5]\n",
          "output_type": "stream"
        }
      ],
      "execution_count": 4
    },
    {
      "cell_type": "markdown",
      "source": "# count()\t\nEl método `count()` se utiliza para contar el número de ocurrencias de un elemento específico en una lista en Python.",
      "metadata": {}
    },
    {
      "cell_type": "code",
      "source": "my_list = [1, 2, 2, 3, 4, 2, 5, 2] \ncount = my_list.count(2)\nprint(count) ",
      "metadata": {
        "trusted": true
      },
      "outputs": [
        {
          "name": "stdout",
          "text": "4\n",
          "output_type": "stream"
        }
      ],
      "execution_count": 6
    },
    {
      "cell_type": "markdown",
      "source": "# Crear una lista\t\nUna lista es un tipo de dato incorporado que representa una colección ordenada y mutable de elementos. Las listas están encerradas entre corchetes [] y los elementos están separados por comas.",
      "metadata": {}
    },
    {
      "cell_type": "code",
      "source": "my_list = [10, 20, 30, 40, 50] \ndel my_list[2] # Elimina el elemento en el índice 2 \nprint(my_list)",
      "metadata": {
        "trusted": true
      },
      "outputs": [
        {
          "name": "stdout",
          "text": "[10, 20, 40, 50]\n",
          "output_type": "stream"
        }
      ],
      "execution_count": 7
    },
    {
      "cell_type": "markdown",
      "source": "# extend()\t\nEl método `extend()` se utiliza para agregar múltiples elementos a una lista. Toma un iterable (como otra lista, tupla o cadena) y agrega cada elemento del iterable a la lista original.\n\n<code>list_name.extend(iterable)<code>",
      "metadata": {}
    },
    {
      "cell_type": "code",
      "source": "fruits = [\"manzana\", \"plátano\", \"naranja\"] \nmore_fruits = [\"mango\", \"uva\"] \nfruits.extend(more_fruits) \nprint(fruits)",
      "metadata": {
        "trusted": true
      },
      "outputs": [
        {
          "name": "stdout",
          "text": "['manzana', 'plátano', 'naranja', 'mango', 'uva']\n",
          "output_type": "stream"
        }
      ],
      "execution_count": 8
    },
    {
      "cell_type": "markdown",
      "source": "# Indexación\nLa indexación en una lista te permite acceder a elementos individuales por su posición. En Python, la indexación comienza desde 0 para el primer elemento y llega hasta `length_of_list - 1`.",
      "metadata": {}
    },
    {
      "cell_type": "code",
      "source": "my_list = [10, 20, 30, 40, 50] \nprint(my_list[0]) \n# Salida: 10 (accediendo al primer elemento) \nprint(my_list[-1]) \n# Salida: 50 (accediendo al último elemento usando indexación negativa)",
      "metadata": {
        "trusted": true
      },
      "outputs": [
        {
          "name": "stdout",
          "text": "10\n50\n",
          "output_type": "stream"
        }
      ],
      "execution_count": 9
    },
    {
      "cell_type": "markdown",
      "source": "# insert()\t\nEl método `insert()` se utiliza para insertar un elemento.\n\n<code> list_name.insert(index, element)<code> ",
      "metadata": {}
    },
    {
      "cell_type": "code",
      "source": "my_list = [1, 2, 3, 4, 5] \nmy_list.insert(2, 6) \nprint(my_list)",
      "metadata": {
        "trusted": true
      },
      "outputs": [
        {
          "name": "stdout",
          "text": "[1, 2, 6, 3, 4, 5]\n",
          "output_type": "stream"
        }
      ],
      "execution_count": 12
    },
    {
      "cell_type": "markdown",
      "source": "# Modificar una lista\t\nPuedes usar la indexación para modificar o asignar nuevos valores a elementos específicos en la lista.",
      "metadata": {}
    },
    {
      "cell_type": "code",
      "source": "my_list = [10, 20, 30, 40, 50] \nmy_list[1] = 25 # Modificando el segundo elemento \nprint(my_list) \n# Salida: [10, 25, 30, 40, 50]",
      "metadata": {
        "trusted": true
      },
      "outputs": [
        {
          "name": "stdout",
          "text": "[10, 25, 30, 40, 50]\n",
          "output_type": "stream"
        }
      ],
      "execution_count": 14
    },
    {
      "cell_type": "markdown",
      "source": "# pop()\t\nEl método `pop()` es otra forma de eliminar un elemento de una lista en Python. Elimina y devuelve el elemento en el índice especificado. Si no proporcionas un índice al método `pop()`, eliminará y devolverá el último elemento de la lista por defecto.",
      "metadata": {}
    },
    {
      "cell_type": "code",
      "source": "my_list = [10, 20, 30, 40, 50] \nremoved_element = my_list.pop() # Elimina y devuelve el último elemento \nprint(removed_element) \n# Salida: 50 \nprint(my_list) \n# Salida: [10, 20, 30, 40]",
      "metadata": {
        "trusted": true
      },
      "outputs": [
        {
          "name": "stdout",
          "text": "50\n[10, 20, 30, 40]\n",
          "output_type": "stream"
        }
      ],
      "execution_count": 15
    },
    {
      "cell_type": "markdown",
      "source": "# remove()\t\nPara eliminar un elemento de una lista. El método `remove()` elimina la primera ocurrencia del valor especificado.",
      "metadata": {}
    },
    {
      "cell_type": "code",
      "source": "my_list = [10, 20, 30, 40, 50] \nmy_list.remove(30) # Elimina el elemento 30 \nprint(my_list) \n# Salida: [10, 20, 40, 50]",
      "metadata": {
        "trusted": true
      },
      "outputs": [
        {
          "name": "stdout",
          "text": "[10, 20, 40, 50]\n",
          "output_type": "stream"
        }
      ],
      "execution_count": 16
    },
    {
      "cell_type": "markdown",
      "source": "# reverse()\t\nEl método `reverse()` se utiliza para invertir el orden de los elementos en una lista.",
      "metadata": {}
    },
    {
      "cell_type": "code",
      "source": "my_list = [1, 2, 3, 4, 5] \nmy_list.reverse()\nprint(my_list) \n# Salida: [5, 4, 3, 2, 1]",
      "metadata": {
        "trusted": true
      },
      "outputs": [
        {
          "name": "stdout",
          "text": "[5, 4, 3, 2, 1]\n",
          "output_type": "stream"
        }
      ],
      "execution_count": 17
    },
    {
      "cell_type": "markdown",
      "source": "# Segmentación\t\nPuedes usar la segmentación para acceder a un rango de elementos de una lista.\n\n<code> list_name[start:end:step] <code>",
      "metadata": {}
    },
    {
      "cell_type": "code",
      "source": "my_list = [1, 2, 3, 4, 5] \nprint(my_list[1:4]) \n# Salida: [2, 3, 4] (elementos desde el índice 1 hasta 3)\nprint(my_list[:3]) \n# Salida: [1, 2, 3] (elementos desde el principio hasta el índice 2) \nprint(my_list[2:]) \n# Salida: [3, 4, 5] (elementos desde el índice 2 hasta el final) \nprint(my_list[::2]) \n# Salida: [1, 3, 5] (cada segundo elemento)",
      "metadata": {
        "trusted": true
      },
      "outputs": [
        {
          "name": "stdout",
          "text": "[2, 3, 4]\n[1, 2, 3]\n[3, 4, 5]\n[1, 3, 5]\n",
          "output_type": "stream"
        }
      ],
      "execution_count": 18
    },
    {
      "cell_type": "markdown",
      "source": "# sort()\t\nEl método `sort()` se utiliza para ordenar los elementos de una lista en orden ascendente. Si deseas ordenar la lista en orden descendente, puedes pasar el argumento `reverse=True` al método `sort()`.",
      "metadata": {}
    },
    {
      "cell_type": "code",
      "source": "my_list = [5, 2, 8, 1, 9] \nmy_list.sort() \nprint(my_list) \n# Salida: [1, 2, 5, 8, 9] ",
      "metadata": {
        "trusted": true
      },
      "outputs": [
        {
          "name": "stdout",
          "text": "[1, 2, 5, 8, 9]\n",
          "output_type": "stream"
        }
      ],
      "execution_count": 19
    },
    {
      "cell_type": "code",
      "source": "my_list = [5, 2, 8, 1, 9] \nmy_list.sort(reverse=True) \nprint(my_list) \n# Salida: [9, 8, 5, 2, 1]",
      "metadata": {
        "trusted": true
      },
      "outputs": [
        {
          "name": "stdout",
          "text": "[9, 8, 5, 2, 1]\n",
          "output_type": "stream"
        }
      ],
      "execution_count": 20
    },
    {
      "cell_type": "code",
      "source": "",
      "metadata": {
        "trusted": true
      },
      "outputs": [],
      "execution_count": null
    }
  ]
}