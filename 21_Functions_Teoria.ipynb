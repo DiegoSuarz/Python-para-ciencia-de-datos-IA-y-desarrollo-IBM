{
  "metadata": {
    "kernelspec": {
      "name": "python",
      "display_name": "Python (Pyodide)",
      "language": "python"
    },
    "language_info": {
      "codemirror_mode": {
        "name": "python",
        "version": 3
      },
      "file_extension": ".py",
      "mimetype": "text/x-python",
      "name": "python",
      "nbconvert_exporter": "python",
      "pygments_lexer": "ipython3",
      "version": "3.8"
    }
  },
  "nbformat_minor": 4,
  "nbformat": 4,
  "cells": [
    {
      "cell_type": "markdown",
      "source": "# Explorando Funciones en Python\n\n## bjetivos:\nAl final de esta lectura, deberías ser capaz de:\n\n1. Describir el concepto de función y la importancia de las funciones en la programación.\n2. Escribir una función que tome entradas y realice tareas.\n3. Usar funciones integradas como len(), sum() y otras de manera efectiva.\n4. Definir y usar tus propias funciones en Python.\n5. Diferenciar entre los ámbitos de variables globales y locales.\n6. Usar bucles dentro de la función.\n7. Modificar estructuras de datos utilizando funciones.\n\n## Introducción a las funciones\nUna función es un bloque de construcción fundamental que encapsula acciones o cálculos específicos. Al igual que en matemáticas, donde las funciones toman entradas y producen salidas, las funciones de programación funcionan de manera similar. Toman entradas, ejecutan acciones o cálculos predefinidos y luego devuelven una salida.\n\n### Propósito de las funciones\nLas funciones promueven la modularidad y la reutilización del código. Imagina que tienes una tarea que necesita ser realizada varias veces dentro de un programa. En lugar de duplicar el mismo código en varios lugares, puedes definir una función una vez y llamarla cada vez que necesites esa tarea. Esto reduce la redundancia y hace que el código sea más fácil de gestionar y mantener.\n\n### Beneficios de usar funciones\n- **Modularidad**: Las funciones descomponen tareas complejas en componentes manejables\n- **Reutilización**: Las funciones se pueden usar múltiples veces sin reescribir código\n- **Legibilidad**: Las funciones con nombres significativos mejoran la comprensión del código\n- **Depuración**: Aislar funciones facilita la solución de problemas y la corrección de errores\n- **Abstracción**: Las funciones simplifican procesos complejos detrás de una interfaz amigable\n- **Colaboración**: Los miembros del equipo pueden trabajar en diferentes funciones de manera concurrente\n- **Mantenimiento**: Los cambios realizados en una función se aplican automáticamente donde sea que se use\n\n## Cómo las funciones toman entradas, realizan tareas y producen salidas\n### Entradas (Parámetros)\nLas funciones operan sobre datos, y pueden recibir datos como entrada. Estas entradas se conocen como parámetros o argumentos. Los parámetros proporcionan a las funciones la información necesaria que necesitan para realizar sus tareas. Considera los parámetros como valores que pasas a una función, permitiéndole trabajar con datos específicos.\n\n### Realizando tareas\nUna vez que una función recibe su entrada (parámetros), ejecuta acciones o cálculos predefinidos. Estas acciones pueden incluir cálculos, operaciones sobre datos, o incluso tareas más complejas. El propósito de una función determina las tareas que realiza. Por ejemplo, una función podría calcular la suma de números, ordenar una lista, formatear texto, o recuperar datos de una base de datos.\n\n### Producción de salidas\nDespués de realizar sus tareas, una función puede producir una salida. Esta salida es el resultado de las operaciones llevadas a cabo dentro de la función. Es el valor que la función “devuelve” al código que la llamó. Piensa en la salida como el producto final del trabajo de la función. Puedes usar esta salida en tu código, asignarla a variables, pasarla a otras funciones o incluso imprimirla para mostrarla.\n\nEjemplo:\n\nConsidera una función llamada calculate_total que toma dos números como entrada (parámetros), los suma y luego produce la suma como salida. Así es como funciona:",
      "metadata": {}
    },
    {
      "cell_type": "code",
      "source": "def calculate_total(a, b):  # Parameters: a and b\n    total = a + b           # Task: Addition\n    return total            # Output: Sum of a and b\n\nresult = calculate_total(5, 7)  # Calling the function with inputs 5 and 7\nprint(result)  # Output: 12",
      "metadata": {
        "trusted": true
      },
      "outputs": [
        {
          "name": "stdout",
          "text": "12\n",
          "output_type": "stream"
        }
      ],
      "execution_count": 1
    },
    {
      "cell_type": "markdown",
      "source": "## Funciones integradas de Python\nPython tiene un conjunto rico de funciones integradas que ofrecen una amplia gama de funcionalidades. Estas funciones están disponibles para que las uses, y no necesitas preocuparte por cómo están implementadas internamente. En su lugar, puedes concentrarte en entender qué hace cada función y cómo usarla de manera efectiva.\n\n### Uso de funciones integradas o funciones predefinidas\nPara utilizar una función integrada, simplemente llamas al nombre de la función seguido de paréntesis. Cualquier argumento o parámetro requerido se pasa a la función dentro de estos paréntesis. La función luego realiza su tarea predefinida y puede devolver una salida que puedes usar en tu código.\n\nAquí hay algunos ejemplos de funciones integradas comúnmente utilizadas:\n\n**len()**: Calcula la longitud de una secuencia o colección",
      "metadata": {}
    },
    {
      "cell_type": "code",
      "source": "string_length = len(\"Hello, World!\")  # Output: 13\nprint(string_length)\nlist_length = len([1, 2, 3, 4, 5])   # Output: 5\nprint(list_length)",
      "metadata": {
        "trusted": true
      },
      "outputs": [
        {
          "name": "stdout",
          "text": "13\n5\n",
          "output_type": "stream"
        }
      ],
      "execution_count": 4
    },
    {
      "cell_type": "markdown",
      "source": "**sum()**: Suma los elementos en un iterable (lista, tupla, etc.)",
      "metadata": {}
    },
    {
      "cell_type": "code",
      "source": "total = sum([10, 20, 30, 40, 50])  # Output: 150\nprint(total)",
      "metadata": {
        "trusted": true
      },
      "outputs": [
        {
          "name": "stdout",
          "text": "150\n",
          "output_type": "stream"
        }
      ],
      "execution_count": 5
    },
    {
      "cell_type": "markdown",
      "source": "**max()**: Devuelve el valor máximo en un iterable",
      "metadata": {}
    },
    {
      "cell_type": "code",
      "source": "highest = max([5, 12, 8, 23, 16])  # Output: 23\nprint(highest)",
      "metadata": {
        "trusted": true
      },
      "outputs": [
        {
          "name": "stdout",
          "text": "23\n",
          "output_type": "stream"
        }
      ],
      "execution_count": 6
    },
    {
      "cell_type": "markdown",
      "source": "**min()**: Devuelve el valor mínimo en un iterable",
      "metadata": {}
    },
    {
      "cell_type": "code",
      "source": "lowest = min([5, 12, 8, 23, 16])  # Output: 5\nprint(lowest)",
      "metadata": {
        "trusted": true
      },
      "outputs": [
        {
          "name": "stdout",
          "text": "5\n",
          "output_type": "stream"
        }
      ],
      "execution_count": 8
    },
    {
      "cell_type": "markdown",
      "source": "Las funciones integradas de Python ofrecen una amplia gama de funcionalidades, desde operaciones básicas como len() y sum() hasta tareas más especializadas.\n\n## Definiendo tus funciones\nDefinir una función es como crear tu mini-programa:\n\nUsa 'def' seguido del nombre de la función y paréntesis\nAquí está la sintaxis para definir una función:\n\n<code>def function_name():\n    pass<code>\n\nUna \"pass\" en una función de programación es un marcador de posición o una declaración de no operación (no-op). Úsala cuando quieras definir una función o un bloque de código sintácticamente pero no desees especificar ninguna funcionalidad o implementación en ese momento.\n\n- **Marcador de posición**: \"pass\" actúa como un marcador de posición temporal para el código futuro que pretendes escribir dentro de una función o un bloque de código.\n\n- **Requisito de sintaxis**: En muchos lenguajes de programación como Python, usar \"pass\" es necesario cuando defines una función o un bloque condicional. Asegura que el código siga siendo sintácticamente correcto, incluso si aún no hace nada.\n\n- **No operación**: \"pass\" en sí no realiza ninguna acción significativa. Cuando el intérprete encuentra “pass”, simplemente pasa a la siguiente declaración sin ejecutar ningún código.\n\n### Parámetros de Función:\n- Los parámetros son como entradas para funciones\n- Van dentro de paréntesis al definir la función\n- Las funciones pueden tener múltiples parámetros\nEjemplo:",
      "metadata": {}
    },
    {
      "cell_type": "code",
      "source": "def greet(name):\n    return \"Hello, \" + name\n\nresult = greet(\"Alice\")\nprint(result)  # Output: Hello, Alice",
      "metadata": {
        "trusted": true
      },
      "outputs": [
        {
          "name": "stdout",
          "text": "Hello, Alice\n",
          "output_type": "stream"
        }
      ],
      "execution_count": 9
    },
    {
      "cell_type": "markdown",
      "source": "### Cadenas de Documentación (Docstrings)\n- Las cadenas de documentación explican qué hace una función\n- Se colocan dentro de comillas triples debajo de la definición de la función\n- Ayudan a otros desarrolladores a entender tu función\nEjemplo:",
      "metadata": {}
    },
    {
      "cell_type": "code",
      "source": "def multiply(a, b):\n    \"\"\"\n    This function multiplies two numbers.\n    Input: a (number), b (number)\n    Output: Product of a and b\n    \"\"\"\n    print(a * b)\nmultiply(2,6)",
      "metadata": {
        "trusted": true
      },
      "outputs": [
        {
          "name": "stdout",
          "text": "12\n",
          "output_type": "stream"
        }
      ],
      "execution_count": 10
    },
    {
      "cell_type": "markdown",
      "source": "### Declaración de retorno\n- Return devuelve un valor de una función\n- Finaliza la ejecución de la función y envía el resultado\n- Una función puede devolver varios tipos de datos\nEjemplo:",
      "metadata": {}
    },
    {
      "cell_type": "code",
      "source": "def add(a, b):\n    return a + b\n\nsum_result = add(3, 5)  # sum_result gets the value 8\nprint(sum_result)",
      "metadata": {
        "trusted": true
      },
      "outputs": [
        {
          "name": "stdout",
          "text": "8\n",
          "output_type": "stream"
        }
      ],
      "execution_count": 12
    },
    {
      "cell_type": "markdown",
      "source": "## Entendiendo los ámbitos y las variables\nEl ámbito es donde una variable puede ser vista y utilizada:\n\n- **Ámbito Global**: Variables definidas fuera de las funciones; accesibles en todas partes\n- **Ámbito Local**: Variables dentro de las funciones; solo utilizables dentro de esa función\nEjemplo:\n\nParte 1: Declaración de variable global",
      "metadata": {}
    },
    {
      "cell_type": "code",
      "source": "global_variable = \"I'm global\"",
      "metadata": {
        "trusted": true
      },
      "outputs": [],
      "execution_count": 13
    },
    {
      "cell_type": "markdown",
      "source": "Esta línea inicializa una variable global llamada **global_variable** y le asigna el valor “Soy global”.\n\nLas variables globales son accesibles en todo el programa, tanto dentro como fuera de las funciones.\n\n### Parte 2: Definición de funciones",
      "metadata": {}
    },
    {
      "cell_type": "code",
      "source": "def example_function():\n    local_variable = \"I'm local\"\n    print(global_variable)  # Accessing global variable\n    print(local_variable)   # Accessing local variable",
      "metadata": {
        "trusted": true
      },
      "outputs": [],
      "execution_count": 15
    },
    {
      "cell_type": "markdown",
      "source": "Aquí, defines una función llamada example_function().\n\nDentro de esta función:\n\n- Se declara una variable local llamada local_variable y se inicializa con el valor de cadena “I'm local.” Esta variable es local a la función y solo se puede acceder dentro del ámbito de la función.\n\n- La función luego imprime los valores tanto de la variable global (global_variable) como de la variable local (local_variable). Demuestra que puedes acceder a variables globales y locales dentro de una función.\n\n### Parte 3: Llamada a función",
      "metadata": {}
    },
    {
      "cell_type": "code",
      "source": "example_function()",
      "metadata": {
        "trusted": true
      },
      "outputs": [
        {
          "name": "stdout",
          "text": "I'm global\nI'm local\n",
          "output_type": "stream"
        }
      ],
      "execution_count": 16
    },
    {
      "cell_type": "markdown",
      "source": "En esta parte, llamas a la **example_function()** invocándola. Esto resulta en la ejecución del código de la función.\nComo resultado de esta llamada a la función, imprimirá los valores de las variables globales y locales dentro de la función.\n\n### Parte 4: Accediendo a la variable global fuera de la función",
      "metadata": {}
    },
    {
      "cell_type": "code",
      "source": "print(global_variable)  # Accessible outside the function",
      "metadata": {
        "trusted": true
      },
      "outputs": [
        {
          "name": "stdout",
          "text": "I'm global\n",
          "output_type": "stream"
        }
      ],
      "execution_count": 17
    },
    {
      "cell_type": "markdown",
      "source": "Después de llamar a la función, imprimes el valor de la variable global global_variable fuera de la función. Esto demuestra que las variables globales son accesibles dentro y fuera de las funciones.\n\n### Parte 5: Intentando acceder a una variable local fuera de la función",
      "metadata": {}
    },
    {
      "cell_type": "code",
      "source": "print(local_variable)  # Error, local variable not visible here",
      "metadata": {
        "trusted": true
      },
      "outputs": [
        {
          "ename": "<class 'NameError'>",
          "evalue": "name 'local_variable' is not defined",
          "traceback": [
            "\u001b[0;31m---------------------------------------------------------------------------\u001b[0m",
            "\u001b[0;31mNameError\u001b[0m                                 Traceback (most recent call last)",
            "Cell \u001b[0;32mIn[18], line 1\u001b[0m\n\u001b[0;32m----> 1\u001b[0m \u001b[38;5;28mprint\u001b[39m(\u001b[43mlocal_variable\u001b[49m)  \u001b[38;5;66;03m# Error, local variable not visible here\u001b[39;00m\n",
            "\u001b[0;31mNameError\u001b[0m: name 'local_variable' is not defined"
          ],
          "output_type": "error"
        }
      ],
      "execution_count": 18
    },
    {
      "cell_type": "markdown",
      "source": "En esta parte, estás intentando imprimir el valor de la variable local local_variable fuera de la función. Sin embargo, esta línea resultaría en un error.\n\nLas variables locales solo son visibles y accesibles dentro del ámbito de la función donde se definen.\n\nIntentar acceder a ellas fuera de ese ámbito generaría un \"NameError\".\n\n## Uso de funciones con bucles\n### Funciones y bucles juntos\n1. Las funciones pueden contener código con bucles\n2. Esto hace que las tareas complejas estén más organizadas\n3. El código del bucle se convierte en una función repetible\n   \nEjemplo:",
      "metadata": {}
    },
    {
      "cell_type": "code",
      "source": "def print_numbers(limit):\n    for i in range(1, limit+1):\n        print(i)\n\nprint_numbers(5)  # Output: 1 2 3 4 5",
      "metadata": {
        "trusted": true
      },
      "outputs": [
        {
          "name": "stdout",
          "text": "1\n2\n3\n4\n5\n",
          "output_type": "stream"
        }
      ],
      "execution_count": 19
    },
    {
      "cell_type": "markdown",
      "source": "### Mejora de la organización y reutilización del código\nLas funciones agrupan acciones similares para una fácil comprensión\nEl uso de bucles dentro de las funciones mantiene el código limpio\nPuedes reutilizar una función para repetir acciones\nEjemplo",
      "metadata": {}
    },
    {
      "cell_type": "code",
      "source": "def greet(name):\n    return \"Hello, \" + name\n\nfor _ in range(3):\n    print(greet(\"Alice\"))",
      "metadata": {
        "trusted": true
      },
      "outputs": [
        {
          "name": "stdout",
          "text": "Hello, Alice\nHello, Alice\nHello, Alice\n",
          "output_type": "stream"
        }
      ],
      "execution_count": 20
    },
    {
      "cell_type": "markdown",
      "source": "## Modificación de la estructura de datos utilizando funciones\nUtilizarás Python y una lista como la estructura de datos para esta ilustración. En este ejemplo, crearás funciones para agregar y eliminar elementos de una lista.\n\n### Parte 1: Inicializar una lista vacía",
      "metadata": {}
    },
    {
      "cell_type": "code",
      "source": "# Define an empty list as the initial data structure\nmy_list = []",
      "metadata": {
        "trusted": true
      },
      "outputs": [],
      "execution_count": 21
    },
    {
      "cell_type": "markdown",
      "source": "En esta parte, comienzas creando una lista vacía llamada my_list. Esta lista vacía sirve como la estructura de datos que modificarás a lo largo del código.\n\n### Parte 2: Definir una función para agregar elementos",
      "metadata": {}
    },
    {
      "cell_type": "code",
      "source": "# Function to add an element to the list\ndef add_element(data_structure, element):\n    data_structure.append(element)",
      "metadata": {
        "trusted": true
      },
      "outputs": [],
      "execution_count": 22
    },
    {
      "cell_type": "markdown",
      "source": "Aquí, defines una función llamada **add_element**. Esta función toma dos parámetros:\n\n- **data_structure**: Este parámetro representa la lista a la que deseas agregar un elemento.\n- **element**: Este parámetro representa el elemento que deseas agregar a la lista.\nDentro de la función, utilizas el método append para agregar el elemento proporcionado a la data_structure, que se supone que es una lista.\n\n### Parte 3: Definir una función para eliminar elementos",
      "metadata": {}
    },
    {
      "cell_type": "code",
      "source": "# Function to remove an element from the list\ndef remove_element(data_structure, element):\n    if element in data_structure:\n        data_structure.remove(element)\n    else:\n        print(f\"{element} not found in the list.\")",
      "metadata": {
        "trusted": true
      },
      "outputs": [],
      "execution_count": 23
    },
    {
      "cell_type": "markdown",
      "source": "En esta parte, defines otra función llamada **remove_element**. También toma dos parámetros:\n\n- **data_structure**: La lista de la que queremos eliminar un elemento\n- **element**: El elemento que queremos eliminar de la lista\nDentro de la función, utilizas declaraciones condicionales para verificar si el elemento está presente en la data_structure. Si lo está, utilizas el método remove para eliminar la primera ocurrencia del elemento. Si no se encuentra, imprimes un mensaje indicando que el elemento no fue encontrado en la lista.\n\n### Parte 4: Agregar elementos a la lista",
      "metadata": {}
    },
    {
      "cell_type": "code",
      "source": "# Add elements to the list using the add_element function\nadd_element(my_list, 42)\nadd_element(my_list, 17)\nadd_element(my_list, 99)",
      "metadata": {
        "trusted": true
      },
      "outputs": [],
      "execution_count": 24
    },
    {
      "cell_type": "markdown",
      "source": "Aquí, utilizas la función add_element para agregar tres elementos (42, 17 y 99) a my_list. Estos se añaden uno a la vez mediante llamadas a la función.\n\n### Parte 5: Imprimir la lista actual",
      "metadata": {}
    },
    {
      "cell_type": "code",
      "source": "# Print the current list\nprint(\"Current list:\", my_list)",
      "metadata": {
        "trusted": true
      },
      "outputs": [
        {
          "name": "stdout",
          "text": "Current list: [42, 17, 99]\n",
          "output_type": "stream"
        }
      ],
      "execution_count": 25
    },
    {
      "cell_type": "markdown",
      "source": "Esta parte simplemente imprime el estado actual de my_list en la consola, lo que nos permite ver los elementos que se han añadido hasta ahora.\n\n### Parte 6: Eliminar elementos de la lista",
      "metadata": {}
    },
    {
      "cell_type": "code",
      "source": "# Remove an element from the list using the remove_element function\nremove_element(my_list, 17)\nremove_element(my_list, 55)  # This will print a message since 55 is not in the list",
      "metadata": {
        "trusted": true
      },
      "outputs": [
        {
          "name": "stdout",
          "text": "55 not found in the list.\n",
          "output_type": "stream"
        }
      ],
      "execution_count": 26
    },
    {
      "cell_type": "markdown",
      "source": "En esta parte, usas la función remove_element para eliminar elementos de my_list. Primero, intentas eliminar 17 (que está en la lista), y luego intentas eliminar 55 (que no está en la lista). La segunda llamada a remove_element imprimirá un mensaje indicando que 55 no fue encontrado.\n\n### Parte 7: Imprimir la lista actualizada",
      "metadata": {}
    },
    {
      "cell_type": "code",
      "source": "# Print the updated list\nprint(\"Updated list:\", my_list)",
      "metadata": {
        "trusted": true
      },
      "outputs": [
        {
          "name": "stdout",
          "text": "Updated list: [42, 99]\n",
          "output_type": "stream"
        }
      ],
      "execution_count": 27
    },
    {
      "cell_type": "markdown",
      "source": "Finalmente, imprimes la my_list actualizada en la consola. Esto nos permite observar las modificaciones realizadas en la lista al agregar y eliminar elementos utilizando las funciones definidas.\n\n## Conclusión\n¡Felicidades! Has completado el Laboratorio de Instrucción de Lectura sobre funciones en Python. Has adquirido una comprensión sólida de las funciones, su importancia y cómo crearlas y utilizarlas de manera efectiva. Estas habilidades te permitirán escribir un código más organizado, modular y potente en tus proyectos de Python.",
      "metadata": {}
    },
    {
      "cell_type": "code",
      "source": "",
      "metadata": {
        "trusted": true
      },
      "outputs": [],
      "execution_count": null
    }
  ]
}