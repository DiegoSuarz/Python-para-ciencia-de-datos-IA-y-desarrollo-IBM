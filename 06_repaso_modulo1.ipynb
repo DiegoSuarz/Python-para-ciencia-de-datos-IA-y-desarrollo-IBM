{
  "metadata": {
    "kernelspec": {
      "name": "python",
      "display_name": "Python (Pyodide)",
      "language": "python"
    },
    "language_info": {
      "codemirror_mode": {
        "name": "python",
        "version": 3
      },
      "file_extension": ".py",
      "mimetype": "text/x-python",
      "name": "python",
      "nbconvert_exporter": "python",
      "pygments_lexer": "ipython3",
      "version": "3.8"
    }
  },
  "nbformat_minor": 4,
  "nbformat": 4,
  "cells": [
    {
      "cell_type": "markdown",
      "source": "# Comentarios\n\nLos comentarios son líneas de texto que son ignoradas por el intérprete de Python al ejecutar el código",
      "metadata": {}
    },
    {
      "cell_type": "code",
      "source": "# Este es un comentario",
      "metadata": {
        "trusted": true
      },
      "outputs": [],
      "execution_count": 5
    },
    {
      "cell_type": "markdown",
      "source": "# Concatenación\nCombina (concatena) cadenas.",
      "metadata": {}
    },
    {
      "cell_type": "code",
      "source": "#cadena_concatenada = cadena1 + cadena2 \nresultado = \"Hola\" + \" John\"\nresultado",
      "metadata": {
        "trusted": true
      },
      "outputs": [
        {
          "execution_count": 6,
          "output_type": "execute_result",
          "data": {
            "text/plain": "'Hola John'"
          },
          "metadata": {}
        }
      ],
      "execution_count": 6
    },
    {
      "cell_type": "markdown",
      "source": "# Tipos de Datos\t\n- Entero\n- Flotante\n- Booleano \n- Cadena",
      "metadata": {}
    },
    {
      "cell_type": "code",
      "source": "x=7 \n# Valor Entero \ny=12.4 \n# Valor Flotante \nes_valido = True \n# Valor Booleano \nes_valido = False \n# Valor Booleano \nNombre = \"John\" \n# Valor de Cadena",
      "metadata": {
        "trusted": true
      },
      "outputs": [],
      "execution_count": 7
    },
    {
      "cell_type": "markdown",
      "source": "# Indexación\t\nAccede al carácter en un índice específico.",
      "metadata": {}
    },
    {
      "cell_type": "code",
      "source": "mis_cadenas=\"Hola\" \ncaracter = mis_cadenas[0]\ncaracter",
      "metadata": {
        "trusted": true
      },
      "outputs": [
        {
          "execution_count": 9,
          "output_type": "execute_result",
          "data": {
            "text/plain": "'H'"
          },
          "metadata": {}
        }
      ],
      "execution_count": 9
    },
    {
      "cell_type": "markdown",
      "source": "# len()\t\nDevuelve la longitud de una cadena.\n\n<code>len(nombre_cadena)<code>",
      "metadata": {}
    },
    {
      "cell_type": "code",
      "source": "mis_cadenas=\"Hola\" \nlongitud = len(mis_cadenas)\nlongitud",
      "metadata": {
        "trusted": true
      },
      "outputs": [
        {
          "execution_count": 10,
          "output_type": "execute_result",
          "data": {
            "text/plain": "4"
          },
          "metadata": {}
        }
      ],
      "execution_count": 10
    },
    {
      "cell_type": "markdown",
      "source": "# lower()\t\nConvierte la cadena a minúsculas.\n\n",
      "metadata": {}
    },
    {
      "cell_type": "code",
      "source": "mis_cadenas=\"Hola\" \ntexto_minusc = mis_cadenas.lower()\ntexto_minusc",
      "metadata": {
        "trusted": true
      },
      "outputs": [
        {
          "execution_count": 14,
          "output_type": "execute_result",
          "data": {
            "text/plain": "'hola'"
          },
          "metadata": {}
        }
      ],
      "execution_count": 14
    },
    {
      "cell_type": "markdown",
      "source": "# print()\t\nImprime el mensaje o variable dentro de `()`.",
      "metadata": {}
    },
    {
      "cell_type": "code",
      "source": "print(\"Hola, mundo\") \n",
      "metadata": {
        "trusted": true
      },
      "outputs": [
        {
          "name": "stdout",
          "text": "Hola, mundo\n",
          "output_type": "stream"
        }
      ],
      "execution_count": 16
    },
    {
      "cell_type": "markdown",
      "source": "# Operadores de Python\t\n- Adición (+): Suma dos valores.\n- Sustracción (-): Resta un valor de otro.\n- Multiplicación (*): Multiplica dos valores.\n- División (/): Divide un valor por otro, devuelve un flotante.\n- División entera (//): Divide un valor por otro, devuelve el cociente como un entero.\n- Módulo (%): Devuelve el residuo después de la división.",
      "metadata": {}
    },
    {
      "cell_type": "code",
      "source": "x = 9 \ny = 4 \nresultado_suma= x + y # Adición \nresultado_resta= x - y # Sustracción \nresultado_multiplicacion= x * y # Multiplicación \nresultado_division= x / y # División \nresultado_division_entera= x // y # División entera \nresultado_modulo= x % y # Módulo",
      "metadata": {
        "trusted": true
      },
      "outputs": [],
      "execution_count": 18
    },
    {
      "cell_type": "markdown",
      "source": "# replace()\t\nReemplaza subcadenas.",
      "metadata": {}
    },
    {
      "cell_type": "code",
      "source": "mis_cadenas=\"Hola papurro\" \nprint(mis_cadenas)\nnuevo_texto = mis_cadenas.replace(\"Hola\", \"bye\")\nprint(nuevo_texto)",
      "metadata": {
        "trusted": true
      },
      "outputs": [
        {
          "name": "stdout",
          "text": "Hola papurro\nbye papurro\n",
          "output_type": "stream"
        }
      ],
      "execution_count": 20
    },
    {
      "cell_type": "markdown",
      "source": "# Segmentación\nExtrae una porción de la cadena.\n\n<code>subcadena = nombre_cadena[inicio:fin]<code>",
      "metadata": {}
    },
    {
      "cell_type": "code",
      "source": "mis_cadenas=\"Hola\" \nsubcadena = mis_cadenas[0:2]\nsubcadena",
      "metadata": {
        "trusted": true
      },
      "outputs": [
        {
          "execution_count": 23,
          "output_type": "execute_result",
          "data": {
            "text/plain": "'Ho'"
          },
          "metadata": {}
        }
      ],
      "execution_count": 23
    },
    {
      "cell_type": "markdown",
      "source": "# split()\t\nDivide la cadena en una lista basada en un delimitador.",
      "metadata": {}
    },
    {
      "cell_type": "code",
      "source": "mis_cadenas=\"Hola, eres hermosa, presiosa\" \ntexto_dividido = mis_cadenas.split(\",\")\ntexto_dividido",
      "metadata": {
        "trusted": true
      },
      "outputs": [
        {
          "execution_count": 26,
          "output_type": "execute_result",
          "data": {
            "text/plain": "['Hola', ' eres hermosa', ' presiosa']"
          },
          "metadata": {}
        }
      ],
      "execution_count": 26
    },
    {
      "cell_type": "markdown",
      "source": "# strip()\t\nElimina espacios en blanco al inicio y al final.",
      "metadata": {}
    },
    {
      "cell_type": "code",
      "source": "mis_cadenas=\"Hola eres hermosa preciosa\" \nrecortado = mis_cadenas.strip()\nrecortado",
      "metadata": {
        "trusted": true
      },
      "outputs": [
        {
          "execution_count": 27,
          "output_type": "execute_result",
          "data": {
            "text/plain": "'Hola eres hermosa preciosa'"
          },
          "metadata": {}
        }
      ],
      "execution_count": 27
    },
    {
      "cell_type": "markdown",
      "source": "# upper()\t\nConvierte la cadena a mayúsculas.",
      "metadata": {}
    },
    {
      "cell_type": "code",
      "source": "mis_cadenas=\"Hola eres hermosa preciosa\" \ntexto_mayusc = mis_cadenas.upper()\ntexto_mayusc",
      "metadata": {
        "trusted": true
      },
      "outputs": [
        {
          "execution_count": 28,
          "output_type": "execute_result",
          "data": {
            "text/plain": "'HOLA ERES HERMOSA PRECIOSA'"
          },
          "metadata": {}
        }
      ],
      "execution_count": 28
    },
    {
      "cell_type": "markdown",
      "source": "# Asignación de Variables\nAsigna un valor a una variable.\n\nnombre_variable = valor ",
      "metadata": {}
    },
    {
      "cell_type": "code",
      "source": "nombre=\"John\" # asignando John a la variable nombre \nx = 5 # asignando 5 a la variable x\nnombre, x",
      "metadata": {
        "trusted": true
      },
      "outputs": [
        {
          "execution_count": 31,
          "output_type": "execute_result",
          "data": {
            "text/plain": "('John', 5)"
          },
          "metadata": {}
        }
      ],
      "execution_count": 31
    }
  ]
}