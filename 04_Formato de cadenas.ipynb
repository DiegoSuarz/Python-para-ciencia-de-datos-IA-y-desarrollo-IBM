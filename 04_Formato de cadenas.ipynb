{
  "metadata": {
    "kernelspec": {
      "name": "python",
      "display_name": "Python (Pyodide)",
      "language": "python"
    },
    "language_info": {
      "codemirror_mode": {
        "name": "python",
        "version": 3
      },
      "file_extension": ".py",
      "mimetype": "text/x-python",
      "name": "python",
      "nbconvert_exporter": "python",
      "pygments_lexer": "ipython3",
      "version": "3.8"
    }
  },
  "nbformat_minor": 4,
  "nbformat": 4,
  "cells": [
    {
      "cell_type": "markdown",
      "source": "Formato de Cadenas en Python:\n\nLas cadenas de formato son una manera de inyectar variables en una cadena en Python. Se utilizan para formatear cadenas y producir salidas más legibles para los humanos. Hay varias maneras de formatear cadenas en Python:\n",
      "metadata": {}
    },
    {
      "cell_type": "markdown",
      "source": "**Interpolación de cadenas (f-strings)**\n\nIntroducidas en Python 3.6, las f-strings son una nueva forma de formatear cadenas en Python. Se prefijan con ‘f’ y utilizan llaves {} para encerrar las variables que se formatearán. Por ejemplo:",
      "metadata": {}
    },
    {
      "cell_type": "code",
      "source": "name = \"John\"\nage = 30\nprint(f\"My name is {name} and I am {age} years old.\")",
      "metadata": {
        "trusted": true
      },
      "outputs": [
        {
          "name": "stdout",
          "text": "My name is John and I am 30 years old.\n",
          "output_type": "stream"
        }
      ],
      "execution_count": 3
    },
    {
      "cell_type": "markdown",
      "source": "**str.format()**\n\nEsta es otra forma de formatear cadenas en Python. Utiliza llaves {} como marcadores de posición para las variables que se pasan como argumentos en el método format(). Por ejemplo:",
      "metadata": {}
    },
    {
      "cell_type": "code",
      "source": "name = \"John\"\nage = 50\nprint(\"My name is {} and I am {} years old.\".format(name, age))\n\n",
      "metadata": {
        "trusted": true
      },
      "outputs": [
        {
          "name": "stdout",
          "text": "My name is John and I am 50 years old.\n",
          "output_type": "stream"
        }
      ],
      "execution_count": 5
    },
    {
      "cell_type": "markdown",
      "source": "**Operador %**\n\nEsta es una de las formas más antiguas de formatear cadenas en Python. Utiliza el operador % para reemplazar variables en la cadena. Por ejemplo:",
      "metadata": {}
    },
    {
      "cell_type": "code",
      "source": "name = \"Johnathan\"\nage = 30\nprint(\"My name is %s and I am %d years old.\" % (name, age))",
      "metadata": {
        "trusted": true
      },
      "outputs": [
        {
          "name": "stdout",
          "text": "My name is Johnathan and I am 30 years old.\n",
          "output_type": "stream"
        }
      ],
      "execution_count": 6
    },
    {
      "cell_type": "markdown",
      "source": "“Mi nombre es %s y tengo %d años.“: Esta es una cadena que incluye especificadores de formato:\n\n%s: Este es un marcador de posición para una cadena.\n%d: Este es un marcador de posición para un entero.\n% (nombre, edad): Esta es una tupla que contiene las variables nombre y edad. Los valores de estas variables reemplazarán los marcadores de posición en la cadena.\n\nCada uno de estos métodos tiene sus propias ventajas y casos de uso. Sin embargo, las f-strings se consideran generalmente la forma más moderna y preferida de formatear cadenas en Python debido a su legibilidad y rendimiento.",
      "metadata": {}
    },
    {
      "cell_type": "markdown",
      "source": "Capacidades adicionales\n\nLas f-strings también pueden evaluar expresiones dentro de las llaves, lo que puede ser muy útil. Por ejemplo:",
      "metadata": {}
    },
    {
      "cell_type": "code",
      "source": "x = 10\ny = 20\nprint(f\"The sum of x and y is {x+y}.\")",
      "metadata": {
        "trusted": true
      },
      "outputs": [
        {
          "name": "stdout",
          "text": "The sum of x and y is 30.\n",
          "output_type": "stream"
        }
      ],
      "execution_count": 8
    },
    {
      "cell_type": "markdown",
      "source": "**Cadena Cruda (r’’)**\n\nEn Python, las cadenas crudas son una herramienta poderosa para manejar datos textuales, especialmente al tratar con caracteres de escape. Al anteponer una cadena literal con la letra ‘r’, Python trata la cadena como cruda, lo que significa que interpreta las barras invertidas como caracteres literales en lugar de secuencias de escape.\n\nConsidera los siguientes ejemplos de cadena regular y cadena cruda:\n\nCadena regular:",
      "metadata": {}
    },
    {
      "cell_type": "code",
      "source": "regular_string = \"C:\\new_folder\\file.txt\"\nprint(\"Regular String:\", regular_string)",
      "metadata": {
        "trusted": true
      },
      "outputs": [
        {
          "name": "stdout",
          "text": "Regular String: C:\new_folder\file.txt\n",
          "output_type": "stream"
        }
      ],
      "execution_count": 9
    },
    {
      "cell_type": "markdown",
      "source": "En la variable de cadena regular regular_string, las barras invertidas (\\n) se interpretan como secuencias de escape. Por lo tanto, \\n representa un carácter de nueva línea, lo que llevaría a una representación incorrecta de la ruta del archivo.\n\nCadena sin procesar:\n\n",
      "metadata": {}
    },
    {
      "cell_type": "code",
      "source": "raw_string = r\"C:\\new_folder\\file.txt\"\nprint(\"Raw String:\", raw_string)",
      "metadata": {
        "trusted": true
      },
      "outputs": [
        {
          "name": "stdout",
          "text": "Raw String: C:\\new_folder\\file.txt\n",
          "output_type": "stream"
        }
      ],
      "execution_count": 11
    },
    {
      "cell_type": "markdown",
      "source": "Sin embargo, en la cadena sin procesar raw_string, las barras invertidas se tratan como caracteres literales. Esto significa que \\n no se interpreta como un carácter de nueva línea, sino como dos caracteres separados, \\ y n. En consecuencia, la ruta del archivo se representa exactamente como aparece.",
      "metadata": {}
    }
  ]
}