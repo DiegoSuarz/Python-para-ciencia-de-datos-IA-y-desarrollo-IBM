{
  "metadata": {
    "kernelspec": {
      "name": "python",
      "display_name": "Python (Pyodide)",
      "language": "python"
    },
    "language_info": {
      "codemirror_mode": {
        "name": "python",
        "version": 3
      },
      "file_extension": ".py",
      "mimetype": "text/x-python",
      "name": "python",
      "nbconvert_exporter": "python",
      "pygments_lexer": "ipython3",
      "version": "3.8"
    }
  },
  "nbformat_minor": 4,
  "nbformat": 4,
  "cells": [
    {
      "cell_type": "markdown",
      "source": "# Conjuntos",
      "metadata": {}
    },
    {
      "cell_type": "markdown",
      "source": "## add()\t\nLos elementos se pueden agregar a un conjunto utilizando el método `add()`. Los duplicados se eliminan automáticamente, ya que los conjuntos solo almacenan valores únicos.\tSintaxis:\n\n<code>set_name.add(element)<code>",
      "metadata": {}
    },
    {
      "cell_type": "code",
      "source": "fruits = {'piña','platano','uva','manzana','fresa'}\nprint(fruits)\nfruits.add(\"mango\")\nprint(fruits)",
      "metadata": {
        "trusted": true
      },
      "outputs": [
        {
          "name": "stdout",
          "text": "{'uva', 'piña', 'manzana', 'platano', 'fresa'}\n{'uva', 'piña', 'manzana', 'mango', 'platano', 'fresa'}\n",
          "output_type": "stream"
        }
      ],
      "execution_count": 2
    },
    {
      "cell_type": "markdown",
      "source": "## clear()\t\nEl método `clear()` elimina todos los elementos del conjunto, resultando en un conjunto vacío. Actualiza el conjunto en su lugar.\tSintaxis:\n\n<code>set_name.clear()<code>",
      "metadata": {}
    },
    {
      "cell_type": "code",
      "source": "fruits.clear()\nfruits",
      "metadata": {
        "trusted": true
      },
      "outputs": [
        {
          "execution_count": 3,
          "output_type": "execute_result",
          "data": {
            "text/plain": "set()"
          },
          "metadata": {}
        }
      ],
      "execution_count": 3
    },
    {
      "cell_type": "markdown",
      "source": "## copy()\t\nEl método `copy()` crea una copia superficial del conjunto. Cualquier modificación a la copia no afectará al conjunto original.\t\n\nSintaxis:\n\n<code>new_set = set_name.copy()<code>",
      "metadata": {}
    },
    {
      "cell_type": "code",
      "source": "fruits = {'piña','platano','uva','manzana','fresa'}\nprint(fruits)\nnew_fruits = fruits.copy()\nnew_fruits",
      "metadata": {
        "trusted": true
      },
      "outputs": [
        {
          "name": "stdout",
          "text": "{'uva', 'piña', 'manzana', 'platano', 'fresa'}\n",
          "output_type": "stream"
        },
        {
          "execution_count": 5,
          "output_type": "execute_result",
          "data": {
            "text/plain": "{'fresa', 'manzana', 'piña', 'platano', 'uva'}"
          },
          "metadata": {}
        }
      ],
      "execution_count": 5
    },
    {
      "cell_type": "markdown",
      "source": "## Defining Sets\t\nUn conjunto es una colección desordenada de elementos únicos. Los conjuntos están encerrados en llaves `{}`. Son útiles para almacenar valores distintos y realizar operaciones de conjunto.",
      "metadata": {}
    },
    {
      "cell_type": "code",
      "source": "empty_set = set() #Creando un conjunto vacío \nfruits = {\"apple\", \"banana\", \"orange\"}\ncolors = {\"orange\", \"red\", \"green\"}\nprint(fruits)\nprint(colors)",
      "metadata": {
        "trusted": true
      },
      "outputs": [
        {
          "name": "stdout",
          "text": "{'apple', 'orange', 'banana'}\n{'green', 'orange', 'red'}\n",
          "output_type": "stream"
        }
      ],
      "execution_count": 13
    },
    {
      "cell_type": "markdown",
      "source": "## discard()\t\nUtiliza el método `discard()` para eliminar un elemento específico del conjunto. Ignora si el elemento no se encuentra.\t\n\nSintaxis:\n\n<code>set_name.discard(element)<code> ",
      "metadata": {}
    },
    {
      "cell_type": "code",
      "source": "print(fruits)\nfruits.discard(\"apple\")\nprint(fruits)",
      "metadata": {
        "trusted": true
      },
      "outputs": [
        {
          "name": "stdout",
          "text": "{'apple', 'orange', 'banana'}\n{'orange', 'banana'}\n",
          "output_type": "stream"
        }
      ],
      "execution_count": 7
    },
    {
      "cell_type": "markdown",
      "source": "## issubset()\t\nEl método `issubset()` verifica si el conjunto actual es un subconjunto de otro conjunto. Devuelve True si todos los elementos del conjunto actual están presentes en el otro conjunto, de lo contrario devuelve False.\t\n\nSintaxis:\n\n<code>is_subset = set1.issubset(set2)<code>",
      "metadata": {}
    },
    {
      "cell_type": "code",
      "source": "is_subset = fruits.issubset(colors)\nis_subset",
      "metadata": {
        "trusted": true
      },
      "outputs": [
        {
          "execution_count": 10,
          "output_type": "execute_result",
          "data": {
            "text/plain": "False"
          },
          "metadata": {}
        }
      ],
      "execution_count": 10
    },
    {
      "cell_type": "markdown",
      "source": "## issuperset()\t\nEl método `issuperset()` verifica si el conjunto actual es un superconjunto de otro conjunto. Devuelve True si todos los elementos del otro conjunto están presentes en el conjunto actual, de lo contrario devuelve False.\t\n\nSintaxis:\n\n<code>is_superset = set1.issuperset(set2)<code>",
      "metadata": {}
    },
    {
      "cell_type": "code",
      "source": "is_superset = colors.issuperset(fruits)\nis_superset",
      "metadata": {
        "trusted": true
      },
      "outputs": [
        {
          "execution_count": 14,
          "output_type": "execute_result",
          "data": {
            "text/plain": "False"
          },
          "metadata": {}
        }
      ],
      "execution_count": 14
    },
    {
      "cell_type": "markdown",
      "source": "## pop()\t\nEl método `pop()` elimina y devuelve un elemento arbitrario del conjunto. Lanza un `KeyError` si el conjunto está vacío. Utiliza este método para eliminar elementos cuando el orden no importa.\t\n\nSintaxis:\n\n<code>removed_element = set_name.pop()<code> ",
      "metadata": {}
    },
    {
      "cell_type": "code",
      "source": "print(fruits)\nremoved_fruit = fruits.pop()\nprint(fruits)",
      "metadata": {
        "trusted": true
      },
      "outputs": [
        {
          "name": "stdout",
          "text": "{'apple', 'orange', 'banana'}\n{'orange', 'banana'}\n",
          "output_type": "stream"
        }
      ],
      "execution_count": 15
    },
    {
      "cell_type": "markdown",
      "source": "## remove()\t\nUtiliza el método `remove()` para eliminar un elemento específico del conjunto. Lanza un `KeyError` si el elemento no se encuentra.\t\n\nSintaxis:\n\n<code>set_name.remove(element)<code> ",
      "metadata": {}
    },
    {
      "cell_type": "code",
      "source": "print(fruits)\nfruits.remove(\"banana\")\nprint(fruits)",
      "metadata": {
        "trusted": true
      },
      "outputs": [
        {
          "name": "stdout",
          "text": "{'orange', 'banana'}\n{'orange'}\n",
          "output_type": "stream"
        }
      ],
      "execution_count": 16
    },
    {
      "cell_type": "markdown",
      "source": "## Set Operations\t\nRealiza varias operaciones en conjuntos: `union`, `intersection`, `difference`, `symmetric difference`.\t\n\nSintaxis:\n\n<code>union_set = set1.union(set2) \nintersection_set = set1.intersection(set2) \ndifference_set = set1.difference(set2) \nsym_diff_set = set1.symmetric_difference(set2)<code>",
      "metadata": {}
    },
    {
      "cell_type": "code",
      "source": "combined = fruits.union(colors)\nprint(\"union:\",combined)\ncommon = fruits.intersection(colors) \nprint(\"interseccion:\",common)\nunique_to_fruits = fruits.difference(colors) \nprint(\"diferencia:\", unique_to_fruits)\nsym_diff = fruits.symmetric_difference(colors)\nprint(\"diferecia simetrica:\",sym_diff)",
      "metadata": {
        "trusted": true
      },
      "outputs": [
        {
          "name": "stdout",
          "text": "union: {'red', 'orange', 'green'}\ninterseccion: {'orange'}\ndiferencia: set()\ndiferecia simetrica: {'green', 'red'}\n",
          "output_type": "stream"
        }
      ],
      "execution_count": 19
    },
    {
      "cell_type": "markdown",
      "source": "## update()\n\nEl método `update()` agrega elementos de otro iterable al conjunto. Mantiene la unicidad de los elementos.\t\n\nSintaxis:\n\n<code>set_name.update(iterable)<code>",
      "metadata": {}
    },
    {
      "cell_type": "code",
      "source": "print(fruits)\nfruits.update([\"kiwi\", \"grape\"])\nprint(fruits)",
      "metadata": {
        "trusted": true
      },
      "outputs": [
        {
          "name": "stdout",
          "text": "{'orange'}\n{'kiwi', 'grape', 'orange'}\n",
          "output_type": "stream"
        }
      ],
      "execution_count": 20
    },
    {
      "cell_type": "code",
      "source": "",
      "metadata": {
        "trusted": true
      },
      "outputs": [],
      "execution_count": null
    }
  ]
}