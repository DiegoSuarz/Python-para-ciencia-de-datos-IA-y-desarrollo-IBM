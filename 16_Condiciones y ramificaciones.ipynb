{
  "metadata": {
    "kernelspec": {
      "name": "python",
      "display_name": "Python (Pyodide)",
      "language": "python"
    },
    "language_info": {
      "codemirror_mode": {
        "name": "python",
        "version": 3
      },
      "file_extension": ".py",
      "mimetype": "text/x-python",
      "name": "python",
      "nbconvert_exporter": "python",
      "pygments_lexer": "ipython3",
      "version": "3.8"
    }
  },
  "nbformat_minor": 4,
  "nbformat": 4,
  "cells": [
    {
      "cell_type": "markdown",
      "source": "# Condiciones y Ramificación\nTiempo estimado necesario: 10 minutos\n\n## Objetivo:\nEn esta lectura, aprenderás sobre:\n\nOperadores de comparación\nRamificación\nOperadores lógicos",
      "metadata": {}
    },
    {
      "cell_type": "markdown",
      "source": "## 1. Operaciones de comparación\nLas operaciones de comparación son esenciales en la programación. Ayudan a comparar valores y a tomar decisiones basadas en los resultados.\n\n### Operador de igualdad\nEl operador de igualdad == verifica si dos valores son iguales. Por ejemplo, en Python:",
      "metadata": {}
    },
    {
      "cell_type": "code",
      "source": "age = 25\nif age == 25:\n    print(\"You are 25 years old.\")",
      "metadata": {
        "trusted": true
      },
      "outputs": [
        {
          "name": "stdout",
          "text": "You are 25 years old.\n",
          "output_type": "stream"
        }
      ],
      "execution_count": 1
    },
    {
      "cell_type": "markdown",
      "source": "Aquí, el código verifica si la variable age es igual a 25 y imprime un mensaje en consecuencia.",
      "metadata": {}
    },
    {
      "cell_type": "markdown",
      "source": "### Operador de desigualdad\nEl operador de desigualdad != verifica si dos valores no son iguales:",
      "metadata": {}
    },
    {
      "cell_type": "code",
      "source": "if age != 30:\n    print(\"You are not 30 years old.\")",
      "metadata": {
        "trusted": true
      },
      "outputs": [
        {
          "name": "stdout",
          "text": "You are not 30 years old.\n",
          "output_type": "stream"
        }
      ],
      "execution_count": 3
    },
    {
      "cell_type": "markdown",
      "source": "Aquí, el código verifica si la variable age no es igual a 30 y imprime un mensaje en consecuencia.",
      "metadata": {}
    },
    {
      "cell_type": "markdown",
      "source": "### Mayor que y menor que\nTambién puedes comparar si un valor es mayor que otro.",
      "metadata": {}
    },
    {
      "cell_type": "code",
      "source": "if age >= 20:\n    print(\"Yes, the Age is greater than 20\")",
      "metadata": {
        "trusted": true
      },
      "outputs": [
        {
          "name": "stdout",
          "text": "Yes, the Age is greater than 20\n",
          "output_type": "stream"
        }
      ],
      "execution_count": 5
    },
    {
      "cell_type": "markdown",
      "source": "Aquí, el código verifica si la variable age es mayor o igual a 20 y imprime un mensaje en consecuencia.",
      "metadata": {}
    },
    {
      "cell_type": "markdown",
      "source": "## 2. Ramificación\nLa ramificación es como tomar decisiones en tu programa basadas en condiciones. Piensa en ello como elecciones en la vida real.\n\n### La declaración IF\nConsidera un escenario de la vida real al entrar a un bar. Si tienes más de cierta edad, puedes entrar; de lo contrario, no puedes.",
      "metadata": {}
    },
    {
      "cell_type": "code",
      "source": "age = 20\nif age >= 21:\n    print(\"You can enter the bar.\")\nelse:\n    print(\"Sorry, you cannot enter.\")",
      "metadata": {
        "trusted": true
      },
      "outputs": [
        {
          "name": "stdout",
          "text": "Sorry, you cannot enter.\n",
          "output_type": "stream"
        }
      ],
      "execution_count": 6
    },
    {
      "cell_type": "markdown",
      "source": "Aquí, estás utilizando la declaración if para tomar una decisión basada en la variable de edad.",
      "metadata": {}
    },
    {
      "cell_type": "markdown",
      "source": "### La declaración ELIF\nA veces, hay múltiples condiciones que verificar. Por ejemplo, si no tienes la edad suficiente para entrar al bar, puedes ir al cine en su lugar.",
      "metadata": {}
    },
    {
      "cell_type": "code",
      "source": "if age >= 21:\n    print(\"You can enter the bar.\")\nelif age >= 18:\n    print(\"You can watch a movie.\")\nelse:\n    print(\"Sorry, you cannot do either.\")",
      "metadata": {
        "trusted": true
      },
      "outputs": [
        {
          "name": "stdout",
          "text": "You can watch a movie.\n",
          "output_type": "stream"
        }
      ],
      "execution_count": 7
    },
    {
      "cell_type": "markdown",
      "source": "### Ejemplo de la vida real: Cajero Automático (ATM)\nCuando un usuario interactúa con un cajero automático, el software en el cajero puede utilizar ramificaciones para tomar decisiones basadas en la entrada del usuario. Por ejemplo, si el usuario selecciona “Retirar Efectivo”, el cajero puede ramificarse en diferentes denominaciones de billetes para dispensar según la cantidad solicitada.",
      "metadata": {}
    },
    {
      "cell_type": "code",
      "source": "user_choice = \"Withdraw Cash\"\nif user_choice == \"Withdraw Cash\":\n    amount = int(input(\"Enter the amount to withdraw: \"))\n    if amount % 10 == 0:\n        print(\"Amount dispensed: \", amount)\n    else:\n        print(\"Please enter a multiple of 10.\")\nelse:\n    print(\"Thank you for using the ATM.\")",
      "metadata": {
        "trusted": true,
        "collapsed": true,
        "jupyter": {
          "outputs_hidden": true
        },
        "scrolled": true
      },
      "outputs": [
        {
          "ename": "<class 'TypeError'>",
          "evalue": "int() argument must be a string, a bytes-like object or a real number, not 'PyodideFuture'",
          "traceback": [
            "\u001b[0;31m---------------------------------------------------------------------------\u001b[0m",
            "\u001b[0;31mTypeError\u001b[0m                                 Traceback (most recent call last)",
            "Cell \u001b[0;32mIn[8], line 3\u001b[0m\n\u001b[1;32m      1\u001b[0m user_choice \u001b[38;5;241m=\u001b[39m \u001b[38;5;124m\"\u001b[39m\u001b[38;5;124mWithdraw Cash\u001b[39m\u001b[38;5;124m\"\u001b[39m\n\u001b[1;32m      2\u001b[0m \u001b[38;5;28;01mif\u001b[39;00m user_choice \u001b[38;5;241m==\u001b[39m \u001b[38;5;124m\"\u001b[39m\u001b[38;5;124mWithdraw Cash\u001b[39m\u001b[38;5;124m\"\u001b[39m:\n\u001b[0;32m----> 3\u001b[0m     amount \u001b[38;5;241m=\u001b[39m \u001b[38;5;28;43mint\u001b[39;49m\u001b[43m(\u001b[49m\u001b[38;5;28;43minput\u001b[39;49m\u001b[43m(\u001b[49m\u001b[38;5;124;43m\"\u001b[39;49m\u001b[38;5;124;43mEnter the amount to withdraw: \u001b[39;49m\u001b[38;5;124;43m\"\u001b[39;49m\u001b[43m)\u001b[49m\u001b[43m)\u001b[49m\n\u001b[1;32m      4\u001b[0m     \u001b[38;5;28;01mif\u001b[39;00m amount \u001b[38;5;241m%\u001b[39m \u001b[38;5;241m10\u001b[39m \u001b[38;5;241m==\u001b[39m \u001b[38;5;241m0\u001b[39m:\n\u001b[1;32m      5\u001b[0m         \u001b[38;5;28mprint\u001b[39m(\u001b[38;5;124m\"\u001b[39m\u001b[38;5;124mAmount dispensed: \u001b[39m\u001b[38;5;124m\"\u001b[39m, amount)\n",
            "\u001b[0;31mTypeError\u001b[0m: int() argument must be a string, a bytes-like object or a real number, not 'PyodideFuture'"
          ],
          "output_type": "error"
        },
        {
          "output_type": "stream",
          "name": "stdin",
          "text": "Enter the amount to withdraw:  3\n"
        }
      ],
      "execution_count": 8
    },
    {
      "cell_type": "markdown",
      "source": "## 3. Operadores lógicos\nLos operadores lógicos ayudan a combinar y manipular condiciones.\n\n### El operador NOT\nEjemplo de la vida real: Configuración de notificaciones\nEn la configuración de notificaciones de un smartphone, puedes usar el operador NOT para controlar cuándo enviar notificaciones. Por ejemplo, solo podrías querer recibir notificaciones cuando tu teléfono no esté en modo “No molestar”.\n\nEl operador not niega una condición.",
      "metadata": {}
    },
    {
      "cell_type": "code",
      "source": "is_do_not_disturb = True\nif not is_do_not_disturb:\n    send_notification(\"New message received\")",
      "metadata": {
        "trusted": true
      },
      "outputs": [],
      "execution_count": 10
    },
    {
      "cell_type": "markdown",
      "source": "### El operador AND\nEjemplo de la vida real: Control de acceso\nEn una instalación segura, puedes usar el operador AND para verificar múltiples condiciones para el acceso. Para abrir una puerta de alta seguridad, una persona podría necesitar tanto una tarjeta de identificación válida como una huella dactilar coincidente.\n\nEl operador AND verifica si todas las condiciones requeridas son verdaderas, como necesitar ambas llaves para abrir una caja fuerte.",
      "metadata": {}
    },
    {
      "cell_type": "code",
      "source": "has_valid_id_card = True\nhas_matching_fingerprint = True\nif has_valid_id_card and has_matching_fingerprint:\n    open_high_security_door()",
      "metadata": {
        "trusted": true,
        "collapsed": true,
        "jupyter": {
          "outputs_hidden": true
        }
      },
      "outputs": [
        {
          "ename": "<class 'NameError'>",
          "evalue": "name 'open_high_security_door' is not defined",
          "traceback": [
            "\u001b[0;31m---------------------------------------------------------------------------\u001b[0m",
            "\u001b[0;31mNameError\u001b[0m                                 Traceback (most recent call last)",
            "Cell \u001b[0;32mIn[11], line 4\u001b[0m\n\u001b[1;32m      2\u001b[0m has_matching_fingerprint \u001b[38;5;241m=\u001b[39m \u001b[38;5;28;01mTrue\u001b[39;00m\n\u001b[1;32m      3\u001b[0m \u001b[38;5;28;01mif\u001b[39;00m has_valid_id_card \u001b[38;5;129;01mand\u001b[39;00m has_matching_fingerprint:\n\u001b[0;32m----> 4\u001b[0m     \u001b[43mopen_high_security_door\u001b[49m()\n",
            "\u001b[0;31mNameError\u001b[0m: name 'open_high_security_door' is not defined"
          ],
          "output_type": "error"
        }
      ],
      "execution_count": 11
    },
    {
      "cell_type": "markdown",
      "source": "### El operador OR\nEjemplo de la vida real: Decisión sobre la noche de películas\nAl planear una noche de películas con amigos, puedes usar el operador OR para decidir un género de película. Elegirás una película si al menos una persona está interesada.\n\nEl operador OR verifica si al menos una condición es verdadera. Es como elegir entre diferentes películas para ver.",
      "metadata": {}
    },
    {
      "cell_type": "code",
      "source": "friend1_likes_comedy = True\nfriend2_likes_action = False\nfriend3_likes_drama = False\nif friend1_likes_comedy or friend2_likes_action or friend3_likes_drama:\n    choose a movie()",
      "metadata": {
        "trusted": true
      },
      "outputs": [
        {
          "ename": "<class 'SyntaxError'>",
          "evalue": "invalid syntax (<ipython-input-12-0247466f9907>, line 5)",
          "traceback": [
            "\u001b[0;36m  Cell \u001b[0;32mIn[12], line 5\u001b[0;36m\u001b[0m\n\u001b[0;31m    choose a movie()\u001b[0m\n\u001b[0m           ^\u001b[0m\n\u001b[0;31mSyntaxError\u001b[0m\u001b[0;31m:\u001b[0m invalid syntax\n"
          ],
          "output_type": "error"
        }
      ],
      "execution_count": 12
    },
    {
      "cell_type": "markdown",
      "source": "## Resumen\nEn esta lectura, te adentraste en el operador más utilizado y el concepto de bifurcación condicional, que abarca la utilización de declaraciones if y declaraciones if-else.",
      "metadata": {}
    },
    {
      "cell_type": "code",
      "source": "",
      "metadata": {
        "trusted": true
      },
      "outputs": [],
      "execution_count": null
    }
  ]
}