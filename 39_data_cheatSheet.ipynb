{
  "metadata": {
    "kernelspec": {
      "name": "python",
      "display_name": "Python (Pyodide)",
      "language": "python"
    },
    "language_info": {
      "codemirror_mode": {
        "name": "python",
        "version": 3
      },
      "file_extension": ".py",
      "mimetype": "text/x-python",
      "name": "python",
      "nbconvert_exporter": "python",
      "pygments_lexer": "ipython3",
      "version": "3.8"
    }
  },
  "nbformat_minor": 4,
  "nbformat": 4,
  "cells": [
    {
      "cell_type": "markdown",
      "source": "# Trabajando con Datos en Python Cheat Sheet\n\n## Lectura y escritura de archivos",
      "metadata": {}
    },
    {
      "cell_type": "markdown",
      "source": "### Modos de apertura de archivos\t\nDiferentes modos para abrir archivos para operaciones específicas.\tSintaxis: r (lectura) w (escritura) a (agregar) + (actualización: lectura/escritura) b (binario, de lo contrario texto)",
      "metadata": {}
    },
    {
      "cell_type": "code",
      "source": "with open(\"data.txt\", \"r\") as file: \n    content = file.read() \n    print(content) \n    with open(\"output.txt\", \"w\") as file: \n        file.write(\"¡Hola, mundo!\")\n        with open(\"log.txt\", \"a\") as file: \n            file.write(\"Entrada de log: Algo sucedió.\") \n            with open(\"data.txt\", \"r+\") as file: \n                content = file.read() \n                file.write(\"Contenido actualizado: \" + content)",
      "metadata": {
        "trusted": true
      },
      "outputs": [],
      "execution_count": null
    },
    {
      "cell_type": "markdown",
      "source": "## Métodos de lectura de archivos\t\nDiferentes métodos para leer el contenido de un archivo de varias maneras.\t\n\nSintaxis:\n```python\nfile.readlines() # lee todas las líneas como una lista\nreadline() # lee la siguiente línea como una cadena\nfile.read() # lee todo el contenido del archivo como una cadena",
      "metadata": {}
    },
    {
      "cell_type": "code",
      "source": "with open(\"data.txt\", \"r\") as file:\n    lines = file.readlines()\n    next_line = file.readline()\n    content = file.read()",
      "metadata": {
        "trusted": true
      },
      "outputs": [],
      "execution_count": null
    },
    {
      "cell_type": "markdown",
      "source": "## Métodos de escritura de archivos\t\nDiferentes métodos de escritura para escribir contenido en un archivo.\t\nSintaxis:\n```python\nfile.write(content) # escribe una cadena en el archivo\nfile.writelines(lines) # escribe una lista de cadenas en el archivo\n```\nEjemplo:",
      "metadata": {}
    },
    {
      "cell_type": "code",
      "source": "lines = [\"Hola\\n\", \"Mundo\\n\"]\nwith open(\"output.txt\", \"w\") as file:\n    file.writelines(lines)",
      "metadata": {
        "trusted": true
      },
      "outputs": [],
      "execution_count": 5
    },
    {
      "cell_type": "markdown",
      "source": "## Iterando sobre líneas\t\nItera a través de cada línea en el archivo usando un `bucle`.\t\nSintaxis:\n```python\nfor line in file: # Código para procesar cada línea\n```\nEjemplo:",
      "metadata": {}
    },
    {
      "cell_type": "code",
      "source": "with open(\"data.txt\", \"r\") as file:\n    for line in file: print(line)",
      "metadata": {
        "trusted": true
      },
      "outputs": [],
      "execution_count": null
    },
    {
      "cell_type": "markdown",
      "source": "## Open() y close()\t\nAbrir un archivo, realizar operaciones y cerrar explícitamente el archivo usando el método close().\t\nSintaxis:\n```python\nfile = open(filename, mode) # Código que usa el archivo\nfile.close()\n```\nEjemplo:",
      "metadata": {}
    },
    {
      "cell_type": "code",
      "source": "file = open(\"data.txt\", \"r\")\ncontent = file.read()\nfile.close()",
      "metadata": {
        "trusted": true
      },
      "outputs": [],
      "execution_count": null
    },
    {
      "cell_type": "markdown",
      "source": "## with open()\t\nAbrir un archivo usando un bloque with, asegurando el cierre automático del archivo después de su uso.\nSintaxis:\n```python\nwith open(filename, mode) as file: # Código que usa el archivo\n```\nEjemplo:",
      "metadata": {}
    },
    {
      "cell_type": "code",
      "source": "with open(\"data.txt\", \"r\") as file:\ncontent = file.read()",
      "metadata": {
        "trusted": true
      },
      "outputs": [],
      "execution_count": null
    },
    {
      "cell_type": "markdown",
      "source": "# Pandas",
      "metadata": {}
    },
    {
      "cell_type": "markdown",
      "source": "## .read_csv()\t\nLee datos de un archivo `.CSV` y crea un DataFrame.\t\nSintaxis: \n```python\ndataframe_name = pd.read_csv(\"filename.csv\") Ejemplo: df = pd.read_csv(\"data.csv\")\n```",
      "metadata": {}
    },
    {
      "cell_type": "markdown",
      "source": "## .read_excel()\t\nLee datos de un archivo de Excel y crea un DataFrame.\t\nSintaxis:\n```python\ndataframe_name = pd.read_excel(\"filename.xlsx\")\n```\nEjemplo:\n```python\ndf = pd.read_excel(\"data.xlsx\")\n```",
      "metadata": {}
    },
    {
      "cell_type": "markdown",
      "source": "## .to_csv()\t\nEscribe el DataFrame en un archivo CSV.\t\nSintaxis:\n```python\ndataframe_name.to_csv(\"output.csv\", index=False)\n```\nEjemplo:\n\n```python\ndf.to_csv(\"output.csv\", index=False)\n```",
      "metadata": {}
    },
    {
      "cell_type": "markdown",
      "source": "## Acceder a Columnas\t\nAccede a una columna específica usando [] en el DataFrame.\t\nSintaxis:\n```python\ndataframe_name[\"column_name\"] # Accede a una sola columna\ndataframe_name[[\"column1\", \"column2\"]] # Accede a múltiples columnas\n```\nEjemplo:\n```python\ndf[\"edad\"]\ndf[[\"nombre\", \"edad\"]]\n```",
      "metadata": {}
    },
    {
      "cell_type": "markdown",
      "source": "## describe()\t\nGenera un resumen estadístico de las columnas numéricas en el DataFrame.\t\nSintaxis:\n```python\ndataframe_name.describe()\n```\nEjemplo:\n\n```python\ndf.describe()\n```\n## drop()\t\nElimina filas o columnas específicas del DataFrame. axis=1 indica columnas. axis=0 indica filas.\t\nSintaxis:\n```python\ndataframe_name.drop([\"column1\", \"column2\"], axis=1, inplace=True)\ndataframe_name.drop(index=[row1, row2], axis=0, inplace=True)\n```\nEjemplo:\n```python\ndf.drop([\"edad\", \"salario\"], axis=1, inplace=True) # Eliminará columnas\ndf.drop(index=[5, 10], axis=0, inplace=True) # Eliminará filas\n```\n## dropna()\t\nElimina filas con valores NaN faltantes del DataFrame. axis=0 indica filas.\nSintaxis:\n```python\ndataframe_name.dropna(axis=0, inplace=True)\n```\nEjemplo:\n\n```python\ndf.dropna(axis=0, inplace=True)\n```\n\n## duplicated()\t\nValores o registros duplicados o repetitivos dentro de un conjunto de datos.\t\nSintaxis:\n```python\ndataframe_name.duplicated()\n```\nEjemplo:\n\n```python\nduplicate_rows = df[df.duplicated()]\n```\n## Filtrar Filas\t\nCrea un nuevo DataFrame con filas que cumplen condiciones específicas.\t\nSintaxis:\n```python\nfiltered_df = dataframe_name[(Condiciones)]\n```\nEjemplo:\n\n```python\nfiltered_df = df[(df[\"edad\"] > 30) & (df[\"salario\"] < 50000)\n```\n## groupby()\t\nDivide un DataFrame en grupos según criterios específicos, permitiendo la agregación, transformación o análisis posterior dentro de cada grupo.\t\nSintaxis:\n```python\ngrouped = dataframe_name.groupby(by, axis=0, level=None, as_index=True,\nsort=True, group_keys=True, squeeze=False, observed=False, dropna=True)\n```\nEjemplo:\n\n```python\ngrouped = df.groupby([\"categoría\", \"región\"]).agg({\"ventas\": \"suma\"})\n```\n## head()\t\nMuestra las primeras n filas del DataFrame.\t\nSintaxis:\n```python\ndataframe_name.head(n)\n```\nEjemplo:\n\n```python\ndf.head(5)\n```\n## Importar pandas\nImporta la biblioteca Pandas con el alias pd.\t\nSintaxis:\n```python\nimport pandas as pd\n```\nEjemplo:\n\n```python\nimport pandas as pd\n```\n## info()\t\nProporciona información sobre el DataFrame, incluidos los tipos de datos y el uso de memoria.\tSintaxis:\n```python\ndataframe_name.info()\n```\nEjemplo:\n\n```python\ndf.info()\n```\n## merge()\t\nCombina dos DataFrames basándose en múltiples columnas comunes.\t\nSintaxis:\n```python\nmerged_df = pd.merge(df1, df2, on=[\"column1\", \"column2\"])\n```\nEjemplo:\n\n```python\nmerged_df = pd.merge(ventas, productos, on=[\"product_id\", \"category_id\"])\n```\n## imprimir DataFrame\t\nMuestra el contenido del DataFrame.\t\nSintaxis:\n```python\nprint(df) # o simplemente escribe df\n```\nEjemplo:\n```python\nprint(df)\ndf\n```\n## replace()\t\nReemplaza valores específicos en una columna por nuevos valores.\t\nSintaxis:\n```python\ndataframe_name[\"column_name\"].replace(old_value, new_value, inplace=True)\n```\nEjemplo:\n\n```python\ndf[\"estado\"].replace(\"En Progreso\", \"Activo\", inplace=True)\n```\n\n## tail()\t\nMuestra las últimas n filas del DataFrame.\t\nSintaxis:\n```python\ndataframe_name.tail(n)\n```\nEjemplo:\n\n```python\ndf.tail(5)\n```",
      "metadata": {}
    },
    {
      "cell_type": "markdown",
      "source": "# Numpy\n\n## Importar NumPy\t\nImporta la biblioteca NumPy.\t\nSintaxis:\n```python\nimport numpy as np\n```\nEjemplo:\n\n```python\nimport numpy as np\n```\n\n## np.array()\t\nCrea un array unidimensional o multidimensional,\t\nSintaxis:\n```python\narray_1d = np.array([valores de lista1]) # Array 1D\narray_2d = np.array([[valores de lista1], [valores de lista2]]) # Array 2D\n```\nEjemplo:\n```python\narray_1d = np.array([1, 2, 3]) # Array 1D\narray_2d = np.array([[1, 2], [3, 4]]) # Array 2D\n```\n## Atributos de Array de Numpy\t\n- Calcula la media de los elementos del array\n- Calcula la suma de los elementos del array\n- Encuentra el valor mínimo en el array\n- Encuentra el valor máximo en el array\n- Calcula el producto punto de dos arrays\n- Ejemplo:\n```python\nnp.mean(array)\nnp.sum(array)\nnp.min(array)\nnp.max(array)\nnp.dot(array_1, array_2)\n```",
      "metadata": {}
    },
    {
      "cell_type": "code",
      "source": "",
      "metadata": {
        "trusted": true
      },
      "outputs": [],
      "execution_count": null
    }
  ]
}