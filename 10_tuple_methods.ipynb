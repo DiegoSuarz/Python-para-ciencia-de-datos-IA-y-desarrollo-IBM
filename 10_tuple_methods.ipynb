{
  "metadata": {
    "kernelspec": {
      "name": "python",
      "display_name": "Python (Pyodide)",
      "language": "python"
    },
    "language_info": {
      "codemirror_mode": {
        "name": "python",
        "version": 3
      },
      "file_extension": ".py",
      "mimetype": "text/x-python",
      "name": "python",
      "nbconvert_exporter": "python",
      "pygments_lexer": "ipython3",
      "version": "3.8"
    }
  },
  "nbformat_minor": 4,
  "nbformat": 4,
  "cells": [
    {
      "cell_type": "markdown",
      "source": "# count()\t\nEl método count() para una tupla se utiliza para contar cuántas veces aparece un elemento específico en la tupla.\n\nSintaxis:\n<code>tuple.count(value)<code>",
      "metadata": {}
    },
    {
      "cell_type": "code",
      "source": "fruits = (\"manzana\", \"plátano\", \"manzana\", \"naranja\")\nprint(fruits.count(\"manzana\")) #Cuenta cuántas veces se encuentra manzana en la tupla.\n#Salida: 2",
      "metadata": {
        "trusted": true
      },
      "outputs": [
        {
          "name": "stdout",
          "text": "2\n",
          "output_type": "stream"
        }
      ],
      "execution_count": 1
    },
    {
      "cell_type": "markdown",
      "source": "# index()\t\nEl método index() en una tupla se utiliza para encontrar la primera ocurrencia de un valor especificado y devuelve su posición (índice). Si el valor no se encuentra, genera un ValueError.\n\nSintaxis:\n\n<code>tuple.index(value)<code>",
      "metadata": {}
    },
    {
      "cell_type": "code",
      "source": "fruits = (\"manzana\", \"plátano\", \"naranja\",\"manzana\")\nprint(fruits.index(\"manzana\")) #Devuelve el valor del índice en el que se encuentra manzana.\n#Salida: 0",
      "metadata": {
        "trusted": true
      },
      "outputs": [
        {
          "name": "stdout",
          "text": "0\n",
          "output_type": "stream"
        }
      ],
      "execution_count": 2
    },
    {
      "cell_type": "markdown",
      "source": "# sum()\t\nLa función sum() en Python se puede utilizar para calcular la suma de todos los elementos en una tupla, siempre que los elementos sean numéricos (enteros o flotantes).\n\nSintaxis:\n<code>sum(tuple)<code> ",
      "metadata": {}
    },
    {
      "cell_type": "code",
      "source": "numbers = (10, 20, 5, 30)\nprint(sum(numbers))\n#Salida: 65",
      "metadata": {
        "trusted": true
      },
      "outputs": [
        {
          "name": "stdout",
          "text": "65\n",
          "output_type": "stream"
        }
      ],
      "execution_count": 3
    },
    {
      "cell_type": "markdown",
      "source": "# min() y max()\t\nEncuentra el elemento más pequeño (min()) o el más grande (max()) en una tupla.",
      "metadata": {}
    },
    {
      "cell_type": "code",
      "source": "numbers = (10, 20, 5, 30)\nprint(min(numbers))  \n#Salida: 5\nprint(max(numbers))\n#Salida: 30",
      "metadata": {
        "trusted": true
      },
      "outputs": [
        {
          "name": "stdout",
          "text": "5\n30\n",
          "output_type": "stream"
        }
      ],
      "execution_count": 4
    },
    {
      "cell_type": "markdown",
      "source": "# len()\t\nObtén el número de elementos en la tupla usando len().\t\n\nSintaxis:\n\n<code>len(tuple)<code>",
      "metadata": {}
    },
    {
      "cell_type": "code",
      "source": "fruits = (\"manzana\", \"plátano\", \"naranja\")\nprint(len(fruits)) #Devuelve la longitud de la tupla.\n#Salida: 3",
      "metadata": {
        "trusted": true
      },
      "outputs": [
        {
          "name": "stdout",
          "text": "3\n",
          "output_type": "stream"
        }
      ],
      "execution_count": 5
    },
    {
      "cell_type": "code",
      "source": "",
      "metadata": {
        "trusted": true
      },
      "outputs": [],
      "execution_count": null
    }
  ]
}