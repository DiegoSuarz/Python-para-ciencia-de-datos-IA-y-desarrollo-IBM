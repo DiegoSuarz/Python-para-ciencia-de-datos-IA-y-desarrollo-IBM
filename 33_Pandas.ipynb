{
 "cells": [
  {
   "cell_type": "markdown",
   "id": "18feef48-b477-4c68-b445-f379ec11ad07",
   "metadata": {},
   "source": [
    "# Introducción a Pandas para Análisis de Datos\n",
    "\n",
    "## Objetivo:\n",
    "1. Aprender qué son las Series de Pandas y cómo crearlas.\n",
    "2. Entender cómo acceder y manipular datos dentro de una Serie.\n",
    "3. Descubrir los fundamentos de la creación y el trabajo con DataFrames de Pandas.\n",
    "4. Aprender cómo acceder, modificar y analizar datos en DataFrames.\n",
    "5. Obtener información sobre los atributos y métodos comunes de DataFrame.\n",
    "\n",
    "##¿Qué es Pandas?\n",
    "Pandas es una popular biblioteca de manipulación y análisis de datos de código abierto para el lenguaje de programación Python. Proporciona un conjunto poderoso y flexible de herramientas para trabajar con datos estructurados, lo que la convierte en una herramienta fundamental para científicos de datos, analistas e ingenieros.\n",
    "Pandas está diseñado para manejar datos en varios formatos, como datos tabulares, series temporales y más, lo que lo convierte en una parte esencial del flujo de trabajo de procesamiento de datos en muchas industrias.\n",
    "\n",
    "Aquí hay algunas características y funcionalidades clave de Pandas:\n",
    "\n",
    "**Estructuras de Datos**: Pandas ofrece dos estructuras de datos principales: DataFrame y Series.\n",
    "\n",
    "1. Un DataFrame es una estructura de datos tabular bidimensional, de tamaño mutable y potencialmente heterogénea, con ejes etiquetados (filas y columnas).\n",
    "2. Una Series es un arreglo unidimensional etiquetado, esencialmente una sola columna o fila de datos.\n",
    "   \n",
    "**Importación y Exportación de Datos**: Pandas facilita la lectura de datos desde varias fuentes, incluidos archivos CSV, hojas de cálculo de Excel, bases de datos SQL y más. También puede exportar datos a estos formatos, lo que permite un intercambio de datos sin problemas.\n",
    "\n",
    "**Fusión y Unión de Datos**: Puede combinar múltiples DataFrames utilizando métodos como merge y join, similares a las operaciones SQL, para crear conjuntos de datos más complejos a partir de diferentes fuentes.\n",
    "\n",
    "**Indexación Eficiente**: Pandas proporciona métodos de indexación y selección eficientes, lo que le permite acceder rápidamente a filas y columnas específicas de datos.\n",
    "\n",
    "**Estructuras de Datos Personalizadas**: Puede crear estructuras de datos personalizadas y manipular datos de maneras que se adapten a sus necesidades específicas, ampliando las capacidades de Pandas.\n",
    "\n",
    "## Importando Pandas:\n",
    "Importa Pandas usando el comando import, seguido del nombre de la biblioteca. Comúnmente, Pandas se importa como pd para mayor brevedad en el código.\n",
    "\n",
    "```python\n",
    "import pandas as pd\n",
    "```\n",
    "## Carga de Datos:\n",
    "Pandas se puede usar para cargar datos desde diversas fuentes, como archivos CSV y Excel.\n",
    "La función read_csv se utiliza para cargar datos desde un archivo CSV en un DataFrame de Pandas.\n",
    "Para leer un archivo CSV (Valores Separados por Comas) en Python utilizando la biblioteca Pandas, puedes usar la función pd.read_csv(). Aquí está la sintaxis para leer un archivo CSV:\n",
    "```python\n",
    "import pandas as pd\n",
    "# Read the CSV file into a DataFrame\n",
    "df = pd.read_csv('your_file.csv')\n",
    "```\n",
    "Reemplace 'your_file.csv' con la ruta real de su archivo CSV. Asegúrese de que el archivo esté ubicado en el mismo directorio que su script de Python, o proporcione la ruta de archivo correcta.\n",
    "\n",
    "## ¿Qué es una Serie?\n",
    "Una Serie es un arreglo unidimensional etiquetado en Pandas. Se puede pensar como una única columna de datos con etiquetas o índices para cada elemento. Puedes crear una Serie a partir de diversas fuentes de datos, como listas, arreglos de NumPy o diccionarios.\n",
    "Aquí hay un ejemplo básico de cómo crear una Serie en Pandas:"
   ]
  },
  {
   "cell_type": "code",
   "execution_count": 5,
   "id": "e3198a7c-473d-417d-ae79-2f40fb4fb5a6",
   "metadata": {},
   "outputs": [
    {
     "name": "stdout",
     "output_type": "stream",
     "text": [
      "0    10\n",
      "1    20\n",
      "2    30\n",
      "3    40\n",
      "4    50\n",
      "dtype: int64\n"
     ]
    }
   ],
   "source": [
    "import pandas as pd\n",
    "# Create a Series from a list\n",
    "data = [10, 20, 30, 40, 50]\n",
    "s = pd.Series(data)\n",
    "print(s)"
   ]
  },
  {
   "cell_type": "markdown",
   "id": "2007a602-b397-4080-b54d-5a846cf6c7ac",
   "metadata": {},
   "source": [
    "En este ejemplo, hemos creado una Serie llamada s con datos numéricos. Observa que Pandas asignó automáticamente índices numéricos (0, 1, 2, 3, 4) a cada elemento, pero también puedes especificar etiquetas personalizadas si es necesario.\n",
    "\n",
    "## Accediendo a Elementos en una Serie\n",
    "Puedes acceder a elementos en una Serie utilizando las etiquetas de índice o posiciones enteras. Aquí hay algunos métodos comunes para acceder a los datos de la Serie:\n",
    "### Accediendo por etiqueta"
   ]
  },
  {
   "cell_type": "code",
   "execution_count": 17,
   "id": "c2c1f8d4-702a-49f6-8302-a7981cc9ec25",
   "metadata": {},
   "outputs": [
    {
     "name": "stdout",
     "output_type": "stream",
     "text": [
      "30\n"
     ]
    }
   ],
   "source": [
    "print(s[2])     # Access the element with label 2 (value 30)"
   ]
  },
  {
   "cell_type": "markdown",
   "id": "9c7034bb-b0f5-4503-ae9c-ea275085961b",
   "metadata": {},
   "source": [
    "### Accediendo por posición"
   ]
  },
  {
   "cell_type": "code",
   "execution_count": 18,
   "id": "a869db58-4ab8-4489-88eb-97054346624c",
   "metadata": {},
   "outputs": [
    {
     "name": "stdout",
     "output_type": "stream",
     "text": [
      "40\n"
     ]
    }
   ],
   "source": [
    "print(s.iloc[3]) # Access the element at position 3 (value 40)"
   ]
  },
  {
   "cell_type": "markdown",
   "id": "b8ed4d02-74b2-49eb-8b6c-a5e90cec6ea2",
   "metadata": {},
   "source": [
    "### Accediendo a múltiples elementos"
   ]
  },
  {
   "cell_type": "code",
   "execution_count": 19,
   "id": "38fb5ede-55dc-45c0-b043-6c0d3a0df2e6",
   "metadata": {},
   "outputs": [
    {
     "name": "stdout",
     "output_type": "stream",
     "text": [
      "1    20\n",
      "2    30\n",
      "3    40\n",
      "dtype: int64\n"
     ]
    }
   ],
   "source": [
    "print(s[1:4])   # Access a range of elements by label"
   ]
  },
  {
   "cell_type": "markdown",
   "id": "e04e332b-ed7e-4040-9007-c37e963d8934",
   "metadata": {},
   "source": [
    "## Atributos y Métodos de Series\n",
    "Las Series de Pandas vienen con varios atributos y métodos para ayudarte a manipular y analizar datos de manera efectiva. Aquí hay algunos esenciales:\n",
    "\n",
    "- values: Devuelve los datos de la Serie como un array de NumPy.\n",
    "- index: Devuelve el índice (etiquetas) de la Serie.\n",
    "- shape: Devuelve una tupla que representa las dimensiones de la Serie.\n",
    "- size: Devuelve el número de elementos en la Serie.\n",
    "- mean(), sum(), min(), max(): Calculan estadísticas resumidas de los datos.\n",
    "- unique(), nunique(): Obtiene valores únicos o el número de valores únicos.\n",
    "- sort_values(), sort_index(): Ordena la Serie por valores o etiquetas de índice.\n",
    "- isnull(), notnull(): Verifica si hay valores faltantes (NaN) o no faltantes.\n",
    "- apply(): Aplica una función personalizada a cada elemento de la Serie.\n",
    "  \n",
    "## ¿Qué es un DataFrame?\n",
    "Un DataFrame es una estructura de datos etiquetada bidimensional con columnas de diferentes tipos de datos potenciales. Piénsalo como una tabla donde cada columna representa una variable y cada fila representa una observación o punto de datos. Los DataFrames son adecuados para una amplia gama de datos, incluyendo datos estructurados de archivos CSV, hojas de cálculo de Excel, bases de datos SQL y más.\n",
    "\n",
    "### Creando DataFrames a partir de diccionarios:\n",
    "Los DataFrames se pueden crear a partir de diccionarios, con las claves como etiquetas de columna y los valores como listas que representan filas."
   ]
  },
  {
   "cell_type": "code",
   "execution_count": 4,
   "id": "15db0147-b59e-4a04-9cf0-a758b12559f5",
   "metadata": {},
   "outputs": [
    {
     "name": "stdout",
     "output_type": "stream",
     "text": [
      "      Name  Age           City\n",
      "0    Alice   25       New York\n",
      "1      Bob   30  San Francisco\n",
      "2  Charlie   35    Los Angeles\n",
      "3    David   28        Chicago\n"
     ]
    }
   ],
   "source": [
    "#!pip install pandas\n",
    "import pandas as pd\n",
    "# Creating a DataFrame from a dictionary\n",
    "data = {'Name': ['Alice', 'Bob', 'Charlie', 'David'],\n",
    "        'Age': [25, 30, 35, 28],\n",
    "        'City': ['New York', 'San Francisco', 'Los Angeles', 'Chicago']}\n",
    "df = pd.DataFrame(data)\n",
    "print(df)"
   ]
  },
  {
   "cell_type": "markdown",
   "id": "b4a603a0-f904-4a40-9531-c1773f087437",
   "metadata": {},
   "source": [
    "### Selección de Columnas:\n",
    "Puedes seleccionar una sola columna de un DataFrame especificando el nombre de la columna dentro de dobles corchetes.\n",
    "Se pueden seleccionar múltiples columnas de manera similar, creando un nuevo DataFrame."
   ]
  },
  {
   "cell_type": "code",
   "execution_count": 6,
   "id": "defd9a16-6232-48d2-97c8-70c7a96eeccb",
   "metadata": {},
   "outputs": [
    {
     "name": "stdout",
     "output_type": "stream",
     "text": [
      "0      Alice\n",
      "1        Bob\n",
      "2    Charlie\n",
      "3      David\n",
      "Name: Name, dtype: object\n"
     ]
    }
   ],
   "source": [
    "print(df['Name'])  # Access the 'Name' column"
   ]
  },
  {
   "cell_type": "markdown",
   "id": "b6a92824-b256-486c-aa33-362a5f025fb9",
   "metadata": {},
   "source": [
    "### Accediendo a Filas:\n",
    "Puedes acceder a las filas por su índice usando .iloc[] o por etiqueta usando .loc[]."
   ]
  },
  {
   "cell_type": "code",
   "execution_count": 8,
   "id": "87e6b658-c999-4eb6-93b9-a685f7adf92a",
   "metadata": {},
   "outputs": [
    {
     "name": "stdout",
     "output_type": "stream",
     "text": [
      "Name        Charlie\n",
      "Age              35\n",
      "City    Los Angeles\n",
      "Name: 2, dtype: object\n",
      "Name              Bob\n",
      "Age                30\n",
      "City    San Francisco\n",
      "Name: 1, dtype: object\n",
      "Name       Alice\n",
      "Age           25\n",
      "City    New York\n",
      "Name: 0, dtype: object\n"
     ]
    }
   ],
   "source": [
    "print(df.iloc[2])   # Access the third row by position\n",
    "print(df.loc[1])    # Access the second row by label\n",
    "print(df.loc[0])    # Access the first row"
   ]
  },
  {
   "cell_type": "markdown",
   "id": "5c19ea53-444d-4709-b8ec-3df962c94af8",
   "metadata": {},
   "source": [
    "### Slicing:\n",
    "Puedes cortar DataFrames para seleccionar filas y columnas específicas."
   ]
  },
  {
   "cell_type": "code",
   "execution_count": 9,
   "id": "989231fc-f260-4409-aa75-02e72fbe5169",
   "metadata": {},
   "outputs": [
    {
     "name": "stdout",
     "output_type": "stream",
     "text": [
      "      Name  Age\n",
      "0    Alice   25\n",
      "1      Bob   30\n",
      "2  Charlie   35\n",
      "3    David   28\n",
      "      Name  Age           City\n",
      "1      Bob   30  San Francisco\n",
      "2  Charlie   35    Los Angeles\n"
     ]
    }
   ],
   "source": [
    "print(df[['Name', 'Age']])  # Select specific columns\n",
    "print(df[1:3])             # Select specific rows"
   ]
  },
  {
   "cell_type": "markdown",
   "id": "cd792edb-a1da-490d-ba37-5a55baf89282",
   "metadata": {},
   "source": [
    "### Encontrar Elementos Únicos:\n",
    "Utiliza el método unique para determinar los elementos únicos en una columna de un DataFrame."
   ]
  },
  {
   "cell_type": "code",
   "execution_count": 13,
   "id": "8fd14211-b550-49d4-9224-22a9d87e5e5c",
   "metadata": {},
   "outputs": [
    {
     "data": {
      "text/plain": [
       "array([25, 30, 35, 28])"
      ]
     },
     "execution_count": 13,
     "metadata": {},
     "output_type": "execute_result"
    }
   ],
   "source": [
    "unique_dates = df['Age'].unique()\n",
    "unique_dates"
   ]
  },
  {
   "cell_type": "markdown",
   "id": "cd29fa4c-083d-4418-9a65-35f2097a74c6",
   "metadata": {},
   "source": [
    "### Filtrado Condicional:\n",
    "Puedes filtrar datos en un DataFrame basándote en condiciones utilizando operadores de desigualdad. Por ejemplo, puedes filtrar álbumes lanzados después de un cierto año."
   ]
  },
  {
   "cell_type": "code",
   "execution_count": 15,
   "id": "81728970-b112-46f7-830d-66776f72ba00",
   "metadata": {},
   "outputs": [
    {
     "data": {
      "text/html": [
       "<div>\n",
       "<style scoped>\n",
       "    .dataframe tbody tr th:only-of-type {\n",
       "        vertical-align: middle;\n",
       "    }\n",
       "\n",
       "    .dataframe tbody tr th {\n",
       "        vertical-align: top;\n",
       "    }\n",
       "\n",
       "    .dataframe thead th {\n",
       "        text-align: right;\n",
       "    }\n",
       "</style>\n",
       "<table border=\"1\" class=\"dataframe\">\n",
       "  <thead>\n",
       "    <tr style=\"text-align: right;\">\n",
       "      <th></th>\n",
       "      <th>Name</th>\n",
       "      <th>Age</th>\n",
       "      <th>City</th>\n",
       "    </tr>\n",
       "  </thead>\n",
       "  <tbody>\n",
       "    <tr>\n",
       "      <th>1</th>\n",
       "      <td>Bob</td>\n",
       "      <td>30</td>\n",
       "      <td>San Francisco</td>\n",
       "    </tr>\n",
       "    <tr>\n",
       "      <th>2</th>\n",
       "      <td>Charlie</td>\n",
       "      <td>35</td>\n",
       "      <td>Los Angeles</td>\n",
       "    </tr>\n",
       "    <tr>\n",
       "      <th>3</th>\n",
       "      <td>David</td>\n",
       "      <td>28</td>\n",
       "      <td>Chicago</td>\n",
       "    </tr>\n",
       "  </tbody>\n",
       "</table>\n",
       "</div>"
      ],
      "text/plain": [
       "      Name  Age           City\n",
       "1      Bob   30  San Francisco\n",
       "2  Charlie   35    Los Angeles\n",
       "3    David   28        Chicago"
      ]
     },
     "execution_count": 15,
     "metadata": {},
     "output_type": "execute_result"
    }
   ],
   "source": [
    "high_above_102 = df[df['Age'] > 25]\n",
    "high_above_102"
   ]
  },
  {
   "cell_type": "markdown",
   "id": "68cdfee4-e708-49a5-a5e4-a254c2067e2f",
   "metadata": {},
   "source": [
    "### Guardando DataFrames:\n",
    "Para guardar un DataFrame en un archivo CSV, utiliza el método to_csv y especifica el nombre del archivo con la extensión “.csv”. Pandas proporciona otras funciones para guardar DataFrames en diferentes formatos.\n",
    "\n",
    "```python\n",
    "df.to_csv('trading_data.csv', index=False)\n",
    "```"
   ]
  },
  {
   "cell_type": "markdown",
   "id": "0d00b977-350a-4ee4-b035-975a79deea1b",
   "metadata": {},
   "source": [
    "## Atributos y Métodos de DataFrame\n",
    "Los DataFrames proporcionan numerosos atributos y métodos para la manipulación y análisis de datos, incluyendo:\n",
    "\n",
    "- shape: Devuelve las dimensiones (número de filas y columnas) del DataFrame.\n",
    "- info(): Proporciona un resumen del DataFrame, incluyendo tipos de datos y conteos de valores no nulos.\n",
    "- describe(): Genera estadísticas resumidas para columnas numéricas.\n",
    "- head(), tail(): Muestra las primeras o últimas n filas del DataFrame.\n",
    "- mean(), sum(), min(), max(): Calcula estadísticas resumidas para columnas.\n",
    "- sort_values(): Ordena el DataFrame por una o más columnas.\n",
    "- groupby(): Agrupa datos basados en columnas específicas para agregación.\n",
    "- fillna(), drop(), rename(): Maneja valores faltantes, elimina columnas o renombra columnas.\n",
    "- apply(): Aplica una función a cada elemento, fila o columna del DataFrame.\n",
    "\n",
    "Pandas ofrece una amplia gama de métodos más allá de estos ejemplos. Para obtener información más detallada, consulte la documentación oficial disponible en el sitio web oficial de Pandas.\n",
    "\n",
    "## Conclusión\n",
    "En conclusión, dominar el uso de Pandas Series y DataFrames es esencial para una manipulación y análisis de datos efectivos en Python. Las Series proporcionan una base para manejar datos unidimensionales con etiquetas, mientras que los DataFrames ofrecen una estructura versátil, similar a una tabla, para trabajar con datos bidimensionales. Ya sea que estés limpiando, explorando, transformando o analizando datos, estas estructuras de datos de Pandas, junto con sus atributos y métodos, te permiten manipular datos de manera eficiente y flexible para obtener valiosos insights. Al incorporar Series y DataFrames en tu conjunto de herramientas de ciencia de datos, estarás bien preparado para abordar una amplia gama de tareas relacionadas con datos y mejorar tus capacidades de análisis de datos.\n",
    "Para avanzar en tus habilidades en análisis de datos con Pandas, considera los siguientes próximos pasos:\n",
    "\n",
    "Práctica:\n",
    "Trabaja con conjuntos de datos reales para aplicar lo que has aprendido y ganar experiencia práctica.\n",
    "\n",
    "Explorar la Documentación:\n",
    "Visita el sitio web oficial de Pandas para explorar la extensa documentación y descubrir más funciones y métodos.\n",
    "\n",
    "<link>https://pandas.pydata.org/docs/<link>"
   ]
  },
  {
   "cell_type": "code",
   "execution_count": null,
   "id": "8e828387-9279-46c1-b2c0-595862858213",
   "metadata": {},
   "outputs": [],
   "source": []
  }
 ],
 "metadata": {
  "kernelspec": {
   "display_name": "Python 3 (ipykernel)",
   "language": "python",
   "name": "python3"
  },
  "language_info": {
   "codemirror_mode": {
    "name": "ipython",
    "version": 3
   },
   "file_extension": ".py",
   "mimetype": "text/x-python",
   "name": "python",
   "nbconvert_exporter": "python",
   "pygments_lexer": "ipython3",
   "version": "3.12.8"
  }
 },
 "nbformat": 4,
 "nbformat_minor": 5
}
